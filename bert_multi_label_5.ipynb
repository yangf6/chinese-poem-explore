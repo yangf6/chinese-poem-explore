{
 "cells": [
  {
   "cell_type": "code",
   "execution_count": 20,
   "metadata": {},
   "outputs": [],
   "source": [
    "import logging\n",
    "import pandas as pd\n",
    "from sklearn.model_selection import train_test_split\n",
    "import os.path\n",
    "from os import path\n",
    "import pandas as pd\n",
    "import numpy as np\n",
    "import base64\n",
    "import re\n",
    "import matplotlib.pyplot as plt"
   ]
  },
  {
   "cell_type": "code",
   "execution_count": 2,
   "metadata": {},
   "outputs": [],
   "source": [
    "from transformers import TFBertModel,  BertConfig, BertTokenizerFast\n",
    "\n",
    "# Then what you need from tensorflow.keras\n",
    "from tensorflow.keras.layers import Input, Dropout, Dense\n",
    "from tensorflow.keras.models import Model, save_model, load_model\n",
    "from tensorflow.keras.optimizers import Adam\n",
    "from tensorflow.keras.callbacks import EarlyStopping\n",
    "from tensorflow.keras.initializers import TruncatedNormal\n",
    "from tensorflow.keras.losses import CategoricalCrossentropy\n",
    "from tensorflow.keras.metrics import CategoricalAccuracy\n",
    "from tensorflow.keras.utils import to_categorical"
   ]
  },
  {
   "cell_type": "code",
   "execution_count": 3,
   "metadata": {},
   "outputs": [],
   "source": [
    "import logging\n",
    "logging.basicConfig(format='%(asctime)s - %(levelname)s - %(name)s -   %(message)s',\n",
    "                    datefmt='%m/%d/%Y %H:%M:%S',\n",
    "                    level=logging.INFO)\n",
    "logger = logging.getLogger(__name__)"
   ]
  },
  {
   "cell_type": "code",
   "execution_count": 4,
   "metadata": {},
   "outputs": [],
   "source": [
    "file_name = \"poems_with_new_tags.zip\"\n",
    "poem_df = pd.read_csv('poems_with_new_tags.zip', compression='zip', header=0, quotechar='\"')\n"
   ]
  },
  {
   "cell_type": "code",
   "execution_count": 5,
   "metadata": {},
   "outputs": [],
   "source": [
    "poems_info = poem_df.drop(['star','author_stars','tags','tags_list','new_tags','new_first_tag'], axis=1)"
   ]
  },
  {
   "cell_type": "code",
   "execution_count": 6,
   "metadata": {},
   "outputs": [
    {
     "data": {
      "text/html": [
       "<div>\n",
       "<style scoped>\n",
       "    .dataframe tbody tr th:only-of-type {\n",
       "        vertical-align: middle;\n",
       "    }\n",
       "\n",
       "    .dataframe tbody tr th {\n",
       "        vertical-align: top;\n",
       "    }\n",
       "\n",
       "    .dataframe thead th {\n",
       "        text-align: right;\n",
       "    }\n",
       "</style>\n",
       "<table border=\"1\" class=\"dataframe\">\n",
       "  <thead>\n",
       "    <tr style=\"text-align: right;\">\n",
       "      <th></th>\n",
       "      <th>content</th>\n",
       "      <th>dynasty</th>\n",
       "      <th>author</th>\n",
       "      <th>title</th>\n",
       "      <th>写物</th>\n",
       "      <th>劝勉</th>\n",
       "      <th>家庭</th>\n",
       "      <th>快乐</th>\n",
       "      <th>悲苦</th>\n",
       "      <th>政治</th>\n",
       "      <th>朋友</th>\n",
       "      <th>游玩</th>\n",
       "    </tr>\n",
       "  </thead>\n",
       "  <tbody>\n",
       "    <tr>\n",
       "      <th>0</th>\n",
       "      <td>《吴都赋》云：“户藏烟浦，家具画船。”唯吴兴为然。春游之盛，西湖未能过也。己酉岁，予与萧时父...</td>\n",
       "      <td>宋代</td>\n",
       "      <td>姜夔</td>\n",
       "      <td>琵琶仙·《吴都赋》云：「户藏烟浦</td>\n",
       "      <td>0</td>\n",
       "      <td>0</td>\n",
       "      <td>0</td>\n",
       "      <td>0</td>\n",
       "      <td>0</td>\n",
       "      <td>1</td>\n",
       "      <td>0</td>\n",
       "      <td>1</td>\n",
       "    </tr>\n",
       "    <tr>\n",
       "      <th>1</th>\n",
       "      <td>《廿一史弹词》第三段说秦汉开场词滚滚长江东逝水，浪花淘尽英雄。是非成败转头空。青山依旧在，几...</td>\n",
       "      <td>明代</td>\n",
       "      <td>杨慎</td>\n",
       "      <td>临江仙·滚滚长江东逝水</td>\n",
       "      <td>1</td>\n",
       "      <td>1</td>\n",
       "      <td>0</td>\n",
       "      <td>0</td>\n",
       "      <td>1</td>\n",
       "      <td>1</td>\n",
       "      <td>0</td>\n",
       "      <td>0</td>\n",
       "    </tr>\n",
       "    <tr>\n",
       "      <th>2</th>\n",
       "      <td>《水经》云：“彭蠡之口有石钟山焉。”郦元以为下临深潭，微风鼓浪，水石相搏，声如洪钟。是说也，...</td>\n",
       "      <td>宋代</td>\n",
       "      <td>苏轼</td>\n",
       "      <td>石钟山记</td>\n",
       "      <td>1</td>\n",
       "      <td>0</td>\n",
       "      <td>0</td>\n",
       "      <td>0</td>\n",
       "      <td>0</td>\n",
       "      <td>1</td>\n",
       "      <td>0</td>\n",
       "      <td>1</td>\n",
       "    </tr>\n",
       "    <tr>\n",
       "      <th>3</th>\n",
       "      <td>【序】辛亥之冬，予载雪诣石湖。止既月，授简索句，且征新声，作此两曲。石湖把玩不已，使工妓隶习...</td>\n",
       "      <td>宋代</td>\n",
       "      <td>姜夔</td>\n",
       "      <td>暗香疏影</td>\n",
       "      <td>0</td>\n",
       "      <td>1</td>\n",
       "      <td>0</td>\n",
       "      <td>0</td>\n",
       "      <td>0</td>\n",
       "      <td>0</td>\n",
       "      <td>0</td>\n",
       "      <td>0</td>\n",
       "    </tr>\n",
       "    <tr>\n",
       "      <th>4</th>\n",
       "      <td>〔一枝花〕　　攀出墙朵朵花，折临路枝枝柳。花攀红蕊嫩，柳折翠条柔，浪子风流。凭着我折柳攀花手...</td>\n",
       "      <td>元代</td>\n",
       "      <td>关汉卿</td>\n",
       "      <td>【南吕】一枝花不伏老</td>\n",
       "      <td>1</td>\n",
       "      <td>0</td>\n",
       "      <td>0</td>\n",
       "      <td>1</td>\n",
       "      <td>1</td>\n",
       "      <td>0</td>\n",
       "      <td>0</td>\n",
       "      <td>0</td>\n",
       "    </tr>\n",
       "  </tbody>\n",
       "</table>\n",
       "</div>"
      ],
      "text/plain": [
       "                                             content dynasty author  \\\n",
       "0  《吴都赋》云：“户藏烟浦，家具画船。”唯吴兴为然。春游之盛，西湖未能过也。己酉岁，予与萧时父...      宋代     姜夔   \n",
       "1  《廿一史弹词》第三段说秦汉开场词滚滚长江东逝水，浪花淘尽英雄。是非成败转头空。青山依旧在，几...      明代     杨慎   \n",
       "2  《水经》云：“彭蠡之口有石钟山焉。”郦元以为下临深潭，微风鼓浪，水石相搏，声如洪钟。是说也，...      宋代     苏轼   \n",
       "3  【序】辛亥之冬，予载雪诣石湖。止既月，授简索句，且征新声，作此两曲。石湖把玩不已，使工妓隶习...      宋代     姜夔   \n",
       "4  〔一枝花〕　　攀出墙朵朵花，折临路枝枝柳。花攀红蕊嫩，柳折翠条柔，浪子风流。凭着我折柳攀花手...      元代    关汉卿   \n",
       "\n",
       "              title  写物  劝勉  家庭  快乐  悲苦  政治  朋友  游玩  \n",
       "0  琵琶仙·《吴都赋》云：「户藏烟浦   0   0   0   0   0   1   0   1  \n",
       "1       临江仙·滚滚长江东逝水   1   1   0   0   1   1   0   0  \n",
       "2              石钟山记   1   0   0   0   0   1   0   1  \n",
       "3              暗香疏影   0   1   0   0   0   0   0   0  \n",
       "4        【南吕】一枝花不伏老   1   0   0   1   1   0   0   0  "
      ]
     },
     "execution_count": 6,
     "metadata": {},
     "output_type": "execute_result"
    }
   ],
   "source": [
    "poems_info.head()"
   ]
  },
  {
   "cell_type": "code",
   "execution_count": 7,
   "metadata": {},
   "outputs": [],
   "source": [
    "OUTPUT_COLUMSN=['写物', '劝勉', '家庭', '快乐', '悲苦', '政治', '朋友', '游玩']"
   ]
  },
  {
   "cell_type": "code",
   "execution_count": 8,
   "metadata": {},
   "outputs": [],
   "source": [
    "data, data_test = train_test_split(poems_info, test_size = 0.2)"
   ]
  },
  {
   "cell_type": "code",
   "execution_count": 9,
   "metadata": {},
   "outputs": [
    {
     "name": "stderr",
     "output_type": "stream",
     "text": [
      "Some layers from the model checkpoint at bert-base-chinese were not used when initializing TFBertModel: ['nsp___cls', 'mlm___cls']\n",
      "- This IS expected if you are initializing TFBertModel from the checkpoint of a model trained on another task or with another architecture (e.g. initializing a BertForSequenceClassification model from a BertForPreTraining model).\n",
      "- This IS NOT expected if you are initializing TFBertModel from the checkpoint of a model that you expect to be exactly identical (initializing a BertForSequenceClassification model from a BertForSequenceClassification model).\n",
      "All the layers of TFBertModel were initialized from the model checkpoint at bert-base-chinese.\n",
      "If your task is similar to the task the model of the checkpoint was trained on, you can already use TFBertModel for predictions without further training.\n"
     ]
    }
   ],
   "source": [
    "# Name of the BERT model to use\n",
    "model_name = 'bert-base-chinese'\n",
    "# Max length of tokens\n",
    "max_length = 100\n",
    "# Load transformers config and set output_hidden_states to False\n",
    "config = BertConfig.from_pretrained(model_name)\n",
    "config.output_hidden_states = False\n",
    "# Load BERT tokenizer\n",
    "tokenizer = BertTokenizerFast.from_pretrained(pretrained_model_name_or_path = model_name, config = config)\n",
    "# Load the Transformers BERT model\n",
    "transformer_model = TFBertModel.from_pretrained(model_name, config = config)"
   ]
  },
  {
   "cell_type": "code",
   "execution_count": 10,
   "metadata": {},
   "outputs": [
    {
     "data": {
      "text/plain": [
       "Index(['content', 'dynasty', 'author', 'title', '写物', '劝勉', '家庭', '快乐', '悲苦',\n",
       "       '政治', '朋友', '游玩'],\n",
       "      dtype='object')"
      ]
     },
     "execution_count": 10,
     "metadata": {},
     "output_type": "execute_result"
    }
   ],
   "source": [
    "data.columns"
   ]
  },
  {
   "cell_type": "code",
   "execution_count": 11,
   "metadata": {},
   "outputs": [
    {
     "name": "stdout",
     "output_type": "stream",
     "text": [
      "Model: \"BERT_MultiLabel_MultiClass\"\n",
      "__________________________________________________________________________________________________\n",
      "Layer (type)                    Output Shape         Param #     Connected to                     \n",
      "==================================================================================================\n",
      "input_ids (InputLayer)          [(None, 100)]        0                                            \n",
      "__________________________________________________________________________________________________\n",
      "bert (TFBertMainLayer)          TFBaseModelOutputWit 102267648   input_ids[0][0]                  \n",
      "__________________________________________________________________________________________________\n",
      "pooled_output (Dropout)         (None, 768)          0           bert[0][1]                       \n",
      "__________________________________________________________________________________________________\n",
      "encourage_ (Dense)              (None, 2)            1538        pooled_output[0][0]              \n",
      "__________________________________________________________________________________________________\n",
      "family_ (Dense)                 (None, 2)            1538        pooled_output[0][0]              \n",
      "__________________________________________________________________________________________________\n",
      "friend_ (Dense)                 (None, 2)            1538        pooled_output[0][0]              \n",
      "__________________________________________________________________________________________________\n",
      "happiness_ (Dense)              (None, 2)            1538        pooled_output[0][0]              \n",
      "__________________________________________________________________________________________________\n",
      "object_ (Dense)                 (None, 2)            1538        pooled_output[0][0]              \n",
      "__________________________________________________________________________________________________\n",
      "policy_ (Dense)                 (None, 2)            1538        pooled_output[0][0]              \n",
      "__________________________________________________________________________________________________\n",
      "sadness_ (Dense)                (None, 2)            1538        pooled_output[0][0]              \n",
      "__________________________________________________________________________________________________\n",
      "travel_ (Dense)                 (None, 2)            1538        pooled_output[0][0]              \n",
      "==================================================================================================\n",
      "Total params: 102,279,952\n",
      "Trainable params: 102,279,952\n",
      "Non-trainable params: 0\n",
      "__________________________________________________________________________________________________\n"
     ]
    }
   ],
   "source": [
    "bert = transformer_model.layers[0]\n",
    "# Build your model input\n",
    "input_ids = Input(shape=(max_length,), name='input_ids', dtype='int32')\n",
    "inputs = {'input_ids': input_ids}\n",
    "# Load the Transformers BERT model as a layer in a Keras model\n",
    "bert_model = bert(inputs)[1]\n",
    "dropout = Dropout(config.hidden_dropout_prob, name='pooled_output')\n",
    "pooled_output = dropout(bert_model, training=False)\n",
    "# Then build your model output\n",
    "#'写物', '劝勉', '家庭', '快乐', '悲苦', '政治', '朋友', '游玩'\n",
    "object_ = Dense(units=len(data['写物'].value_counts()), \n",
    "                kernel_initializer=TruncatedNormal(stddev=config.initializer_range),\n",
    "                name='object_')(pooled_output)\n",
    "encourage_ = Dense(units=len(data['劝勉'].value_counts()), \n",
    "                   kernel_initializer=TruncatedNormal(stddev=config.initializer_range), \n",
    "                   name='encourage_')(pooled_output)\n",
    "family_ = Dense(units=len(data['家庭'].value_counts()), \n",
    "                kernel_initializer=TruncatedNormal(stddev=config.initializer_range), \n",
    "                name='family_')(pooled_output)\n",
    "happiness_ = Dense(units=len(data['快乐'].value_counts()), \n",
    "                   kernel_initializer=TruncatedNormal(stddev=config.initializer_range), \n",
    "                   name='happiness_')(pooled_output)\n",
    "sadness_ = Dense(units=len(data['悲苦'].value_counts()), \n",
    "                 kernel_initializer=TruncatedNormal(stddev=config.initializer_range), \n",
    "                 name='sadness_')(pooled_output)\n",
    "policy_ = Dense(units=len(data['政治'].value_counts()), \n",
    "                kernel_initializer=TruncatedNormal(stddev=config.initializer_range), \n",
    "                name='policy_')(pooled_output)\n",
    "friend_ = Dense(units=len(data['朋友'].value_counts()), \n",
    "                kernel_initializer=TruncatedNormal(stddev=config.initializer_range), \n",
    "                name='friend_')(pooled_output)\n",
    "travel_ = Dense(units=len(data['游玩'].value_counts()), \n",
    "                kernel_initializer=TruncatedNormal(stddev=config.initializer_range), \n",
    "                name='travel_')(pooled_output)\n",
    "\n",
    "outputs = {'object_': object_, 'encourage_': encourage_, 'family_':family_, 'happiness_':happiness_,\\\n",
    "          'sadness_': sadness_, 'policy_': policy_, 'friend_': friend_, 'travel_': travel_}\n",
    "# And combine it all in a model object\n",
    "model = Model(inputs=inputs, outputs=outputs, name='BERT_MultiLabel_MultiClass')\n",
    "# Take a look at the model\n",
    "model.summary()"
   ]
  },
  {
   "cell_type": "code",
   "execution_count": null,
   "metadata": {},
   "outputs": [
    {
     "name": "stdout",
     "output_type": "stream",
     "text": [
      "Epoch 1/10\n",
      "123/123 [==============================] - 1775s 14s/step - loss: 13.5904 - encourage__loss: 0.6220 - family__loss: 2.1511 - friend__loss: 0.8622 - happiness__loss: 0.5037 - object__loss: 0.6808 - policy__loss: 0.6980 - sadness__loss: 7.5724 - travel__loss: 0.5002 - encourage__accuracy: 0.2139 - family__accuracy: 0.0993 - friend__accuracy: 0.7940 - happiness__accuracy: 0.1351 - object__accuracy: 0.3772 - policy__accuracy: 0.3544 - sadness__accuracy: 0.5481 - travel__accuracy: 0.8048 - val_loss: 14.8123 - val_encourage__loss: 0.7142 - val_family__loss: 3.0685 - val_friend__loss: 0.4878 - val_happiness__loss: 0.4702 - val_object__loss: 0.6633 - val_policy__loss: 0.6904 - val_sadness__loss: 7.9188 - val_travel__loss: 0.7990 - val_encourage__accuracy: 0.2518 - val_family__accuracy: 0.0983 - val_friend__accuracy: 0.7943 - val_happiness__accuracy: 0.1494 - val_object__accuracy: 0.3726 - val_policy__accuracy: 0.3859 - val_sadness__accuracy: 0.5374 - val_travel__accuracy: 0.8117\n",
      "Epoch 2/10\n",
      "123/123 [==============================] - 1695s 14s/step - loss: 8.8720 - encourage__loss: 0.5597 - family__loss: 3.7862 - friend__loss: 0.5392 - happiness__loss: 0.4300 - object__loss: 0.6086 - policy__loss: 0.5805 - sadness__loss: 1.8454 - travel__loss: 0.5224 - encourage__accuracy: 0.2037 - family__accuracy: 0.0993 - friend__accuracy: 0.8099 - happiness__accuracy: 0.1331 - object__accuracy: 0.3135 - policy__accuracy: 0.2802 - sadness__accuracy: 0.6763 - travel__accuracy: 0.8227 - val_loss: 9.6276 - val_encourage__loss: 1.4326 - val_family__loss: 2.9696 - val_friend__loss: 0.8131 - val_happiness__loss: 0.8278 - val_object__loss: 0.7763 - val_policy__loss: 0.9943 - val_sadness__loss: 1.1114 - val_travel__loss: 0.7026 - val_encourage__accuracy: 0.2518 - val_family__accuracy: 0.0983 - val_friend__accuracy: 0.8045 - val_happiness__accuracy: 0.1464 - val_object__accuracy: 0.3634 - val_policy__accuracy: 0.3654 - val_sadness__accuracy: 0.6469 - val_travel__accuracy: 0.8035\n",
      "Epoch 3/10\n",
      "123/123 [==============================] - 1906s 15s/step - loss: 7.5637 - encourage__loss: 0.5694 - family__loss: 3.7960 - friend__loss: 0.5080 - happiness__loss: 0.5038 - object__loss: 0.6168 - policy__loss: 0.5289 - sadness__loss: 0.5840 - travel__loss: 0.4569 - encourage__accuracy: 0.1876 - family__accuracy: 0.4918 - friend__accuracy: 0.8071 - happiness__accuracy: 0.1331 - object__accuracy: 0.2894 - policy__accuracy: 0.2188 - sadness__accuracy: 0.7410 - travel__accuracy: 0.8339 - val_loss: 6.5489 - val_encourage__loss: 1.0907 - val_family__loss: 0.3512 - val_friend__loss: 0.5016 - val_happiness__loss: 0.5713 - val_object__loss: 0.7844 - val_policy__loss: 1.4895 - val_sadness__loss: 0.9439 - val_travel__loss: 0.8163 - val_encourage__accuracy: 0.2508 - val_family__accuracy: 0.9017 - val_friend__accuracy: 0.8260 - val_happiness__accuracy: 0.1484 - val_object__accuracy: 0.3613 - val_policy__accuracy: 0.3726 - val_sadness__accuracy: 0.6387 - val_travel__accuracy: 0.8076\n",
      "Epoch 4/10\n",
      "123/123 [==============================] - 1937s 16s/step - loss: 4.0905 - encourage__loss: 0.5668 - family__loss: 0.5108 - friend__loss: 0.4306 - happiness__loss: 0.4893 - object__loss: 0.5574 - policy__loss: 0.4733 - sadness__loss: 0.6387 - travel__loss: 0.4236 - encourage__accuracy: 0.1819 - family__accuracy: 0.9007 - friend__accuracy: 0.8257 - happiness__accuracy: 0.1241 - object__accuracy: 0.2648 - policy__accuracy: 0.2011 - sadness__accuracy: 0.7597 - travel__accuracy: 0.8401 - val_loss: 8.8198 - val_encourage__loss: 1.5459 - val_family__loss: 0.6016 - val_friend__loss: 0.8574 - val_happiness__loss: 0.8257 - val_object__loss: 1.0938 - val_policy__loss: 1.6473 - val_sadness__loss: 1.2022 - val_travel__loss: 1.0459 - val_encourage__accuracy: 0.2528 - val_family__accuracy: 0.9017 - val_friend__accuracy: 0.8270 - val_happiness__accuracy: 0.1484 - val_object__accuracy: 0.4104 - val_policy__accuracy: 0.3756 - val_sadness__accuracy: 0.6438 - val_travel__accuracy: 0.8117\n",
      "Epoch 5/10\n",
      "123/123 [==============================] - 1953s 16s/step - loss: 4.4576 - encourage__loss: 0.7574 - family__loss: 0.4590 - friend__loss: 0.4331 - happiness__loss: 0.5592 - object__loss: 0.5470 - policy__loss: 0.4786 - sadness__loss: 0.7906 - travel__loss: 0.4327 - encourage__accuracy: 0.1638 - family__accuracy: 0.9007 - friend__accuracy: 0.8419 - happiness__accuracy: 0.1175 - object__accuracy: 0.2423 - policy__accuracy: 0.1653 - sadness__accuracy: 0.7799 - travel__accuracy: 0.8557 - val_loss: 8.7547 - val_encourage__loss: 1.6180 - val_family__loss: 0.3939 - val_friend__loss: 0.7874 - val_happiness__loss: 1.0797 - val_object__loss: 0.9365 - val_policy__loss: 1.5950 - val_sadness__loss: 1.3285 - val_travel__loss: 1.0156 - val_encourage__accuracy: 0.2518 - val_family__accuracy: 0.9017 - val_friend__accuracy: 0.8291 - val_happiness__accuracy: 0.1556 - val_object__accuracy: 0.3838 - val_policy__accuracy: 0.3849 - val_sadness__accuracy: 0.6182 - val_travel__accuracy: 0.7789\n",
      "Epoch 6/10\n",
      "123/123 [==============================] - 1662s 14s/step - loss: 6.1707 - encourage__loss: 1.4286 - family__loss: 0.3771 - friend__loss: 0.5135 - happiness__loss: 0.7701 - object__loss: 0.5498 - policy__loss: 0.4637 - sadness__loss: 1.3974 - travel__loss: 0.6705 - encourage__accuracy: 0.1512 - family__accuracy: 0.9007 - friend__accuracy: 0.8506 - happiness__accuracy: 0.1205 - object__accuracy: 0.2323 - policy__accuracy: 0.1546 - sadness__accuracy: 0.7971 - travel__accuracy: 0.8664 - val_loss: 10.3353 - val_encourage__loss: 2.1166 - val_family__loss: 0.4473 - val_friend__loss: 0.8649 - val_happiness__loss: 1.2205 - val_object__loss: 1.3897 - val_policy__loss: 1.7264 - val_sadness__loss: 1.6446 - val_travel__loss: 0.9254 - val_encourage__accuracy: 0.3224 - val_family__accuracy: 0.9017 - val_friend__accuracy: 0.8086 - val_happiness__accuracy: 0.1546 - val_object__accuracy: 0.3982 - val_policy__accuracy: 0.3787 - val_sadness__accuracy: 0.6233 - val_travel__accuracy: 0.7615\n",
      "Epoch 7/10\n",
      "123/123 [==============================] - 1890s 15s/step - loss: 14.4814 - encourage__loss: 2.4774 - family__loss: 0.5025 - friend__loss: 2.7230 - happiness__loss: 2.6127 - object__loss: 1.3264 - policy__loss: 0.6692 - sadness__loss: 2.3389 - travel__loss: 1.8312 - encourage__accuracy: 0.4368 - family__accuracy: 0.8999 - friend__accuracy: 0.8066 - happiness__accuracy: 0.1940 - object__accuracy: 0.2518 - policy__accuracy: 0.1873 - sadness__accuracy: 0.7405 - travel__accuracy: 0.7503 - val_loss: 9.6889 - val_encourage__loss: 0.6099 - val_family__loss: 1.1800 - val_friend__loss: 0.7275 - val_happiness__loss: 1.8216 - val_object__loss: 3.0852 - val_policy__loss: 0.7737 - val_sadness__loss: 0.8626 - val_travel__loss: 0.6285 - val_encourage__accuracy: 0.7451 - val_family__accuracy: 0.9017 - val_friend__accuracy: 0.2497 - val_happiness__accuracy: 0.8280 - val_object__accuracy: 0.4023 - val_policy__accuracy: 0.4893 - val_sadness__accuracy: 0.5353 - val_travel__accuracy: 0.1955\n",
      "Epoch 8/10\n",
      "123/123 [==============================] - 1165s 9s/step - loss: 4.6861 - encourage__loss: 0.5192 - family__loss: 0.4844 - friend__loss: 0.5623 - happiness__loss: 0.5777 - object__loss: 0.7279 - policy__loss: 0.5688 - sadness__loss: 0.6910 - travel__loss: 0.5547 - encourage__accuracy: 0.7845 - family__accuracy: 0.9007 - friend__accuracy: 0.2183 - happiness__accuracy: 0.8557 - object__accuracy: 0.3073 - policy__accuracy: 0.2666 - sadness__accuracy: 0.3577 - travel__accuracy: 0.1998 - val_loss: 7.3848 - val_encourage__loss: 0.6101 - val_family__loss: 0.3861 - val_friend__loss: 0.5309 - val_happiness__loss: 1.2023 - val_object__loss: 1.1926 - val_policy__loss: 1.9318 - val_sadness__loss: 0.9678 - val_travel__loss: 0.5633 - val_encourage__accuracy: 0.7451 - val_family__accuracy: 0.9017 - val_friend__accuracy: 0.2129 - val_happiness__accuracy: 0.8506 - val_object__accuracy: 0.4074 - val_policy__accuracy: 0.3777 - val_sadness__accuracy: 0.3797 - val_travel__accuracy: 0.1914\n",
      "Epoch 9/10\n"
     ]
    },
    {
     "name": "stdout",
     "output_type": "stream",
     "text": [
      "123/123 [==============================] - 1051s 9s/step - loss: 4.1312 - encourage__loss: 0.4760 - family__loss: 0.4123 - friend__loss: 0.5080 - happiness__loss: 0.4957 - object__loss: 0.6076 - policy__loss: 0.5242 - sadness__loss: 0.6164 - travel__loss: 0.4910 - encourage__accuracy: 0.7848 - family__accuracy: 0.9007 - friend__accuracy: 0.2078 - happiness__accuracy: 0.8713 - object__accuracy: 0.2615 - policy__accuracy: 0.1753 - sadness__accuracy: 0.2462 - travel__accuracy: 0.1968 - val_loss: 8.1973 - val_encourage__loss: 0.8037 - val_family__loss: 0.4502 - val_friend__loss: 0.6411 - val_happiness__loss: 1.1157 - val_object__loss: 1.1812 - val_policy__loss: 2.3461 - val_sadness__loss: 1.0969 - val_travel__loss: 0.5624 - val_encourage__accuracy: 0.7451 - val_family__accuracy: 0.9017 - val_friend__accuracy: 0.2129 - val_happiness__accuracy: 0.8434 - val_object__accuracy: 0.3961 - val_policy__accuracy: 0.3777 - val_sadness__accuracy: 0.3685 - val_travel__accuracy: 0.1914\n",
      "Epoch 10/10\n",
      "102/123 [=======================>......] - ETA: 2:46 - loss: 4.1153 - encourage__loss: 0.4820 - family__loss: 0.4215 - friend__loss: 0.5324 - happiness__loss: 0.4689 - object__loss: 0.6360 - policy__loss: 0.5233 - sadness__loss: 0.5879 - travel__loss: 0.4635 - encourage__accuracy: 0.7837 - family__accuracy: 0.8998 - friend__accuracy: 0.2068 - happiness__accuracy: 0.8787 - object__accuracy: 0.2396 - policy__accuracy: 0.1547 - sadness__accuracy: 0.2261 - travel__accuracy: 0.1949"
     ]
    }
   ],
   "source": [
    "# Set an optimizer\n",
    "optimizer = Adam(\n",
    "    learning_rate=5e-05,\n",
    "    epsilon=1e-08,\n",
    "    decay=0.01,\n",
    "    clipnorm=1.0)\n",
    "# Set loss and metrics\n",
    "loss = {'object_': CategoricalCrossentropy(from_logits = False), \n",
    "        'encourage_': CategoricalCrossentropy(from_logits = False), \n",
    "        'family_':CategoricalCrossentropy(from_logits = False), \n",
    "        'happiness_':CategoricalCrossentropy(from_logits = False),\n",
    "        'sadness_': CategoricalCrossentropy(from_logits = False), \n",
    "        'policy_': CategoricalCrossentropy(from_logits = False), \n",
    "        'friend_': CategoricalCrossentropy(from_logits = False), \n",
    "        'travel_': CategoricalCrossentropy(from_logits = False)}\n",
    "metric = {'object_': CategoricalAccuracy('accuracy'), \n",
    "        'encourage_': CategoricalAccuracy('accuracy'), \n",
    "        'family_':CategoricalAccuracy('accuracy'), \n",
    "        'happiness_':CategoricalAccuracy('accuracy'),\n",
    "        'sadness_': CategoricalAccuracy('accuracy'), \n",
    "        'policy_': CategoricalAccuracy('accuracy'), \n",
    "        'friend_': CategoricalAccuracy('accuracy'), \n",
    "        'travel_': CategoricalAccuracy('accuracy')}\n",
    "# Compile the model\n",
    "model.compile(\n",
    "    optimizer = optimizer,\n",
    "    loss = loss, \n",
    "    metrics = metric)\n",
    "# Ready output data for the model\n",
    "##'写物', '劝勉', '家庭', '快乐', '悲苦', '政治', '朋友', '游玩'\n",
    "object_y = to_categorical(data['写物'])\n",
    "encourage_y = to_categorical(data['劝勉'])\n",
    "family_y = to_categorical(data['家庭'])\n",
    "happiness_y = to_categorical(data['快乐'])\n",
    "sadness_y = to_categorical(data['悲苦'])\n",
    "policy_y = to_categorical(data['政治'])\n",
    "friend_y = to_categorical(data['朋友'])\n",
    "travel_y =to_categorical(data['游玩'])\n",
    "y_list = {'object_': object_y, 'encourage_': encourage_y, 'family_':family_y, \n",
    "          'happiness_':happiness_y,'sadness_': sadness_y, 'policy_': policy_y, \n",
    "          'friend_': friend_y, 'travel_': travel_y}\n",
    "# Tokenize the input (takes some time)\n",
    "x = tokenizer(\n",
    "    text=data['content'].to_list(),\n",
    "    add_special_tokens=True,\n",
    "    max_length=max_length,\n",
    "    truncation=True,\n",
    "    padding=True, \n",
    "    return_tensors='tf',\n",
    "    return_token_type_ids = False,\n",
    "    return_attention_mask = False,\n",
    "    verbose = True)\n",
    "# Fit the model\n",
    "history = model.fit(\n",
    "    x={'input_ids': x['input_ids']},\n",
    "    y=y_list,\n",
    "    validation_split=0.2,\n",
    "    batch_size=32,\n",
    "    epochs=10)"
   ]
  },
  {
   "cell_type": "code",
   "execution_count": 13,
   "metadata": {},
   "outputs": [],
   "source": [
    "# Ready test data\n",
    "test_object_y = to_categorical(data_test['写物'])\n",
    "test_encourage_y = to_categorical(data_test['劝勉'])\n",
    "test_family_y = to_categorical(data_test['家庭'])\n",
    "test_happiness_y = to_categorical(data_test['快乐'])\n",
    "test_sadness_y = to_categorical(data_test['悲苦'])\n",
    "test_policy_y = to_categorical(data_test['政治'])\n",
    "test_friend_y = to_categorical(data_test['朋友'])\n",
    "test_travel_y =to_categorical(data_test['游玩'])\n",
    "test_x = tokenizer(\n",
    "    text=data_test['content'].to_list(),\n",
    "    add_special_tokens=True,\n",
    "    max_length=max_length,\n",
    "    truncation=True,\n",
    "    padding=True, \n",
    "    return_tensors='tf',\n",
    "    return_token_type_ids = False,\n",
    "    return_attention_mask = False,\n",
    "    verbose = True)\n",
    "\n"
   ]
  },
  {
   "cell_type": "code",
   "execution_count": 14,
   "metadata": {},
   "outputs": [
    {
     "name": "stdout",
     "output_type": "stream",
     "text": [
      "39/39 [==============================] - 101s 3s/step - loss: 5.4043 - encourage__loss: 0.6496 - family__loss: 0.3929 - friend__loss: 0.5752 - happiness__loss: 0.7650 - object__loss: 0.7017 - policy__loss: 0.7116 - sadness__loss: 1.0343 - travel__loss: 0.5740 - encourage__accuracy: 0.2128 - family__accuracy: 0.0917 - friend__accuracy: 0.7905 - happiness__accuracy: 0.1252 - object__accuracy: 0.3592 - policy__accuracy: 0.3699 - sadness__accuracy: 0.6563 - travel__accuracy: 0.8052\n"
     ]
    }
   ],
   "source": [
    "# Run evaluation\n",
    "test_y_list = {'object_': test_object_y, 'encourage_': test_encourage_y, 'family_':test_family_y, \n",
    "          'happiness_':test_happiness_y,'sadness_': test_sadness_y, 'policy_': test_policy_y, \n",
    "          'friend_': test_friend_y, 'travel_': test_travel_y}\n",
    "model_eval = model.evaluate(\n",
    "    x={'input_ids': test_x['input_ids']},\n",
    "    y=test_y_list\n",
    ")"
   ]
  },
  {
   "cell_type": "code",
   "execution_count": 27,
   "metadata": {},
   "outputs": [],
   "source": [
    "model_fit_history = pd.DataFrame(history.history)"
   ]
  },
  {
   "cell_type": "code",
   "execution_count": 29,
   "metadata": {},
   "outputs": [
    {
     "data": {
      "text/plain": [
       "Index(['loss', 'encourage__loss', 'family__loss', 'friend__loss',\n",
       "       'happiness__loss', 'object__loss', 'policy__loss', 'sadness__loss',\n",
       "       'travel__loss', 'encourage__accuracy', 'family__accuracy',\n",
       "       'friend__accuracy', 'happiness__accuracy', 'object__accuracy',\n",
       "       'policy__accuracy', 'sadness__accuracy', 'travel__accuracy', 'val_loss',\n",
       "       'val_encourage__loss', 'val_family__loss', 'val_friend__loss',\n",
       "       'val_happiness__loss', 'val_object__loss', 'val_policy__loss',\n",
       "       'val_sadness__loss', 'val_travel__loss', 'val_encourage__accuracy',\n",
       "       'val_family__accuracy', 'val_friend__accuracy',\n",
       "       'val_happiness__accuracy', 'val_object__accuracy',\n",
       "       'val_policy__accuracy', 'val_sadness__accuracy',\n",
       "       'val_travel__accuracy'],\n",
       "      dtype='object')"
      ]
     },
     "execution_count": 29,
     "metadata": {},
     "output_type": "execute_result"
    }
   ],
   "source": [
    "model_fit_history.columns"
   ]
  },
  {
   "cell_type": "code",
   "execution_count": 35,
   "metadata": {},
   "outputs": [],
   "source": [
    "col_acc = model_fit_history.loc[: , \"encourage__accuracy\":\"travel__accuracy\"]\n",
    "col_val_acc = model_fit_history.loc[: , \"val_encourage__accuracy\":\"val_travel__accuracy\"]\n",
    "col_loss = model_fit_history.loc[: , \"encourage__loss\":\"travel__loss\"]\n",
    "col_val_loss = model_fit_history.loc[: , \"val_encourage__loss\":\"val_travel__loss\"]\n",
    "# df['salary_mean'] = col.mean(axis=1)\n",
    "model_fit_history['acc'] = col_acc.mean(axis=1)\n",
    "model_fit_history['val_acc'] = col_val_acc.mean(axis=1)\n",
    "model_fit_history['loss'] = col_loss.mean(axis=1)\n",
    "model_fit_history['val_loss'] = col_val_loss.mean(axis=1)"
   ]
  },
  {
   "cell_type": "code",
   "execution_count": 38,
   "metadata": {},
   "outputs": [],
   "source": [
    "model_fit_history_subset = model_fit_history[['acc','val_acc','loss','val_loss']]"
   ]
  },
  {
   "cell_type": "code",
   "execution_count": 39,
   "metadata": {},
   "outputs": [
    {
     "data": {
      "image/png": "[encoded data removed]",
      "text/plain": [
       "<Figure size 432x288 with 1 Axes>"
      ]
     },
     "metadata": {
      "needs_background": "light"
     },
     "output_type": "display_data"
    },
    {
     "data": {
      "image/png": "[encoded data removed]",
      "text/plain": [
       "<Figure size 432x288 with 1 Axes>"
      ]
     },
     "metadata": {
      "needs_background": "light"
     },
     "output_type": "display_data"
    }
   ],
   "source": [
    "import matplotlib.pyplot as plt\n",
    "\n",
    "plt.plot(model_fit_history_subset['acc'])\n",
    "plt.plot(model_fit_history_subset['val_acc'])\n",
    "\n",
    "plt.title('model accuracy')\n",
    "plt.ylabel('accuracy')\n",
    "plt.xlabel('epoch')\n",
    "plt.legend(['train','test'], loc='upper left')\n",
    "plt.show()\n",
    "\n",
    "plt.plot(model_fit_history_subset['loss'])\n",
    "plt.plot(model_fit_history_subset['val_loss'])\n",
    "\n",
    "plt.title('model loss')\n",
    "plt.ylabel('loss')\n",
    "plt.xlabel('epoch')\n",
    "plt.legend(['train','test'], loc='upper left')\n",
    "plt.show()"
   ]
  },
  {
   "cell_type": "code",
   "execution_count": 15,
   "metadata": {},
   "outputs": [
    {
     "data": {
      "text/plain": [
       "[5.404347896575928,\n",
       " 0.6496298909187317,\n",
       " 0.39292004704475403,\n",
       " 0.5752416253089905,\n",
       " 0.7649996876716614,\n",
       " 0.7016807794570923,\n",
       " 0.7116059064865112,\n",
       " 1.0342761278152466,\n",
       " 0.573994517326355,\n",
       " 0.21276596188545227,\n",
       " 0.09165302664041519,\n",
       " 0.7905073761940002,\n",
       " 0.12520457804203033,\n",
       " 0.3592471480369568,\n",
       " 0.3698854446411133,\n",
       " 0.6563011407852173,\n",
       " 0.8052372932434082]"
      ]
     },
     "execution_count": 15,
     "metadata": {},
     "output_type": "execute_result"
    }
   ],
   "source": [
    "model_eval"
   ]
  },
  {
   "cell_type": "code",
   "execution_count": 19,
   "metadata": {},
   "outputs": [
    {
     "ename": "AttributeError",
     "evalue": "'Functional' object has no attribute 'save_model'",
     "output_type": "error",
     "traceback": [
      "\u001b[0;31m---------------------------------------------------------------------------\u001b[0m",
      "\u001b[0;31mAttributeError\u001b[0m                            Traceback (most recent call last)",
      "\u001b[0;32m<ipython-input-19-53eea534da00>\u001b[0m in \u001b[0;36m<module>\u001b[0;34m\u001b[0m\n\u001b[0;32m----> 1\u001b[0;31m \u001b[0mmodel\u001b[0m\u001b[0;34m.\u001b[0m\u001b[0msave_model\u001b[0m\u001b[0;34m(\u001b[0m\u001b[0;34m\"multi-label-model\"\u001b[0m\u001b[0;34m)\u001b[0m\u001b[0;34m\u001b[0m\u001b[0;34m\u001b[0m\u001b[0m\n\u001b[0m",
      "\u001b[0;31mAttributeError\u001b[0m: 'Functional' object has no attribute 'save_model'"
     ]
    }
   ],
   "source": [
    "# model.save(\"multi-label-model\")"
   ]
  },
  {
   "cell_type": "code",
   "execution_count": 16,
   "metadata": {},
   "outputs": [],
   "source": [
    "loaded_model = load_model('multi-label-model')"
   ]
  },
  {
   "cell_type": "code",
   "execution_count": 17,
   "metadata": {},
   "outputs": [
    {
     "name": "stdout",
     "output_type": "stream",
     "text": [
      "39/39 [==============================] - 100s 3s/step - loss: 3.0370 - encourage__loss: 0.3496 - family__loss: 0.2441 - friend__loss: 0.3287 - happiness__loss: 0.2842 - object__loss: 0.5102 - policy__loss: 0.4813 - sadness__loss: 0.5003 - travel__loss: 0.3386 - encourage__encourage__accuracy: 0.8658 - family__family__accuracy: 0.9182 - friend__friend__accuracy: 0.8773 - happiness__happiness__accuracy: 0.8936 - object__object__accuracy: 0.7651 - policy__policy__accuracy: 0.7930 - sadness__sadness__accuracy: 0.7823 - travel__travel__accuracy: 0.8732\n"
     ]
    }
   ],
   "source": [
    "loaded_model_eval = loaded_model.evaluate(\n",
    "    x={'input_ids': test_x['input_ids']},\n",
    "    y=test_y_list\n",
    ")"
   ]
  },
  {
   "cell_type": "code",
   "execution_count": 18,
   "metadata": {},
   "outputs": [
    {
     "data": {
      "text/plain": [
       "[3.036978006362915,\n",
       " 0.3496300280094147,\n",
       " 0.24406306445598602,\n",
       " 0.3287423253059387,\n",
       " 0.2842422425746918,\n",
       " 0.5101723074913025,\n",
       " 0.48128652572631836,\n",
       " 0.5002656579017639,\n",
       " 0.3385762870311737,\n",
       " 0.865793764591217,\n",
       " 0.9181669354438782,\n",
       " 0.8772504329681396,\n",
       " 0.8936170339584351,\n",
       " 0.765139102935791,\n",
       " 0.792962372303009,\n",
       " 0.7823240756988525,\n",
       " 0.8731587529182434]"
      ]
     },
     "execution_count": 18,
     "metadata": {},
     "output_type": "execute_result"
    }
   ],
   "source": [
    "loaded_model_eval"
   ]
  },
  {
   "cell_type": "code",
   "execution_count": null,
   "metadata": {},
   "outputs": [],
   "source": [
    "keras.metrics.top_k_categorical_accuracy(y_true, y_pred, k=5)\n"
   ]
  },
  {
   "cell_type": "code",
   "execution_count": 24,
   "metadata": {},
   "outputs": [],
   "source": [
    "# prediction=model.predict(test_x['input_ids'])"
   ]
  },
  {
   "cell_type": "code",
   "execution_count": 28,
   "metadata": {},
   "outputs": [
    {
     "data": {
      "text/plain": [
       "array([ 1.106571 , -1.1924883], dtype=float32)"
      ]
     },
     "execution_count": 28,
     "metadata": {},
     "output_type": "execute_result"
    }
   ],
   "source": [
    "prediction['encourage_'][9]"
   ]
  },
  {
   "cell_type": "code",
   "execution_count": 9,
   "metadata": {},
   "outputs": [
    {
     "ename": "NameError",
     "evalue": "name 'data_test' is not defined",
     "output_type": "error",
     "traceback": [
      "\u001b[0;31m---------------------------------------------------------------------------\u001b[0m",
      "\u001b[0;31mNameError\u001b[0m                                 Traceback (most recent call last)",
      "\u001b[0;32m<ipython-input-9-17e0581fc746>\u001b[0m in \u001b[0;36m<module>\u001b[0;34m\u001b[0m\n\u001b[0;32m----> 1\u001b[0;31m \u001b[0mdata_test\u001b[0m\u001b[0;34m.\u001b[0m\u001b[0mhead\u001b[0m\u001b[0;34m(\u001b[0m\u001b[0;34m)\u001b[0m\u001b[0;34m\u001b[0m\u001b[0;34m\u001b[0m\u001b[0m\n\u001b[0m",
      "\u001b[0;31mNameError\u001b[0m: name 'data_test' is not defined"
     ]
    }
   ],
   "source": [
    "data_test.head()"
   ]
  },
  {
   "cell_type": "code",
   "execution_count": null,
   "metadata": {},
   "outputs": [],
   "source": []
  }
 ],
 "metadata": {
  "kernelspec": {
   "display_name": "Python 3",
   "language": "python",
   "name": "python3"
  },
  "language_info": {
   "codemirror_mode": {
    "name": "ipython",
    "version": 3
   },
   "file_extension": ".py",
   "mimetype": "text/x-python",
   "name": "python",
   "nbconvert_exporter": "python",
   "pygments_lexer": "ipython3",
   "version": "3.8.3"
  }
 },
 "nbformat": 4,
 "nbformat_minor": 4
}
