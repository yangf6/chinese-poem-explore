{
 "cells": [
  {
   "cell_type": "code",
   "execution_count": 10,
   "metadata": {},
   "outputs": [],
   "source": [
    "import logging\n",
    "import pandas as pd\n",
    "from sklearn.model_selection import train_test_split\n",
    "import os.path\n",
    "from os import path\n",
    "import pandas as pd\n",
    "import numpy as np\n",
    "import base64\n",
    "import re"
   ]
  },
  {
   "cell_type": "code",
   "execution_count": 11,
   "metadata": {},
   "outputs": [],
   "source": [
    "from transformers import TFBertModel,  BertConfig, BertTokenizerFast\n",
    "\n",
    "# Then what you need from tensorflow.keras\n",
    "from tensorflow.keras.layers import Input, Dropout, Dense\n",
    "from tensorflow.keras.models import Model, save_model, load_model\n",
    "from tensorflow.keras.optimizers import Adam\n",
    "from tensorflow.keras.callbacks import EarlyStopping\n",
    "from tensorflow.keras.initializers import TruncatedNormal\n",
    "from tensorflow.keras.losses import CategoricalCrossentropy\n",
    "from tensorflow.keras.metrics import CategoricalAccuracy\n",
    "from tensorflow.keras.utils import to_categorical"
   ]
  },
  {
   "cell_type": "code",
   "execution_count": 12,
   "metadata": {},
   "outputs": [],
   "source": [
    "import logging\n",
    "logging.basicConfig(format='%(asctime)s - %(levelname)s - %(name)s -   %(message)s',\n",
    "                    datefmt='%m/%d/%Y %H:%M:%S',\n",
    "                    level=logging.INFO)\n",
    "logger = logging.getLogger(__name__)"
   ]
  },
  {
   "cell_type": "code",
   "execution_count": 13,
   "metadata": {},
   "outputs": [],
   "source": [
    "file_name = \"poems_with_new_tags.zip\"\n",
    "poem_df = pd.read_csv('poems_with_new_tags.zip', compression='zip', header=0, quotechar='\"')\n"
   ]
  },
  {
   "cell_type": "code",
   "execution_count": 14,
   "metadata": {},
   "outputs": [],
   "source": [
    "poems_info = poem_df.drop(['star','author_stars','tags','tags_list','new_tags','new_first_tag'], axis=1)"
   ]
  },
  {
   "cell_type": "code",
   "execution_count": 15,
   "metadata": {},
   "outputs": [
    {
     "data": {
      "text/html": [
       "<div>\n",
       "<style scoped>\n",
       "    .dataframe tbody tr th:only-of-type {\n",
       "        vertical-align: middle;\n",
       "    }\n",
       "\n",
       "    .dataframe tbody tr th {\n",
       "        vertical-align: top;\n",
       "    }\n",
       "\n",
       "    .dataframe thead th {\n",
       "        text-align: right;\n",
       "    }\n",
       "</style>\n",
       "<table border=\"1\" class=\"dataframe\">\n",
       "  <thead>\n",
       "    <tr style=\"text-align: right;\">\n",
       "      <th></th>\n",
       "      <th>content</th>\n",
       "      <th>dynasty</th>\n",
       "      <th>author</th>\n",
       "      <th>title</th>\n",
       "      <th>写物</th>\n",
       "      <th>劝勉</th>\n",
       "      <th>家庭</th>\n",
       "      <th>快乐</th>\n",
       "      <th>悲苦</th>\n",
       "      <th>政治</th>\n",
       "      <th>朋友</th>\n",
       "      <th>游玩</th>\n",
       "    </tr>\n",
       "  </thead>\n",
       "  <tbody>\n",
       "    <tr>\n",
       "      <th>0</th>\n",
       "      <td>《吴都赋》云：“户藏烟浦，家具画船。”唯吴兴为然。春游之盛，西湖未能过也。己酉岁，予与萧时父...</td>\n",
       "      <td>宋代</td>\n",
       "      <td>姜夔</td>\n",
       "      <td>琵琶仙·《吴都赋》云：「户藏烟浦</td>\n",
       "      <td>0</td>\n",
       "      <td>0</td>\n",
       "      <td>0</td>\n",
       "      <td>0</td>\n",
       "      <td>0</td>\n",
       "      <td>1</td>\n",
       "      <td>0</td>\n",
       "      <td>1</td>\n",
       "    </tr>\n",
       "    <tr>\n",
       "      <th>1</th>\n",
       "      <td>《廿一史弹词》第三段说秦汉开场词滚滚长江东逝水，浪花淘尽英雄。是非成败转头空。青山依旧在，几...</td>\n",
       "      <td>明代</td>\n",
       "      <td>杨慎</td>\n",
       "      <td>临江仙·滚滚长江东逝水</td>\n",
       "      <td>1</td>\n",
       "      <td>1</td>\n",
       "      <td>0</td>\n",
       "      <td>0</td>\n",
       "      <td>1</td>\n",
       "      <td>1</td>\n",
       "      <td>0</td>\n",
       "      <td>0</td>\n",
       "    </tr>\n",
       "    <tr>\n",
       "      <th>2</th>\n",
       "      <td>《水经》云：“彭蠡之口有石钟山焉。”郦元以为下临深潭，微风鼓浪，水石相搏，声如洪钟。是说也，...</td>\n",
       "      <td>宋代</td>\n",
       "      <td>苏轼</td>\n",
       "      <td>石钟山记</td>\n",
       "      <td>1</td>\n",
       "      <td>0</td>\n",
       "      <td>0</td>\n",
       "      <td>0</td>\n",
       "      <td>0</td>\n",
       "      <td>1</td>\n",
       "      <td>0</td>\n",
       "      <td>1</td>\n",
       "    </tr>\n",
       "    <tr>\n",
       "      <th>3</th>\n",
       "      <td>【序】辛亥之冬，予载雪诣石湖。止既月，授简索句，且征新声，作此两曲。石湖把玩不已，使工妓隶习...</td>\n",
       "      <td>宋代</td>\n",
       "      <td>姜夔</td>\n",
       "      <td>暗香疏影</td>\n",
       "      <td>0</td>\n",
       "      <td>1</td>\n",
       "      <td>0</td>\n",
       "      <td>0</td>\n",
       "      <td>0</td>\n",
       "      <td>0</td>\n",
       "      <td>0</td>\n",
       "      <td>0</td>\n",
       "    </tr>\n",
       "    <tr>\n",
       "      <th>4</th>\n",
       "      <td>〔一枝花〕　　攀出墙朵朵花，折临路枝枝柳。花攀红蕊嫩，柳折翠条柔，浪子风流。凭着我折柳攀花手...</td>\n",
       "      <td>元代</td>\n",
       "      <td>关汉卿</td>\n",
       "      <td>【南吕】一枝花不伏老</td>\n",
       "      <td>1</td>\n",
       "      <td>0</td>\n",
       "      <td>0</td>\n",
       "      <td>1</td>\n",
       "      <td>1</td>\n",
       "      <td>0</td>\n",
       "      <td>0</td>\n",
       "      <td>0</td>\n",
       "    </tr>\n",
       "  </tbody>\n",
       "</table>\n",
       "</div>"
      ],
      "text/plain": [
       "                                             content dynasty author  \\\n",
       "0  《吴都赋》云：“户藏烟浦，家具画船。”唯吴兴为然。春游之盛，西湖未能过也。己酉岁，予与萧时父...      宋代     姜夔   \n",
       "1  《廿一史弹词》第三段说秦汉开场词滚滚长江东逝水，浪花淘尽英雄。是非成败转头空。青山依旧在，几...      明代     杨慎   \n",
       "2  《水经》云：“彭蠡之口有石钟山焉。”郦元以为下临深潭，微风鼓浪，水石相搏，声如洪钟。是说也，...      宋代     苏轼   \n",
       "3  【序】辛亥之冬，予载雪诣石湖。止既月，授简索句，且征新声，作此两曲。石湖把玩不已，使工妓隶习...      宋代     姜夔   \n",
       "4  〔一枝花〕　　攀出墙朵朵花，折临路枝枝柳。花攀红蕊嫩，柳折翠条柔，浪子风流。凭着我折柳攀花手...      元代    关汉卿   \n",
       "\n",
       "              title  写物  劝勉  家庭  快乐  悲苦  政治  朋友  游玩  \n",
       "0  琵琶仙·《吴都赋》云：「户藏烟浦   0   0   0   0   0   1   0   1  \n",
       "1       临江仙·滚滚长江东逝水   1   1   0   0   1   1   0   0  \n",
       "2              石钟山记   1   0   0   0   0   1   0   1  \n",
       "3              暗香疏影   0   1   0   0   0   0   0   0  \n",
       "4        【南吕】一枝花不伏老   1   0   0   1   1   0   0   0  "
      ]
     },
     "execution_count": 15,
     "metadata": {},
     "output_type": "execute_result"
    }
   ],
   "source": [
    "poems_info.head()"
   ]
  },
  {
   "cell_type": "code",
   "execution_count": 16,
   "metadata": {},
   "outputs": [],
   "source": [
    "OUTPUT_COLUMSN=['写物', '劝勉', '家庭', '快乐', '悲苦', '政治', '朋友', '游玩']"
   ]
  },
  {
   "cell_type": "code",
   "execution_count": 17,
   "metadata": {},
   "outputs": [],
   "source": [
    "data, data_test = train_test_split(poems_info, test_size = 0.2)"
   ]
  },
  {
   "cell_type": "code",
   "execution_count": 18,
   "metadata": {},
   "outputs": [
    {
     "name": "stderr",
     "output_type": "stream",
     "text": [
      "Some layers from the model checkpoint at bert-base-chinese were not used when initializing TFBertModel: ['mlm___cls', 'nsp___cls']\n",
      "- This IS expected if you are initializing TFBertModel from the checkpoint of a model trained on another task or with another architecture (e.g. initializing a BertForSequenceClassification model from a BertForPreTraining model).\n",
      "- This IS NOT expected if you are initializing TFBertModel from the checkpoint of a model that you expect to be exactly identical (initializing a BertForSequenceClassification model from a BertForSequenceClassification model).\n",
      "All the layers of TFBertModel were initialized from the model checkpoint at bert-base-chinese.\n",
      "If your task is similar to the task the model of the checkpoint was trained on, you can already use TFBertModel for predictions without further training.\n"
     ]
    }
   ],
   "source": [
    "# Name of the BERT model to use\n",
    "model_name = 'bert-base-chinese'\n",
    "# Max length of tokens\n",
    "max_length = 100\n",
    "# Load transformers config and set output_hidden_states to False\n",
    "config = BertConfig.from_pretrained(model_name)\n",
    "config.output_hidden_states = False\n",
    "# Load BERT tokenizer\n",
    "tokenizer = BertTokenizerFast.from_pretrained(pretrained_model_name_or_path = model_name, config = config)\n",
    "# Load the Transformers BERT model\n",
    "transformer_model = TFBertModel.from_pretrained(model_name, config = config)"
   ]
  },
  {
   "cell_type": "code",
   "execution_count": 19,
   "metadata": {},
   "outputs": [
    {
     "data": {
      "text/plain": [
       "Index(['content', 'dynasty', 'author', 'title', '写物', '劝勉', '家庭', '快乐', '悲苦',\n",
       "       '政治', '朋友', '游玩'],\n",
       "      dtype='object')"
      ]
     },
     "execution_count": 19,
     "metadata": {},
     "output_type": "execute_result"
    }
   ],
   "source": [
    "data.columns"
   ]
  },
  {
   "cell_type": "code",
   "execution_count": 20,
   "metadata": {},
   "outputs": [
    {
     "name": "stdout",
     "output_type": "stream",
     "text": [
      "Model: \"BERT_MultiLabel_MultiClass\"\n",
      "__________________________________________________________________________________________________\n",
      "Layer (type)                    Output Shape         Param #     Connected to                     \n",
      "==================================================================================================\n",
      "input_ids (InputLayer)          [(None, 100)]        0                                            \n",
      "__________________________________________________________________________________________________\n",
      "bert (TFBertMainLayer)          TFBaseModelOutputWit 102267648   input_ids[0][0]                  \n",
      "__________________________________________________________________________________________________\n",
      "pooled_output (Dropout)         (None, 768)          0           bert[0][1]                       \n",
      "__________________________________________________________________________________________________\n",
      "encourage_ (Dense)              (None, 2)            1538        pooled_output[0][0]              \n",
      "__________________________________________________________________________________________________\n",
      "family_ (Dense)                 (None, 2)            1538        pooled_output[0][0]              \n",
      "__________________________________________________________________________________________________\n",
      "friend_ (Dense)                 (None, 2)            1538        pooled_output[0][0]              \n",
      "__________________________________________________________________________________________________\n",
      "happiness_ (Dense)              (None, 2)            1538        pooled_output[0][0]              \n",
      "__________________________________________________________________________________________________\n",
      "object_ (Dense)                 (None, 2)            1538        pooled_output[0][0]              \n",
      "__________________________________________________________________________________________________\n",
      "policy_ (Dense)                 (None, 2)            1538        pooled_output[0][0]              \n",
      "__________________________________________________________________________________________________\n",
      "sadness_ (Dense)                (None, 2)            1538        pooled_output[0][0]              \n",
      "__________________________________________________________________________________________________\n",
      "travel_ (Dense)                 (None, 2)            1538        pooled_output[0][0]              \n",
      "==================================================================================================\n",
      "Total params: 102,279,952\n",
      "Trainable params: 102,279,952\n",
      "Non-trainable params: 0\n",
      "__________________________________________________________________________________________________\n"
     ]
    }
   ],
   "source": [
    "bert = transformer_model.layers[0]\n",
    "# Build your model input\n",
    "input_ids = Input(shape=(max_length,), name='input_ids', dtype='int32')\n",
    "inputs = {'input_ids': input_ids}\n",
    "# Load the Transformers BERT model as a layer in a Keras model\n",
    "bert_model = bert(inputs)[1]\n",
    "dropout = Dropout(config.hidden_dropout_prob, name='pooled_output')\n",
    "pooled_output = dropout(bert_model, training=False)\n",
    "# Then build your model output\n",
    "#'写物', '劝勉', '家庭', '快乐', '悲苦', '政治', '朋友', '游玩'\n",
    "object_ = Dense(units=len(data['写物'].value_counts()), \n",
    "                kernel_initializer=TruncatedNormal(stddev=config.initializer_range),\n",
    "                name='object_')(pooled_output)\n",
    "encourage_ = Dense(units=len(data['劝勉'].value_counts()), \n",
    "                   kernel_initializer=TruncatedNormal(stddev=config.initializer_range), \n",
    "                   name='encourage_')(pooled_output)\n",
    "family_ = Dense(units=len(data['家庭'].value_counts()), \n",
    "                kernel_initializer=TruncatedNormal(stddev=config.initializer_range), \n",
    "                name='family_')(pooled_output)\n",
    "happiness_ = Dense(units=len(data['快乐'].value_counts()), \n",
    "                   kernel_initializer=TruncatedNormal(stddev=config.initializer_range), \n",
    "                   name='happiness_')(pooled_output)\n",
    "sadness_ = Dense(units=len(data['悲苦'].value_counts()), \n",
    "                 kernel_initializer=TruncatedNormal(stddev=config.initializer_range), \n",
    "                 name='sadness_')(pooled_output)\n",
    "policy_ = Dense(units=len(data['政治'].value_counts()), \n",
    "                kernel_initializer=TruncatedNormal(stddev=config.initializer_range), \n",
    "                name='policy_')(pooled_output)\n",
    "friend_ = Dense(units=len(data['朋友'].value_counts()), \n",
    "                kernel_initializer=TruncatedNormal(stddev=config.initializer_range), \n",
    "                name='friend_')(pooled_output)\n",
    "travel_ = Dense(units=len(data['游玩'].value_counts()), \n",
    "                kernel_initializer=TruncatedNormal(stddev=config.initializer_range), \n",
    "                name='travel_')(pooled_output)\n",
    "\n",
    "outputs = {'object_': object_, 'encourage_': encourage_, 'family_':family_, 'happiness_':happiness_,\\\n",
    "          'sadness_': sadness_, 'policy_': policy_, 'friend_': friend_, 'travel_': travel_}\n",
    "# And combine it all in a model object\n",
    "model = Model(inputs=inputs, outputs=outputs, name='BERT_MultiLabel_MultiClass')\n",
    "# Take a look at the model\n",
    "model.summary()"
   ]
  },
  {
   "cell_type": "code",
   "execution_count": 21,
   "metadata": {},
   "outputs": [
    {
     "name": "stdout",
     "output_type": "stream",
     "text": [
      "62/62 [==============================] - 1229s 20s/step - loss: 25.6963 - encourage__loss: 0.6507 - family__loss: 11.6110 - friend__loss: 1.2992 - happiness__loss: 8.0092 - object__loss: 1.1724 - policy__loss: 1.0803 - sadness__loss: 1.3046 - travel__loss: 0.5689 - encourage__accuracy: 0.7623 - family__accuracy: 0.0924 - friend__accuracy: 0.7449 - happiness__accuracy: 0.8373 - object__accuracy: 0.4429 - policy__accuracy: 0.4619 - sadness__accuracy: 0.5558 - travel__accuracy: 0.2198 - val_loss: 31.2061 - val_encourage__loss: 0.5262 - val_family__loss: 14.5178 - val_friend__loss: 0.4948 - val_happiness__loss: 13.1485 - val_object__loss: 0.6898 - val_policy__loss: 0.6781 - val_sadness__loss: 0.6688 - val_travel__loss: 0.4820 - val_encourage__accuracy: 0.7810 - val_family__accuracy: 0.0993 - val_friend__accuracy: 0.7953 - val_happiness__accuracy: 0.8628 - val_object__accuracy: 0.4217 - val_policy__accuracy: 0.4565 - val_sadness__accuracy: 0.5906 - val_travel__accuracy: 0.1894\n"
     ]
    }
   ],
   "source": [
    "# Set an optimizer\n",
    "optimizer = Adam(\n",
    "    learning_rate=5e-05,\n",
    "    epsilon=1e-08,\n",
    "    decay=0.01,\n",
    "    clipnorm=1.0)\n",
    "# Set loss and metrics\n",
    "loss = {'object_': CategoricalCrossentropy(from_logits = False), \n",
    "        'encourage_': CategoricalCrossentropy(from_logits = False), \n",
    "        'family_':CategoricalCrossentropy(from_logits = False), \n",
    "        'happiness_':CategoricalCrossentropy(from_logits = False),\n",
    "        'sadness_': CategoricalCrossentropy(from_logits = False), \n",
    "        'policy_': CategoricalCrossentropy(from_logits = False), \n",
    "        'friend_': CategoricalCrossentropy(from_logits = False), \n",
    "        'travel_': CategoricalCrossentropy(from_logits = False)}\n",
    "metric = {'object_': CategoricalAccuracy('accuracy'), \n",
    "        'encourage_': CategoricalAccuracy('accuracy'), \n",
    "        'family_':CategoricalAccuracy('accuracy'), \n",
    "        'happiness_':CategoricalAccuracy('accuracy'),\n",
    "        'sadness_': CategoricalAccuracy('accuracy'), \n",
    "        'policy_': CategoricalAccuracy('accuracy'), \n",
    "        'friend_': CategoricalAccuracy('accuracy'), \n",
    "        'travel_': CategoricalAccuracy('accuracy')}\n",
    "# Compile the model\n",
    "model.compile(\n",
    "    optimizer = optimizer,\n",
    "    loss = loss, \n",
    "    metrics = metric)\n",
    "# Ready output data for the model\n",
    "##'写物', '劝勉', '家庭', '快乐', '悲苦', '政治', '朋友', '游玩'\n",
    "object_y = to_categorical(data['写物'])\n",
    "encourage_y = to_categorical(data['劝勉'])\n",
    "family_y = to_categorical(data['家庭'])\n",
    "happiness_y = to_categorical(data['快乐'])\n",
    "sadness_y = to_categorical(data['悲苦'])\n",
    "policy_y = to_categorical(data['政治'])\n",
    "friend_y = to_categorical(data['朋友'])\n",
    "travel_y =to_categorical(data['游玩'])\n",
    "y_list = {'object_': object_y, 'encourage_': encourage_y, 'family_':family_y, \n",
    "          'happiness_':happiness_y,'sadness_': sadness_y, 'policy_': policy_y, \n",
    "          'friend_': friend_y, 'travel_': travel_y}\n",
    "# Tokenize the input (takes some time)\n",
    "x = tokenizer(\n",
    "    text=data['content'].to_list(),\n",
    "    add_special_tokens=True,\n",
    "    max_length=max_length,\n",
    "    truncation=True,\n",
    "    padding=True, \n",
    "    return_tensors='tf',\n",
    "    return_token_type_ids = False,\n",
    "    return_attention_mask = False,\n",
    "    verbose = True)\n",
    "# Fit the model\n",
    "history = model.fit(\n",
    "    x={'input_ids': x['input_ids']},\n",
    "    y=y_list,\n",
    "    validation_split=0.2,\n",
    "    batch_size=64,\n",
    "    epochs=1)"
   ]
  },
  {
   "cell_type": "code",
   "execution_count": 23,
   "metadata": {},
   "outputs": [],
   "source": [
    "# Ready test data\n",
    "test_object_y = to_categorical(data_test['写物'])\n",
    "test_encourage_y = to_categorical(data_test['劝勉'])\n",
    "test_family_y = to_categorical(data_test['家庭'])\n",
    "test_happiness_y = to_categorical(data_test['快乐'])\n",
    "test_sadness_y = to_categorical(data_test['悲苦'])\n",
    "test_policy_y = to_categorical(data_test['政治'])\n",
    "test_friend_y = to_categorical(data_test['朋友'])\n",
    "test_travel_y =to_categorical(data_test['游玩'])\n",
    "test_x = tokenizer(\n",
    "    text=data_test['content'].to_list(),\n",
    "    add_special_tokens=True,\n",
    "    max_length=max_length,\n",
    "    truncation=True,\n",
    "    padding=True, \n",
    "    return_tensors='tf',\n",
    "    return_token_type_ids = False,\n",
    "    return_attention_mask = False,\n",
    "    verbose = True)\n",
    "\n"
   ]
  },
  {
   "cell_type": "code",
   "execution_count": 15,
   "metadata": {},
   "outputs": [
    {
     "name": "stdout",
     "output_type": "stream",
     "text": [
      "39/39 [==============================] - 102s 3s/step - loss: 4.6788 - encourage__loss: 0.6096 - family__loss: 0.3024 - friend__loss: 0.5025 - happiness__loss: 0.3848 - object__loss: 0.7259 - policy__loss: 0.8202 - sadness__loss: 0.7905 - travel__loss: 0.5428 - encourage__accuracy: 0.7488 - family__accuracy: 0.9059 - friend__accuracy: 0.8044 - happiness__accuracy: 0.8494 - object__accuracy: 0.6113 - policy__accuracy: 0.6195 - sadness__accuracy: 0.6080 - travel__accuracy: 0.7578\n"
     ]
    }
   ],
   "source": [
    "# Run evaluation\n",
    "test_y_list = {'object_': test_object_y, 'encourage_': test_encourage_y, 'family_':test_family_y, \n",
    "          'happiness_':test_happiness_y,'sadness_': test_sadness_y, 'policy_': test_policy_y, \n",
    "          'friend_': test_friend_y, 'travel_': test_travel_y}\n",
    "model_eval = model.evaluate(\n",
    "    x={'input_ids': test_x['input_ids']},\n",
    "    y=test_y_list\n",
    ")"
   ]
  },
  {
   "cell_type": "code",
   "execution_count": 19,
   "metadata": {},
   "outputs": [
    {
     "ename": "AttributeError",
     "evalue": "'Functional' object has no attribute 'save_model'",
     "output_type": "error",
     "traceback": [
      "\u001b[0;31m---------------------------------------------------------------------------\u001b[0m",
      "\u001b[0;31mAttributeError\u001b[0m                            Traceback (most recent call last)",
      "\u001b[0;32m<ipython-input-19-53eea534da00>\u001b[0m in \u001b[0;36m<module>\u001b[0;34m\u001b[0m\n\u001b[0;32m----> 1\u001b[0;31m \u001b[0mmodel\u001b[0m\u001b[0;34m.\u001b[0m\u001b[0msave_model\u001b[0m\u001b[0;34m(\u001b[0m\u001b[0;34m\"multi-label-model\"\u001b[0m\u001b[0;34m)\u001b[0m\u001b[0;34m\u001b[0m\u001b[0;34m\u001b[0m\u001b[0m\n\u001b[0m",
      "\u001b[0;31mAttributeError\u001b[0m: 'Functional' object has no attribute 'save_model'"
     ]
    }
   ],
   "source": [
    "# model.save(\"multi-label-model\")"
   ]
  },
  {
   "cell_type": "code",
   "execution_count": 21,
   "metadata": {},
   "outputs": [],
   "source": [
    "# loaded_model = load_model('multi-label-model')"
   ]
  },
  {
   "cell_type": "code",
   "execution_count": 24,
   "metadata": {},
   "outputs": [],
   "source": [
    "prediction=model.predict(test_x['input_ids'])"
   ]
  },
  {
   "cell_type": "code",
   "execution_count": 23,
   "metadata": {},
   "outputs": [
    {
     "data": {
      "text/plain": [
       "dict"
      ]
     },
     "execution_count": 23,
     "metadata": {},
     "output_type": "execute_result"
    }
   ],
   "source": [
    "type(prediction)"
   ]
  },
  {
   "cell_type": "code",
   "execution_count": 28,
   "metadata": {},
   "outputs": [
    {
     "data": {
      "text/plain": [
       "array([ 1.106571 , -1.1924883], dtype=float32)"
      ]
     },
     "execution_count": 28,
     "metadata": {},
     "output_type": "execute_result"
    }
   ],
   "source": [
    "prediction['encourage_'][9]"
   ]
  },
  {
   "cell_type": "code",
   "execution_count": 9,
   "metadata": {},
   "outputs": [
    {
     "ename": "NameError",
     "evalue": "name 'data_test' is not defined",
     "output_type": "error",
     "traceback": [
      "\u001b[0;31m---------------------------------------------------------------------------\u001b[0m",
      "\u001b[0;31mNameError\u001b[0m                                 Traceback (most recent call last)",
      "\u001b[0;32m<ipython-input-9-17e0581fc746>\u001b[0m in \u001b[0;36m<module>\u001b[0;34m\u001b[0m\n\u001b[0;32m----> 1\u001b[0;31m \u001b[0mdata_test\u001b[0m\u001b[0;34m.\u001b[0m\u001b[0mhead\u001b[0m\u001b[0;34m(\u001b[0m\u001b[0;34m)\u001b[0m\u001b[0;34m\u001b[0m\u001b[0;34m\u001b[0m\u001b[0m\n\u001b[0m",
      "\u001b[0;31mNameError\u001b[0m: name 'data_test' is not defined"
     ]
    }
   ],
   "source": [
    "data_test.head()"
   ]
  },
  {
   "cell_type": "code",
   "execution_count": null,
   "metadata": {},
   "outputs": [],
   "source": []
  }
 ],
 "metadata": {
  "kernelspec": {
   "display_name": "Python 3",
   "language": "python",
   "name": "python3"
  },
  "language_info": {
   "codemirror_mode": {
    "name": "ipython",
    "version": 3
   },
   "file_extension": ".py",
   "mimetype": "text/x-python",
   "name": "python",
   "nbconvert_exporter": "python",
   "pygments_lexer": "ipython3",
   "version": "3.8.3"
  }
 },
 "nbformat": 4,
 "nbformat_minor": 4
}
