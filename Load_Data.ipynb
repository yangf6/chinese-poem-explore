{
 "cells": [
  {
   "cell_type": "code",
   "execution_count": 1,
   "metadata": {},
   "outputs": [],
   "source": [
    "#import librarie\n",
    "from zipfile import ZipFile \n",
    "import os.path\n",
    "from os import path\n",
    "import pandas as pd\n",
    "import numpy as np\n",
    "import base64\n",
    "import matplotlib\n",
    "import matplotlib.pyplot as plt\n",
    "import seaborn as sns\n",
    "from itertools import groupby\n",
    "from matplotlib import font_manager\n",
    "\n"
   ]
  },
  {
   "cell_type": "code",
   "execution_count": 2,
   "metadata": {},
   "outputs": [],
   "source": [
    "# [f for f in matplotlib.font_manager.fontManager.ttflist]"
   ]
  },
  {
   "cell_type": "code",
   "execution_count": 3,
   "metadata": {},
   "outputs": [],
   "source": [
    "# fontP = font_manager.FontProperties()\n",
    "# fontP.set_family('Microsoft YaHei')\n",
    "# fontP.set_size(14)\n",
    "# plt.rcParams[\"font.family\"] = \"Microsoft YaHei\"\n"
   ]
  },
  {
   "cell_type": "markdown",
   "metadata": {},
   "source": [
    "# Load Data"
   ]
  },
  {
   "cell_type": "code",
   "execution_count": 4,
   "metadata": {},
   "outputs": [],
   "source": [
    "#load into data frame\n",
    "file_name = \"corpus_poem.zip\"\n",
    "\n",
    "poems_data = []\n",
    "with ZipFile(file_name) as z:\n",
    "    for filename in z.namelist():\n",
    "        if not os.path.isdir(filename):\n",
    "            # read the file\n",
    "            with z.open(filename) as f:\n",
    "                poem = {}\n",
    "                for line in f:\n",
    "                    new_line = line.decode('utf-8').replace(\"\\n\",\"\")\n",
    "                    split_line = new_line.split(\":\");\n",
    "                    poem[split_line[0].strip()] = split_line[1].strip()\n",
    "                poems_data.append(poem)\n",
    "poems_data = poems_data[1:]\n",
    "poems_dataframe = pd.DataFrame.from_dict(poems_data)                "
   ]
  },
  {
   "cell_type": "markdown",
   "metadata": {},
   "source": [
    "# Exploratory Data Analysis (EDA)"
   ]
  },
  {
   "cell_type": "code",
   "execution_count": 5,
   "metadata": {},
   "outputs": [
    {
     "data": {
      "text/html": [
       "<div>\n",
       "<style scoped>\n",
       "    .dataframe tbody tr th:only-of-type {\n",
       "        vertical-align: middle;\n",
       "    }\n",
       "\n",
       "    .dataframe tbody tr th {\n",
       "        vertical-align: top;\n",
       "    }\n",
       "\n",
       "    .dataframe thead th {\n",
       "        text-align: right;\n",
       "    }\n",
       "</style>\n",
       "<table border=\"1\" class=\"dataframe\">\n",
       "  <thead>\n",
       "    <tr style=\"text-align: right;\">\n",
       "      <th></th>\n",
       "      <th>dynasty</th>\n",
       "      <th>author</th>\n",
       "      <th>tags</th>\n",
       "      <th>star</th>\n",
       "      <th>author_stars</th>\n",
       "      <th>title</th>\n",
       "      <th>content</th>\n",
       "    </tr>\n",
       "  </thead>\n",
       "  <tbody>\n",
       "    <tr>\n",
       "      <th>0</th>\n",
       "      <td>唐代</td>\n",
       "      <td>杜牧</td>\n",
       "      <td></td>\n",
       "      <td>1</td>\n",
       "      <td>1692</td>\n",
       "      <td>和野人殷潜之题筹笔驿十四韵</td>\n",
       "      <td>三吴裂婺女，九锡狱孤儿。霸主业未半，本朝心是谁。永安宫受诏，筹笔驿沉思。画地乾坤在，濡毫胜负...</td>\n",
       "    </tr>\n",
       "    <tr>\n",
       "      <th>1</th>\n",
       "      <td>清代</td>\n",
       "      <td>纳兰性德</td>\n",
       "      <td>写景;伤春</td>\n",
       "      <td>13</td>\n",
       "      <td>1951</td>\n",
       "      <td>四和香·麦浪翻晴风飐柳</td>\n",
       "      <td>麦浪翻晴风飐柳，已过伤春候。因甚为他成僝僽？毕竟是春迤逗。红药阑边携素手，暖语浓于酒。盼到园...</td>\n",
       "    </tr>\n",
       "    <tr>\n",
       "      <th>2</th>\n",
       "      <td>唐代</td>\n",
       "      <td>刘禹锡</td>\n",
       "      <td></td>\n",
       "      <td>1</td>\n",
       "      <td>2116</td>\n",
       "      <td>奉送浙西李仆射相公赴镇</td>\n",
       "      <td>建节东行是旧游，欢声喜气满吴州。郡人重得黄丞相，童子争迎郭细侯。诏下初辞温室树，梦中先到景阳...</td>\n",
       "    </tr>\n",
       "    <tr>\n",
       "      <th>3</th>\n",
       "      <td>唐代</td>\n",
       "      <td>王维</td>\n",
       "      <td></td>\n",
       "      <td>1</td>\n",
       "      <td>2192</td>\n",
       "      <td>大同殿柱产玉芝，龙池上有庆云神光照殿，百</td>\n",
       "      <td>欲笑周文歌宴镐，遥轻汉武乐横汾。岂知玉殿生三秀，讵有铜池出五云。陌上尧樽倾北斗，楼前舜乐动南...</td>\n",
       "    </tr>\n",
       "    <tr>\n",
       "      <th>4</th>\n",
       "      <td>唐代</td>\n",
       "      <td>王维</td>\n",
       "      <td></td>\n",
       "      <td>2</td>\n",
       "      <td>2192</td>\n",
       "      <td>冬日游览</td>\n",
       "      <td>步出城东门，试骋千里目。青山横苍林，赤日团平陆。渭北走邯郸，关东出函谷。秦地万方会，来朝九州...</td>\n",
       "    </tr>\n",
       "  </tbody>\n",
       "</table>\n",
       "</div>"
      ],
      "text/plain": [
       "  dynasty author   tags star author_stars                 title  \\\n",
       "0      唐代     杜牧           1         1692         和野人殷潜之题筹笔驿十四韵   \n",
       "1      清代   纳兰性德  写景;伤春   13         1951           四和香·麦浪翻晴风飐柳   \n",
       "2      唐代    刘禹锡           1         2116           奉送浙西李仆射相公赴镇   \n",
       "3      唐代     王维           1         2192  大同殿柱产玉芝，龙池上有庆云神光照殿，百   \n",
       "4      唐代     王维           2         2192                  冬日游览   \n",
       "\n",
       "                                             content  \n",
       "0  三吴裂婺女，九锡狱孤儿。霸主业未半，本朝心是谁。永安宫受诏，筹笔驿沉思。画地乾坤在，濡毫胜负...  \n",
       "1  麦浪翻晴风飐柳，已过伤春候。因甚为他成僝僽？毕竟是春迤逗。红药阑边携素手，暖语浓于酒。盼到园...  \n",
       "2  建节东行是旧游，欢声喜气满吴州。郡人重得黄丞相，童子争迎郭细侯。诏下初辞温室树，梦中先到景阳...  \n",
       "3  欲笑周文歌宴镐，遥轻汉武乐横汾。岂知玉殿生三秀，讵有铜池出五云。陌上尧樽倾北斗，楼前舜乐动南...  \n",
       "4  步出城东门，试骋千里目。青山横苍林，赤日团平陆。渭北走邯郸，关东出函谷。秦地万方会，来朝九州...  "
      ]
     },
     "execution_count": 5,
     "metadata": {},
     "output_type": "execute_result"
    }
   ],
   "source": [
    "poems_dataframe.head()"
   ]
  },
  {
   "cell_type": "code",
   "execution_count": 6,
   "metadata": {},
   "outputs": [
    {
     "data": {
      "text/html": [
       "<div>\n",
       "<style scoped>\n",
       "    .dataframe tbody tr th:only-of-type {\n",
       "        vertical-align: middle;\n",
       "    }\n",
       "\n",
       "    .dataframe tbody tr th {\n",
       "        vertical-align: top;\n",
       "    }\n",
       "\n",
       "    .dataframe thead th {\n",
       "        text-align: right;\n",
       "    }\n",
       "</style>\n",
       "<table border=\"1\" class=\"dataframe\">\n",
       "  <thead>\n",
       "    <tr style=\"text-align: right;\">\n",
       "      <th></th>\n",
       "      <th>dynasty</th>\n",
       "      <th>author</th>\n",
       "      <th>tags</th>\n",
       "      <th>star</th>\n",
       "      <th>author_stars</th>\n",
       "      <th>title</th>\n",
       "      <th>content</th>\n",
       "    </tr>\n",
       "  </thead>\n",
       "  <tbody>\n",
       "    <tr>\n",
       "      <th>count</th>\n",
       "      <td>92121</td>\n",
       "      <td>92121</td>\n",
       "      <td>92121</td>\n",
       "      <td>92121</td>\n",
       "      <td>92121</td>\n",
       "      <td>92121</td>\n",
       "      <td>92121</td>\n",
       "    </tr>\n",
       "    <tr>\n",
       "      <th>unique</th>\n",
       "      <td>15</td>\n",
       "      <td>1236</td>\n",
       "      <td>5129</td>\n",
       "      <td>919</td>\n",
       "      <td>245</td>\n",
       "      <td>83603</td>\n",
       "      <td>85713</td>\n",
       "    </tr>\n",
       "    <tr>\n",
       "      <th>top</th>\n",
       "      <td>宋代</td>\n",
       "      <td>陆游</td>\n",
       "      <td></td>\n",
       "      <td>1</td>\n",
       "      <td>0</td>\n",
       "      <td>句</td>\n",
       "      <td>娟娟月满。冉冉梅花暖。春意初长寒力浅。渐拟芳菲满眼。当时吉梦重重。间生天子三公。付与人间桃李...</td>\n",
       "    </tr>\n",
       "    <tr>\n",
       "      <th>freq</th>\n",
       "      <td>53453</td>\n",
       "      <td>3762</td>\n",
       "      <td>85980</td>\n",
       "      <td>73789</td>\n",
       "      <td>5678</td>\n",
       "      <td>225</td>\n",
       "      <td>4</td>\n",
       "    </tr>\n",
       "  </tbody>\n",
       "</table>\n",
       "</div>"
      ],
      "text/plain": [
       "       dynasty author   tags   star author_stars  title  \\\n",
       "count    92121  92121  92121  92121        92121  92121   \n",
       "unique      15   1236   5129    919          245  83603   \n",
       "top         宋代     陆游             1            0      句   \n",
       "freq     53453   3762  85980  73789         5678    225   \n",
       "\n",
       "                                                  content  \n",
       "count                                               92121  \n",
       "unique                                              85713  \n",
       "top     娟娟月满。冉冉梅花暖。春意初长寒力浅。渐拟芳菲满眼。当时吉梦重重。间生天子三公。付与人间桃李...  \n",
       "freq                                                    4  "
      ]
     },
     "execution_count": 6,
     "metadata": {},
     "output_type": "execute_result"
    }
   ],
   "source": [
    "poems_dataframe.describe()"
   ]
  },
  {
   "cell_type": "markdown",
   "metadata": {},
   "source": [
    "# Clean up Data"
   ]
  },
  {
   "cell_type": "markdown",
   "metadata": {},
   "source": [
    "## Invalid Characters and Nulls"
   ]
  },
  {
   "cell_type": "code",
   "execution_count": 7,
   "metadata": {},
   "outputs": [],
   "source": [
    "filtered_poems_dataframe = poems_dataframe[~poems_dataframe['content'].str.contains(\"□\")]\n",
    "filtered_poems_dataframe = filtered_poems_dataframe[~filtered_poems_dataframe['title'].str.contains(\"□\")]\n",
    "filtered_poems_dataframe = filtered_poems_dataframe[~filtered_poems_dataframe['author'].str.contains(\"□\")]\n",
    "filtered_poems_dataframe = filtered_poems_dataframe[~filtered_poems_dataframe['dynasty'].str.contains(\"□\")]"
   ]
  },
  {
   "cell_type": "code",
   "execution_count": 8,
   "metadata": {},
   "outputs": [
    {
     "data": {
      "text/html": [
       "<div>\n",
       "<style scoped>\n",
       "    .dataframe tbody tr th:only-of-type {\n",
       "        vertical-align: middle;\n",
       "    }\n",
       "\n",
       "    .dataframe tbody tr th {\n",
       "        vertical-align: top;\n",
       "    }\n",
       "\n",
       "    .dataframe thead th {\n",
       "        text-align: right;\n",
       "    }\n",
       "</style>\n",
       "<table border=\"1\" class=\"dataframe\">\n",
       "  <thead>\n",
       "    <tr style=\"text-align: right;\">\n",
       "      <th></th>\n",
       "      <th>dynasty</th>\n",
       "      <th>author</th>\n",
       "      <th>tags</th>\n",
       "      <th>star</th>\n",
       "      <th>author_stars</th>\n",
       "      <th>title</th>\n",
       "      <th>content</th>\n",
       "    </tr>\n",
       "  </thead>\n",
       "  <tbody>\n",
       "    <tr>\n",
       "      <th>count</th>\n",
       "      <td>90923</td>\n",
       "      <td>90923</td>\n",
       "      <td>90923</td>\n",
       "      <td>90923</td>\n",
       "      <td>90923</td>\n",
       "      <td>90923</td>\n",
       "      <td>90923</td>\n",
       "    </tr>\n",
       "    <tr>\n",
       "      <th>unique</th>\n",
       "      <td>15</td>\n",
       "      <td>1233</td>\n",
       "      <td>5119</td>\n",
       "      <td>919</td>\n",
       "      <td>245</td>\n",
       "      <td>82538</td>\n",
       "      <td>84649</td>\n",
       "    </tr>\n",
       "    <tr>\n",
       "      <th>top</th>\n",
       "      <td>宋代</td>\n",
       "      <td>陆游</td>\n",
       "      <td></td>\n",
       "      <td>1</td>\n",
       "      <td>0</td>\n",
       "      <td>句</td>\n",
       "      <td>娟娟月满。冉冉梅花暖。春意初长寒力浅。渐拟芳菲满眼。当时吉梦重重。间生天子三公。付与人间桃李...</td>\n",
       "    </tr>\n",
       "    <tr>\n",
       "      <th>freq</th>\n",
       "      <td>52563</td>\n",
       "      <td>3761</td>\n",
       "      <td>84794</td>\n",
       "      <td>72729</td>\n",
       "      <td>5563</td>\n",
       "      <td>224</td>\n",
       "      <td>4</td>\n",
       "    </tr>\n",
       "  </tbody>\n",
       "</table>\n",
       "</div>"
      ],
      "text/plain": [
       "       dynasty author   tags   star author_stars  title  \\\n",
       "count    90923  90923  90923  90923        90923  90923   \n",
       "unique      15   1233   5119    919          245  82538   \n",
       "top         宋代     陆游             1            0      句   \n",
       "freq     52563   3761  84794  72729         5563    224   \n",
       "\n",
       "                                                  content  \n",
       "count                                               90923  \n",
       "unique                                              84649  \n",
       "top     娟娟月满。冉冉梅花暖。春意初长寒力浅。渐拟芳菲满眼。当时吉梦重重。间生天子三公。付与人间桃李...  \n",
       "freq                                                    4  "
      ]
     },
     "execution_count": 8,
     "metadata": {},
     "output_type": "execute_result"
    }
   ],
   "source": [
    "filtered_poems_dataframe.describe()"
   ]
  },
  {
   "cell_type": "code",
   "execution_count": 9,
   "metadata": {},
   "outputs": [
    {
     "data": {
      "text/html": [
       "<div>\n",
       "<style scoped>\n",
       "    .dataframe tbody tr th:only-of-type {\n",
       "        vertical-align: middle;\n",
       "    }\n",
       "\n",
       "    .dataframe tbody tr th {\n",
       "        vertical-align: top;\n",
       "    }\n",
       "\n",
       "    .dataframe thead th {\n",
       "        text-align: right;\n",
       "    }\n",
       "</style>\n",
       "<table border=\"1\" class=\"dataframe\">\n",
       "  <thead>\n",
       "    <tr style=\"text-align: right;\">\n",
       "      <th></th>\n",
       "      <th>dynasty</th>\n",
       "      <th>author</th>\n",
       "      <th>tags</th>\n",
       "      <th>star</th>\n",
       "      <th>author_stars</th>\n",
       "      <th>title</th>\n",
       "      <th>content</th>\n",
       "    </tr>\n",
       "  </thead>\n",
       "  <tbody>\n",
       "    <tr>\n",
       "      <th>count</th>\n",
       "      <td>90923</td>\n",
       "      <td>90923</td>\n",
       "      <td>90923</td>\n",
       "      <td>90923</td>\n",
       "      <td>90923</td>\n",
       "      <td>90923</td>\n",
       "      <td>90923</td>\n",
       "    </tr>\n",
       "    <tr>\n",
       "      <th>unique</th>\n",
       "      <td>15</td>\n",
       "      <td>1233</td>\n",
       "      <td>5119</td>\n",
       "      <td>919</td>\n",
       "      <td>245</td>\n",
       "      <td>82538</td>\n",
       "      <td>84649</td>\n",
       "    </tr>\n",
       "    <tr>\n",
       "      <th>top</th>\n",
       "      <td>宋代</td>\n",
       "      <td>陆游</td>\n",
       "      <td></td>\n",
       "      <td>1</td>\n",
       "      <td>0</td>\n",
       "      <td>句</td>\n",
       "      <td>娟娟月满。冉冉梅花暖。春意初长寒力浅。渐拟芳菲满眼。当时吉梦重重。间生天子三公。付与人间桃李...</td>\n",
       "    </tr>\n",
       "    <tr>\n",
       "      <th>freq</th>\n",
       "      <td>52563</td>\n",
       "      <td>3761</td>\n",
       "      <td>84794</td>\n",
       "      <td>72729</td>\n",
       "      <td>5563</td>\n",
       "      <td>224</td>\n",
       "      <td>4</td>\n",
       "    </tr>\n",
       "  </tbody>\n",
       "</table>\n",
       "</div>"
      ],
      "text/plain": [
       "       dynasty author   tags   star author_stars  title  \\\n",
       "count    90923  90923  90923  90923        90923  90923   \n",
       "unique      15   1233   5119    919          245  82538   \n",
       "top         宋代     陆游             1            0      句   \n",
       "freq     52563   3761  84794  72729         5563    224   \n",
       "\n",
       "                                                  content  \n",
       "count                                               90923  \n",
       "unique                                              84649  \n",
       "top     娟娟月满。冉冉梅花暖。春意初长寒力浅。渐拟芳菲满眼。当时吉梦重重。间生天子三公。付与人间桃李...  \n",
       "freq                                                    4  "
      ]
     },
     "execution_count": 9,
     "metadata": {},
     "output_type": "execute_result"
    }
   ],
   "source": [
    "filtered_poems_dataframe = filtered_poems_dataframe.dropna()\n",
    "filtered_poems_dataframe = filtered_poems_dataframe[filtered_poems_dataframe['content'] != '']\n",
    "filtered_poems_dataframe = filtered_poems_dataframe[filtered_poems_dataframe['author'] != '']\n",
    "filtered_poems_dataframe = filtered_poems_dataframe[filtered_poems_dataframe['dynasty'] != '']\n",
    "filtered_poems_dataframe = filtered_poems_dataframe[filtered_poems_dataframe['title'] != '']\n",
    "\n",
    "filtered_poems_dataframe.describe()"
   ]
  },
  {
   "cell_type": "markdown",
   "metadata": {},
   "source": [
    "## Duplication\n",
    "\n",
    "There are some duplication in contents, we will exame those duplication and remove them if needed.\n",
    "Also during random examing the data, there are some incomplete poems. "
   ]
  },
  {
   "cell_type": "code",
   "execution_count": 10,
   "metadata": {},
   "outputs": [
    {
     "data": {
      "text/html": [
       "<div>\n",
       "<style scoped>\n",
       "    .dataframe tbody tr th:only-of-type {\n",
       "        vertical-align: middle;\n",
       "    }\n",
       "\n",
       "    .dataframe tbody tr th {\n",
       "        vertical-align: top;\n",
       "    }\n",
       "\n",
       "    .dataframe thead th {\n",
       "        text-align: right;\n",
       "    }\n",
       "</style>\n",
       "<table border=\"1\" class=\"dataframe\">\n",
       "  <thead>\n",
       "    <tr style=\"text-align: right;\">\n",
       "      <th></th>\n",
       "      <th>dynasty</th>\n",
       "      <th>author</th>\n",
       "      <th>tags</th>\n",
       "      <th>star</th>\n",
       "      <th>author_stars</th>\n",
       "      <th>title</th>\n",
       "      <th>content</th>\n",
       "    </tr>\n",
       "  </thead>\n",
       "  <tbody>\n",
       "    <tr>\n",
       "      <th>90254</th>\n",
       "      <td>宋代</td>\n",
       "      <td>姜夔</td>\n",
       "      <td></td>\n",
       "      <td>1</td>\n",
       "      <td>279</td>\n",
       "      <td>琵琶仙·《吴都赋》云：「户藏烟浦</td>\n",
       "      <td>《吴都赋》云：“户藏烟浦，家具画船。”唯吴兴为然。春游之盛，西湖未能过也。己酉岁，予与萧时父...</td>\n",
       "    </tr>\n",
       "    <tr>\n",
       "      <th>32284</th>\n",
       "      <td>宋代</td>\n",
       "      <td>姜夔</td>\n",
       "      <td>春游;怀人</td>\n",
       "      <td>64</td>\n",
       "      <td>279</td>\n",
       "      <td>琵琶仙·双桨来时</td>\n",
       "      <td>《吴都赋》云：“户藏烟浦，家具画船。”唯吴兴为然。春游之盛，西湖未能过也。己酉岁，予与萧时父...</td>\n",
       "    </tr>\n",
       "    <tr>\n",
       "      <th>16737</th>\n",
       "      <td>元代</td>\n",
       "      <td>关汉卿</td>\n",
       "      <td></td>\n",
       "      <td>1</td>\n",
       "      <td>124</td>\n",
       "      <td>【南吕】一枝花不伏老</td>\n",
       "      <td>〔一枝花〕　　攀出墙朵朵花，折临路枝枝柳。花攀红蕊嫩，柳折翠条柔，浪子风流。凭着我折柳攀花手...</td>\n",
       "    </tr>\n",
       "    <tr>\n",
       "      <th>52397</th>\n",
       "      <td>元代</td>\n",
       "      <td>关汉卿</td>\n",
       "      <td>散曲;抒情;生活</td>\n",
       "      <td>140</td>\n",
       "      <td>124</td>\n",
       "      <td>一枝花·不伏老</td>\n",
       "      <td>〔一枝花〕　　攀出墙朵朵花，折临路枝枝柳。花攀红蕊嫩，柳折翠条柔，浪子风流。凭着我折柳攀花手...</td>\n",
       "    </tr>\n",
       "    <tr>\n",
       "      <th>57415</th>\n",
       "      <td>明代</td>\n",
       "      <td>唐寅</td>\n",
       "      <td></td>\n",
       "      <td>1</td>\n",
       "      <td>231</td>\n",
       "      <td>伯虎扮乞儿，作诗骗酒</td>\n",
       "      <td>一上一上又一上，一上直到高山上。举头红日白云低，四海五湖皆一望。</td>\n",
       "    </tr>\n",
       "    <tr>\n",
       "      <th>82334</th>\n",
       "      <td>明代</td>\n",
       "      <td>唐寅</td>\n",
       "      <td></td>\n",
       "      <td>1</td>\n",
       "      <td>231</td>\n",
       "      <td>登山</td>\n",
       "      <td>一上一上又一上，一上直到高山上。举头红日白云低，四海五湖皆一望。</td>\n",
       "    </tr>\n",
       "    <tr>\n",
       "      <th>60427</th>\n",
       "      <td>宋代</td>\n",
       "      <td>汪元量</td>\n",
       "      <td></td>\n",
       "      <td>1</td>\n",
       "      <td>57</td>\n",
       "      <td>满江红·一个兰舟</td>\n",
       "      <td>一个兰舟，双桂桨、顺流东去。但满目、银光万顷，凄其风露。渔火已归鸿雁汊，棹歌更在鸳鸯浦。渐夜...</td>\n",
       "    </tr>\n",
       "    <tr>\n",
       "      <th>76422</th>\n",
       "      <td>宋代</td>\n",
       "      <td>汪元量</td>\n",
       "      <td></td>\n",
       "      <td>2</td>\n",
       "      <td>57</td>\n",
       "      <td>满江红（吴江秋夜）</td>\n",
       "      <td>一个兰舟，双桂桨、顺流东去。但满目、银光万顷，凄其风露。渔火已归鸿雁汊，棹歌更在鸳鸯浦。渐夜...</td>\n",
       "    </tr>\n",
       "    <tr>\n",
       "      <th>18289</th>\n",
       "      <td>唐代</td>\n",
       "      <td>李白</td>\n",
       "      <td></td>\n",
       "      <td>1</td>\n",
       "      <td>6155</td>\n",
       "      <td>与史中郎钦听黄鹤楼上吹笛</td>\n",
       "      <td>一为迁客去长沙，西望长安不见家。黄鹤楼中吹玉笛，江城五月落梅花。</td>\n",
       "    </tr>\n",
       "    <tr>\n",
       "      <th>3971</th>\n",
       "      <td>唐代</td>\n",
       "      <td>李白</td>\n",
       "      <td>贬谪;抒情;思乡;忧国忧民</td>\n",
       "      <td>655</td>\n",
       "      <td>6155</td>\n",
       "      <td>与史郎中钦听黄鹤楼上吹笛题北榭碑</td>\n",
       "      <td>一为迁客去长沙，西望长安不见家。黄鹤楼中吹玉笛，江城五月落梅花。</td>\n",
       "    </tr>\n",
       "  </tbody>\n",
       "</table>\n",
       "</div>"
      ],
      "text/plain": [
       "      dynasty author           tags star author_stars             title  \\\n",
       "90254      宋代     姜夔                   1          279  琵琶仙·《吴都赋》云：「户藏烟浦   \n",
       "32284      宋代     姜夔          春游;怀人   64          279          琵琶仙·双桨来时   \n",
       "16737      元代    关汉卿                   1          124        【南吕】一枝花不伏老   \n",
       "52397      元代    关汉卿       散曲;抒情;生活  140          124           一枝花·不伏老   \n",
       "57415      明代     唐寅                   1          231        伯虎扮乞儿，作诗骗酒   \n",
       "82334      明代     唐寅                   1          231                登山   \n",
       "60427      宋代    汪元量                   1           57          满江红·一个兰舟   \n",
       "76422      宋代    汪元量                   2           57         满江红（吴江秋夜）   \n",
       "18289      唐代     李白                   1         6155      与史中郎钦听黄鹤楼上吹笛   \n",
       "3971       唐代     李白  贬谪;抒情;思乡;忧国忧民  655         6155  与史郎中钦听黄鹤楼上吹笛题北榭碑   \n",
       "\n",
       "                                                 content  \n",
       "90254  《吴都赋》云：“户藏烟浦，家具画船。”唯吴兴为然。春游之盛，西湖未能过也。己酉岁，予与萧时父...  \n",
       "32284  《吴都赋》云：“户藏烟浦，家具画船。”唯吴兴为然。春游之盛，西湖未能过也。己酉岁，予与萧时父...  \n",
       "16737  〔一枝花〕　　攀出墙朵朵花，折临路枝枝柳。花攀红蕊嫩，柳折翠条柔，浪子风流。凭着我折柳攀花手...  \n",
       "52397  〔一枝花〕　　攀出墙朵朵花，折临路枝枝柳。花攀红蕊嫩，柳折翠条柔，浪子风流。凭着我折柳攀花手...  \n",
       "57415                   一上一上又一上，一上直到高山上。举头红日白云低，四海五湖皆一望。  \n",
       "82334                   一上一上又一上，一上直到高山上。举头红日白云低，四海五湖皆一望。  \n",
       "60427  一个兰舟，双桂桨、顺流东去。但满目、银光万顷，凄其风露。渔火已归鸿雁汊，棹歌更在鸳鸯浦。渐夜...  \n",
       "76422  一个兰舟，双桂桨、顺流东去。但满目、银光万顷，凄其风露。渔火已归鸿雁汊，棹歌更在鸳鸯浦。渐夜...  \n",
       "18289                   一为迁客去长沙，西望长安不见家。黄鹤楼中吹玉笛，江城五月落梅花。  \n",
       "3971                    一为迁客去长沙，西望长安不见家。黄鹤楼中吹玉笛，江城五月落梅花。  "
      ]
     },
     "execution_count": 10,
     "metadata": {},
     "output_type": "execute_result"
    }
   ],
   "source": [
    "duplicated_by_content = filtered_poems_dataframe[filtered_poems_dataframe.duplicated(['content'], keep=False)]\\\n",
    ".sort_values(by=['content','star','tags','title'])\n",
    "duplicated_by_content.head(10)"
   ]
  },
  {
   "cell_type": "code",
   "execution_count": 11,
   "metadata": {},
   "outputs": [],
   "source": [
    "#define function\n",
    "agg_f = {\n",
    "    'dynasty': 'first',\n",
    "    'author': 'first',\n",
    "    'tags': lambda x: ';'.join(x),\n",
    "    'star':['max'], \n",
    "    'author_stars':['max'], \n",
    "    'title': lambda x: x.loc[x.str.len().idxmax()]}"
   ]
  },
  {
   "cell_type": "code",
   "execution_count": 12,
   "metadata": {},
   "outputs": [],
   "source": [
    "group_by_content = filtered_poems_dataframe.groupby('content').agg(agg_f).reset_index()"
   ]
  },
  {
   "cell_type": "code",
   "execution_count": 13,
   "metadata": {},
   "outputs": [],
   "source": [
    "group_by_content.columns = ['content', 'dynasty','author','tags','star','author_stars','title']"
   ]
  },
  {
   "cell_type": "code",
   "execution_count": 14,
   "metadata": {},
   "outputs": [],
   "source": [
    "# group_by_content['tags_list'] = group_by_content['star']\n",
    "group_by_content['tags_list'] = group_by_content.apply(lambda row : row.tags.replace(';',' ').strip().split(' '), axis=1)"
   ]
  },
  {
   "cell_type": "code",
   "execution_count": 15,
   "metadata": {},
   "outputs": [],
   "source": [
    "poems_df = group_by_content[group_by_content['tags'] != '']\n",
    "poems_df = poems_df[poems_df['tags'] != ';']\n",
    "poems_df = poems_df[poems_df['tags'] != ';;']\n",
    "poems_df = poems_df[poems_df['tags'] != ';;;']\n",
    "poems_df = poems_df[poems_df['tags'] != ';;;;']"
   ]
  },
  {
   "cell_type": "code",
   "execution_count": 16,
   "metadata": {},
   "outputs": [
    {
     "data": {
      "text/html": [
       "<div>\n",
       "<style scoped>\n",
       "    .dataframe tbody tr th:only-of-type {\n",
       "        vertical-align: middle;\n",
       "    }\n",
       "\n",
       "    .dataframe tbody tr th {\n",
       "        vertical-align: top;\n",
       "    }\n",
       "\n",
       "    .dataframe thead th {\n",
       "        text-align: right;\n",
       "    }\n",
       "</style>\n",
       "<table border=\"1\" class=\"dataframe\">\n",
       "  <thead>\n",
       "    <tr style=\"text-align: right;\">\n",
       "      <th></th>\n",
       "      <th>content</th>\n",
       "      <th>dynasty</th>\n",
       "      <th>author</th>\n",
       "      <th>tags</th>\n",
       "      <th>star</th>\n",
       "      <th>author_stars</th>\n",
       "      <th>title</th>\n",
       "      <th>tags_list</th>\n",
       "    </tr>\n",
       "  </thead>\n",
       "  <tbody>\n",
       "    <tr>\n",
       "      <th>count</th>\n",
       "      <td>6119</td>\n",
       "      <td>6119</td>\n",
       "      <td>6119</td>\n",
       "      <td>6119</td>\n",
       "      <td>6119</td>\n",
       "      <td>6119</td>\n",
       "      <td>6119</td>\n",
       "      <td>6119</td>\n",
       "    </tr>\n",
       "    <tr>\n",
       "      <th>unique</th>\n",
       "      <td>6119</td>\n",
       "      <td>13</td>\n",
       "      <td>688</td>\n",
       "      <td>5214</td>\n",
       "      <td>911</td>\n",
       "      <td>245</td>\n",
       "      <td>5936</td>\n",
       "      <td>5111</td>\n",
       "    </tr>\n",
       "    <tr>\n",
       "      <th>top</th>\n",
       "      <td>多少恨，昨夜梦魂中。还似旧时游上苑，车如流水马如龙。花月正春风。</td>\n",
       "      <td>唐代</td>\n",
       "      <td>李白</td>\n",
       "      <td>写景;抒情</td>\n",
       "      <td>1</td>\n",
       "      <td>6155</td>\n",
       "      <td>采莲曲</td>\n",
       "      <td>[写景, 抒情]</td>\n",
       "    </tr>\n",
       "    <tr>\n",
       "      <th>freq</th>\n",
       "      <td>1</td>\n",
       "      <td>2626</td>\n",
       "      <td>376</td>\n",
       "      <td>43</td>\n",
       "      <td>198</td>\n",
       "      <td>376</td>\n",
       "      <td>7</td>\n",
       "      <td>49</td>\n",
       "    </tr>\n",
       "  </tbody>\n",
       "</table>\n",
       "</div>"
      ],
      "text/plain": [
       "                                 content dynasty author   tags  star  \\\n",
       "count                               6119    6119   6119   6119  6119   \n",
       "unique                              6119      13    688   5214   911   \n",
       "top     多少恨，昨夜梦魂中。还似旧时游上苑，车如流水马如龙。花月正春风。      唐代     李白  写景;抒情     1   \n",
       "freq                                   1    2626    376     43   198   \n",
       "\n",
       "       author_stars title tags_list  \n",
       "count          6119  6119      6119  \n",
       "unique          245  5936      5111  \n",
       "top            6155   采莲曲  [写景, 抒情]  \n",
       "freq            376     7        49  "
      ]
     },
     "execution_count": 16,
     "metadata": {},
     "output_type": "execute_result"
    }
   ],
   "source": [
    "poems_df.describe()"
   ]
  },
  {
   "cell_type": "code",
   "execution_count": 17,
   "metadata": {},
   "outputs": [
    {
     "data": {
      "text/html": [
       "<div>\n",
       "<style scoped>\n",
       "    .dataframe tbody tr th:only-of-type {\n",
       "        vertical-align: middle;\n",
       "    }\n",
       "\n",
       "    .dataframe tbody tr th {\n",
       "        vertical-align: top;\n",
       "    }\n",
       "\n",
       "    .dataframe thead th {\n",
       "        text-align: right;\n",
       "    }\n",
       "</style>\n",
       "<table border=\"1\" class=\"dataframe\">\n",
       "  <thead>\n",
       "    <tr style=\"text-align: right;\">\n",
       "      <th></th>\n",
       "      <th>content</th>\n",
       "      <th>dynasty</th>\n",
       "      <th>author</th>\n",
       "      <th>tags</th>\n",
       "      <th>star</th>\n",
       "      <th>author_stars</th>\n",
       "      <th>title</th>\n",
       "      <th>tags_list</th>\n",
       "    </tr>\n",
       "  </thead>\n",
       "  <tbody>\n",
       "    <tr>\n",
       "      <th>38</th>\n",
       "      <td>《吴都赋》云：“户藏烟浦，家具画船。”唯吴兴为然。春游之盛，西湖未能过也。己酉岁，予与萧时父...</td>\n",
       "      <td>宋代</td>\n",
       "      <td>姜夔</td>\n",
       "      <td>春游;怀人;</td>\n",
       "      <td>64</td>\n",
       "      <td>279</td>\n",
       "      <td>琵琶仙·《吴都赋》云：「户藏烟浦</td>\n",
       "      <td>[春游, 怀人]</td>\n",
       "    </tr>\n",
       "    <tr>\n",
       "      <th>39</th>\n",
       "      <td>《廿一史弹词》第三段说秦汉开场词滚滚长江东逝水，浪花淘尽英雄。是非成败转头空。青山依旧在，几...</td>\n",
       "      <td>明代</td>\n",
       "      <td>杨慎</td>\n",
       "      <td>咏史;抒怀;人生;哲理</td>\n",
       "      <td>3244</td>\n",
       "      <td>131</td>\n",
       "      <td>临江仙·滚滚长江东逝水</td>\n",
       "      <td>[咏史, 抒怀, 人生, 哲理]</td>\n",
       "    </tr>\n",
       "    <tr>\n",
       "      <th>40</th>\n",
       "      <td>《水经》云：“彭蠡之口有石钟山焉。”郦元以为下临深潭，微风鼓浪，水石相搏，声如洪钟。是说也，...</td>\n",
       "      <td>宋代</td>\n",
       "      <td>苏轼</td>\n",
       "      <td>古文观止;纪游;写景;写山</td>\n",
       "      <td>306</td>\n",
       "      <td>4011</td>\n",
       "      <td>石钟山记</td>\n",
       "      <td>[古文观止, 纪游, 写景, 写山]</td>\n",
       "    </tr>\n",
       "    <tr>\n",
       "      <th>41</th>\n",
       "      <td>【序】辛亥之冬，予载雪诣石湖。止既月，授简索句，且征新声，作此两曲。石湖把玩不已，使工妓隶习...</td>\n",
       "      <td>宋代</td>\n",
       "      <td>姜夔</td>\n",
       "      <td>咏物;梅花</td>\n",
       "      <td>74</td>\n",
       "      <td>279</td>\n",
       "      <td>暗香疏影</td>\n",
       "      <td>[咏物, 梅花]</td>\n",
       "    </tr>\n",
       "    <tr>\n",
       "      <th>44</th>\n",
       "      <td>〔一枝花〕　　攀出墙朵朵花，折临路枝枝柳。花攀红蕊嫩，柳折翠条柔，浪子风流。凭着我折柳攀花手...</td>\n",
       "      <td>元代</td>\n",
       "      <td>关汉卿</td>\n",
       "      <td>;散曲;抒情;生活</td>\n",
       "      <td>140</td>\n",
       "      <td>124</td>\n",
       "      <td>【南吕】一枝花不伏老</td>\n",
       "      <td>[散曲, 抒情, 生活]</td>\n",
       "    </tr>\n",
       "    <tr>\n",
       "      <th>54</th>\n",
       "      <td>一上西园避暑亭，芰荷香细午风轻。眼前物物皆佳兴，并作吟窝一味清。</td>\n",
       "      <td>唐代</td>\n",
       "      <td>王贞白</td>\n",
       "      <td>写景;抒情</td>\n",
       "      <td>2</td>\n",
       "      <td>82</td>\n",
       "      <td>白鹿洞二首·其二</td>\n",
       "      <td>[写景, 抒情]</td>\n",
       "    </tr>\n",
       "    <tr>\n",
       "      <th>56</th>\n",
       "      <td>一上高城万里愁，蒹葭杨柳似汀洲。溪云初起日沉阁，山雨欲来风满楼。(沉通：沈)鸟下绿芜秦苑夕，...</td>\n",
       "      <td>唐代</td>\n",
       "      <td>许浑</td>\n",
       "      <td>写景;吊古伤今</td>\n",
       "      <td>464</td>\n",
       "      <td>663</td>\n",
       "      <td>咸阳城东楼咸阳城西楼晚眺</td>\n",
       "      <td>[写景, 吊古伤今]</td>\n",
       "    </tr>\n",
       "    <tr>\n",
       "      <th>66</th>\n",
       "      <td>一丘壑。老子风流占却。茅檐上、松月桂云，脉脉石泉逗山脚。寻思前事错。恼杀晨猿夜鹤。终须是、邓...</td>\n",
       "      <td>宋代</td>\n",
       "      <td>辛弃疾</td>\n",
       "      <td>写景;归隐;旷达;淡泊</td>\n",
       "      <td>27</td>\n",
       "      <td>2593</td>\n",
       "      <td>兰陵王·赋一丘一壑</td>\n",
       "      <td>[写景, 归隐, 旷达, 淡泊]</td>\n",
       "    </tr>\n",
       "    <tr>\n",
       "      <th>68</th>\n",
       "      <td>一丘常欲卧，三径苦无资。北土非吾愿，东林怀我师。黄金燃桂尽，壮志逐年衰。日夕凉风至，闻蝉但益悲。</td>\n",
       "      <td>唐代</td>\n",
       "      <td>孟浩然</td>\n",
       "      <td>唐诗三百首;抒情;归隐</td>\n",
       "      <td>47</td>\n",
       "      <td>1285</td>\n",
       "      <td>秦中感秋寄远上人秦中寄远上人</td>\n",
       "      <td>[唐诗三百首, 抒情, 归隐]</td>\n",
       "    </tr>\n",
       "    <tr>\n",
       "      <th>81</th>\n",
       "      <td>一个小园儿，两三亩地。花竹随宜旋装缀。槿篱茅舍，便有山家风味。等闲池上饮，林间醉。都为自家，...</td>\n",
       "      <td>宋代</td>\n",
       "      <td>朱敦儒</td>\n",
       "      <td>写景;议论</td>\n",
       "      <td>32</td>\n",
       "      <td>322</td>\n",
       "      <td>感皇恩·一个小园儿</td>\n",
       "      <td>[写景, 议论]</td>\n",
       "    </tr>\n",
       "  </tbody>\n",
       "</table>\n",
       "</div>"
      ],
      "text/plain": [
       "                                              content dynasty author  \\\n",
       "38  《吴都赋》云：“户藏烟浦，家具画船。”唯吴兴为然。春游之盛，西湖未能过也。己酉岁，予与萧时父...      宋代     姜夔   \n",
       "39  《廿一史弹词》第三段说秦汉开场词滚滚长江东逝水，浪花淘尽英雄。是非成败转头空。青山依旧在，几...      明代     杨慎   \n",
       "40  《水经》云：“彭蠡之口有石钟山焉。”郦元以为下临深潭，微风鼓浪，水石相搏，声如洪钟。是说也，...      宋代     苏轼   \n",
       "41  【序】辛亥之冬，予载雪诣石湖。止既月，授简索句，且征新声，作此两曲。石湖把玩不已，使工妓隶习...      宋代     姜夔   \n",
       "44  〔一枝花〕　　攀出墙朵朵花，折临路枝枝柳。花攀红蕊嫩，柳折翠条柔，浪子风流。凭着我折柳攀花手...      元代    关汉卿   \n",
       "54                   一上西园避暑亭，芰荷香细午风轻。眼前物物皆佳兴，并作吟窝一味清。      唐代    王贞白   \n",
       "56  一上高城万里愁，蒹葭杨柳似汀洲。溪云初起日沉阁，山雨欲来风满楼。(沉通：沈)鸟下绿芜秦苑夕，...      唐代     许浑   \n",
       "66  一丘壑。老子风流占却。茅檐上、松月桂云，脉脉石泉逗山脚。寻思前事错。恼杀晨猿夜鹤。终须是、邓...      宋代    辛弃疾   \n",
       "68   一丘常欲卧，三径苦无资。北土非吾愿，东林怀我师。黄金燃桂尽，壮志逐年衰。日夕凉风至，闻蝉但益悲。      唐代    孟浩然   \n",
       "81  一个小园儿，两三亩地。花竹随宜旋装缀。槿篱茅舍，便有山家风味。等闲池上饮，林间醉。都为自家，...      宋代    朱敦儒   \n",
       "\n",
       "             tags  star author_stars             title           tags_list  \n",
       "38         春游;怀人;    64          279  琵琶仙·《吴都赋》云：「户藏烟浦            [春游, 怀人]  \n",
       "39    咏史;抒怀;人生;哲理  3244          131       临江仙·滚滚长江东逝水    [咏史, 抒怀, 人生, 哲理]  \n",
       "40  古文观止;纪游;写景;写山   306         4011              石钟山记  [古文观止, 纪游, 写景, 写山]  \n",
       "41          咏物;梅花    74          279              暗香疏影            [咏物, 梅花]  \n",
       "44      ;散曲;抒情;生活   140          124        【南吕】一枝花不伏老        [散曲, 抒情, 生活]  \n",
       "54          写景;抒情     2           82          白鹿洞二首·其二            [写景, 抒情]  \n",
       "56        写景;吊古伤今   464          663      咸阳城东楼咸阳城西楼晚眺          [写景, 吊古伤今]  \n",
       "66    写景;归隐;旷达;淡泊    27         2593         兰陵王·赋一丘一壑    [写景, 归隐, 旷达, 淡泊]  \n",
       "68    唐诗三百首;抒情;归隐    47         1285    秦中感秋寄远上人秦中寄远上人     [唐诗三百首, 抒情, 归隐]  \n",
       "81          写景;议论    32          322         感皇恩·一个小园儿            [写景, 议论]  "
      ]
     },
     "execution_count": 17,
     "metadata": {},
     "output_type": "execute_result"
    }
   ],
   "source": [
    "poems_df.head(10)"
   ]
  },
  {
   "cell_type": "markdown",
   "metadata": {},
   "source": [
    "## Save to csv"
   ]
  },
  {
   "cell_type": "code",
   "execution_count": 19,
   "metadata": {},
   "outputs": [],
   "source": [
    "compression_opts = dict(method='zip', archive_name='poems_with_tags.csv') \n",
    "\n",
    "poems_df.to_csv('poems_with_tags.zip', index=False,compression=compression_opts)  "
   ]
  },
  {
   "cell_type": "markdown",
   "metadata": {},
   "source": [
    "## Dynasties Summary"
   ]
  },
  {
   "cell_type": "code",
   "execution_count": 225,
   "metadata": {},
   "outputs": [],
   "source": [
    "group_by_dynasty = poems_df.groupby('dynasty').describe() "
   ]
  },
  {
   "cell_type": "code",
   "execution_count": 226,
   "metadata": {},
   "outputs": [
    {
     "data": {
      "image/png": "[encoded data removed]",
      "text/plain": [
       "<Figure size 720x360 with 1 Axes>"
      ]
     },
     "metadata": {
      "needs_background": "light"
     },
     "output_type": "display_data"
    }
   ],
   "source": [
    "poems_by_dynasty = group_by_dynasty['content', 'unique']\n",
    "# creating the dataset \n",
    "dynasties = list(poems_by_dynasty.index) \n",
    "poems_count = list(poems_by_dynasty) \n",
    "   \n",
    "fig = plt.figure(figsize = (10, 5)) \n",
    "  \n",
    "# creating the bar plot \n",
    "plt.bar(dynasties, poems_count,  \n",
    "        width = 0.4) \n",
    "  \n",
    "plt.xlabel(\"Dynasties\") \n",
    "plt.ylabel(\"No. of poems\") \n",
    "plt.title(\"Poems Written in Different Dynasties\") \n",
    "plt.show() "
   ]
  },
  {
   "cell_type": "code",
   "execution_count": 227,
   "metadata": {},
   "outputs": [
    {
     "data": {
      "image/png": "[encoded data removed]",
      "text/plain": [
       "<Figure size 720x360 with 1 Axes>"
      ]
     },
     "metadata": {
      "needs_background": "light"
     },
     "output_type": "display_data"
    }
   ],
   "source": [
    "poets_by_dynasty = group_by_dynasty['author', 'unique']\n",
    "# creating the dataset \n",
    "dynasties = list(poets_by_dynasty.index) \n",
    "poets_count = list(poets_by_dynasty) \n",
    "   \n",
    "fig = plt.figure(figsize = (10, 5)) \n",
    "  \n",
    "# creating the bar plot \n",
    "plt.bar(dynasties, poets_count,  \n",
    "        width = 0.4) \n",
    "  \n",
    "plt.xlabel(\"Dynasties\") \n",
    "plt.ylabel(\"No. of Poets\") \n",
    "plt.title(\"Poets in Different Dynasties\") \n",
    "plt.show() "
   ]
  },
  {
   "cell_type": "markdown",
   "metadata": {},
   "source": [
    "## Poets Summary"
   ]
  },
  {
   "cell_type": "code",
   "execution_count": 228,
   "metadata": {},
   "outputs": [],
   "source": [
    "group_by_author = poems_df.groupby('author').describe()\n",
    "group_by_author = group_by_author.sort_values(by=[('title', 'unique')],ascending=False)"
   ]
  },
  {
   "cell_type": "code",
   "execution_count": 229,
   "metadata": {},
   "outputs": [
    {
     "data": {
      "image/png": "[encoded data removed]",
      "text/plain": [
       "<Figure size 720x360 with 1 Axes>"
      ]
     },
     "metadata": {
      "needs_background": "light"
     },
     "output_type": "display_data"
    }
   ],
   "source": [
    "poems_by_author = group_by_author['title', 'unique']\n",
    "# creating the dataset \n",
    "poets = list(poems_by_author.index)[:20] \n",
    "poems_count = list(poems_by_author)[:20] \n",
    "   \n",
    "fig = plt.figure(figsize = (10, 5)) \n",
    "  \n",
    "# creating the bar plot \n",
    "plt.bar(poets, poems_count,  \n",
    "        width = 0.4) \n",
    "  \n",
    "plt.xlabel(\"Poets\") \n",
    "plt.ylabel(\"No. of poems\") \n",
    "plt.title(\"Poems Written in Different Dynasties\") \n",
    "plt.show()"
   ]
  },
  {
   "cell_type": "markdown",
   "metadata": {},
   "source": [
    "## Tags Summary"
   ]
  },
  {
   "cell_type": "code",
   "execution_count": 242,
   "metadata": {},
   "outputs": [],
   "source": [
    "flatten_tags= poems_df.explode('tags_list')\n",
    "group_by_dynasty = flatten_tags.groupby('dynasty').describe()"
   ]
  },
  {
   "cell_type": "code",
   "execution_count": 244,
   "metadata": {},
   "outputs": [
    {
     "data": {
      "text/plain": [
       "MultiIndex([(     'content',  'count'),\n",
       "            (     'content', 'unique'),\n",
       "            (     'content',    'top'),\n",
       "            (     'content',   'freq'),\n",
       "            (      'author',  'count'),\n",
       "            (      'author', 'unique'),\n",
       "            (      'author',    'top'),\n",
       "            (      'author',   'freq'),\n",
       "            (        'tags',  'count'),\n",
       "            (        'tags', 'unique'),\n",
       "            (        'tags',    'top'),\n",
       "            (        'tags',   'freq'),\n",
       "            (        'star',  'count'),\n",
       "            (        'star', 'unique'),\n",
       "            (        'star',    'top'),\n",
       "            (        'star',   'freq'),\n",
       "            ('author_stars',  'count'),\n",
       "            ('author_stars', 'unique'),\n",
       "            ('author_stars',    'top'),\n",
       "            ('author_stars',   'freq'),\n",
       "            (       'title',  'count'),\n",
       "            (       'title', 'unique'),\n",
       "            (       'title',    'top'),\n",
       "            (       'title',   'freq'),\n",
       "            (   'tags_list',  'count'),\n",
       "            (   'tags_list', 'unique'),\n",
       "            (   'tags_list',    'top'),\n",
       "            (   'tags_list',   'freq')],\n",
       "           )"
      ]
     },
     "execution_count": 244,
     "metadata": {},
     "output_type": "execute_result"
    }
   ],
   "source": [
    "group_by_dynasty.columns"
   ]
  },
  {
   "cell_type": "code",
   "execution_count": 245,
   "metadata": {},
   "outputs": [
    {
     "data": {
      "text/plain": [
       "dynasty\n",
       "两汉     古文观止\n",
       "五代       写景\n",
       "元代       抒情\n",
       "先秦     古文观止\n",
       "南北朝      写景\n",
       "唐代       写景\n",
       "宋代       写景\n",
       "明代       写景\n",
       "清代       写景\n",
       "近代       抒怀\n",
       "金朝       组诗\n",
       "隋代       秋天\n",
       "魏晋       抒情\n",
       "Name: (tags_list, top), dtype: object"
      ]
     },
     "execution_count": 245,
     "metadata": {},
     "output_type": "execute_result"
    }
   ],
   "source": [
    "group_by_dynasty[('tags_list','top')]"
   ]
  },
  {
   "cell_type": "code",
   "execution_count": 252,
   "metadata": {},
   "outputs": [
    {
     "data": {
      "image/png": "[encoded data removed]",
      "text/plain": [
       "<Figure size 720x360 with 1 Axes>"
      ]
     },
     "metadata": {
      "needs_background": "light"
     },
     "output_type": "display_data"
    }
   ],
   "source": [
    "tang_dynasty_tags = flatten_tags[flatten_tags['dynasty']=='唐代'].groupby('tags_list').count()\n",
    "tang_dynasty_tags = tang_dynasty_tags.sort_values(by=['title'],ascending=False)\n",
    "# creating the dataset \n",
    "tags = list(tang_dynasty_tags.index)[:20] \n",
    "tags_count = list(tang_dynasty_tags.title)[:20] \n",
    "   \n",
    "fig = plt.figure(figsize = (10, 5)) \n",
    "  \n",
    "# creating the bar plot \n",
    "plt.bar(tags, tags_count,  \n",
    "        width = 0.4) \n",
    "  \n",
    "plt.xlabel(\"Tags\") \n",
    "plt.ylabel(\"Count. of tags\") \n",
    "plt.title(\"Most Frequent Tags in Tang Dynasty\") \n",
    "plt.show()"
   ]
  },
  {
   "cell_type": "code",
   "execution_count": 253,
   "metadata": {},
   "outputs": [
    {
     "data": {
      "image/png": "[encoded data removed]",
      "text/plain": [
       "<Figure size 720x360 with 1 Axes>"
      ]
     },
     "metadata": {
      "needs_background": "light"
     },
     "output_type": "display_data"
    }
   ],
   "source": [
    "weijin_dynasty_tags = flatten_tags[flatten_tags['dynasty']=='魏晋'].groupby('tags_list').count()\n",
    "weijin_dynasty_tags = weijin_dynasty_tags.sort_values(by=['title'],ascending=False)\n",
    "# creating the dataset \n",
    "tags = list(weijin_dynasty_tags.index)[:20] \n",
    "tags_count = list(weijin_dynasty_tags.title)[:20] \n",
    "   \n",
    "fig = plt.figure(figsize = (10, 5)) \n",
    "  \n",
    "# creating the bar plot \n",
    "plt.bar(tags, tags_count,  \n",
    "        width = 0.4) \n",
    "  \n",
    "plt.xlabel(\"Tags\") \n",
    "plt.ylabel(\"Count. of tags\") \n",
    "plt.title(\"Most Frequent Tags in WeiJing Dynasty\") \n",
    "plt.show()"
   ]
  },
  {
   "cell_type": "code",
   "execution_count": 254,
   "metadata": {},
   "outputs": [
    {
     "data": {
      "image/png": "[encoded data removed]",
      "text/plain": [
       "<Figure size 720x360 with 1 Axes>"
      ]
     },
     "metadata": {
      "needs_background": "light"
     },
     "output_type": "display_data"
    }
   ],
   "source": [
    "wudai_dynasty_tags = flatten_tags[flatten_tags['dynasty']=='五代'].groupby('tags_list').count()\n",
    "wudai_dynasty_tags = wudai_dynasty_tags.sort_values(by=['title'],ascending=False)\n",
    "# creating the dataset \n",
    "tags = list(wudai_dynasty_tags.index)[:20] \n",
    "tags_count = list(wudai_dynasty_tags.title)[:20] \n",
    "   \n",
    "fig = plt.figure(figsize = (10, 5)) \n",
    "  \n",
    "# creating the bar plot \n",
    "plt.bar(tags, tags_count,  \n",
    "        width = 0.4) \n",
    "  \n",
    "plt.xlabel(\"Tags\") \n",
    "plt.ylabel(\"Count. of tags\") \n",
    "plt.title(\"Most Frequent Tags in WuDai Dynasty\") \n",
    "plt.show()"
   ]
  },
  {
   "cell_type": "markdown",
   "metadata": {},
   "source": [
    "## Objects Summary (Most frequent word/two words)"
   ]
  },
  {
   "cell_type": "code",
   "execution_count": null,
   "metadata": {},
   "outputs": [],
   "source": []
  }
 ],
 "metadata": {
  "kernelspec": {
   "display_name": "Python 3",
   "language": "python",
   "name": "python3"
  },
  "language_info": {
   "codemirror_mode": {
    "name": "ipython",
    "version": 3
   },
   "file_extension": ".py",
   "mimetype": "text/x-python",
   "name": "python",
   "nbconvert_exporter": "python",
   "pygments_lexer": "ipython3",
   "version": "3.8.3"
  }
 },
 "nbformat": 4,
 "nbformat_minor": 4
}
