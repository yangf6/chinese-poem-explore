{
 "cells": [
  {
   "cell_type": "code",
   "execution_count": 125,
   "metadata": {},
   "outputs": [],
   "source": [
    "#import librarie\n",
    "from zipfile import ZipFile \n",
    "import os.path\n",
    "from os import path\n",
    "import pandas as pd\n",
    "import numpy as np\n",
    "import base64\n",
    "import matplotlib\n",
    "import matplotlib.pyplot as plt\n",
    "import seaborn as sns\n",
    "from itertools import groupby\n",
    "from matplotlib import font_manager\n",
    "\n"
   ]
  },
  {
   "cell_type": "code",
   "execution_count": 126,
   "metadata": {},
   "outputs": [
    {
     "name": "stdout",
     "output_type": "stream",
     "text": [
      "/home/lindayang16/anaconda3/lib/python3.8/site-packages/matplotlib/mpl-data/matplotlibrc\n"
     ]
    }
   ],
   "source": [
    "print(matplotlib.matplotlib_fname())\n"
   ]
  },
  {
   "cell_type": "code",
   "execution_count": 118,
   "metadata": {},
   "outputs": [],
   "source": [
    "fontP = font_manager.FontProperties()\n",
    "fontP.set_family('SimHei')\n",
    "fontP.set_size(14)\n",
    "plt.rcParams[\"font.family\"] = \"SimHei\"\n"
   ]
  },
  {
   "cell_type": "code",
   "execution_count": 109,
   "metadata": {},
   "outputs": [],
   "source": [
    "%%bash\n",
    "\n",
    "# pip3 install -U seaborn\n",
    "\n",
    "fc-list :lang=zh"
   ]
  },
  {
   "cell_type": "markdown",
   "metadata": {},
   "source": [
    "# Load Data"
   ]
  },
  {
   "cell_type": "code",
   "execution_count": 4,
   "metadata": {},
   "outputs": [
    {
     "name": "stdout",
     "output_type": "stream",
     "text": [
      "there are 92121 of poems\n"
     ]
    }
   ],
   "source": [
    "# specifying the zip file name \n",
    "file_name = \"corpus_poem.zip\"\n",
    "poems_dir = \"corpus_poem\"\n",
    "if not path.exists(poems_dir):\n",
    "# opening the zip file in READ mode \n",
    "    with ZipFile(file_name, 'r') as zip: \n",
    "        # printing all the contents of the zip file \n",
    "        zip.printdir() \n",
    "\n",
    "        # extracting all the files \n",
    "        print('Extracting all the files now...') \n",
    "        zip.extractall() \n",
    "        print('Done!') \n",
    "else:\n",
    "    poems_count = len(os.listdir(poems_dir))\n",
    "    print('there are {} of poems'.format(poems_count))"
   ]
  },
  {
   "cell_type": "code",
   "execution_count": 48,
   "metadata": {},
   "outputs": [],
   "source": [
    "#load into data frame\n",
    "file_name = \"corpus_poem.zip\"\n",
    "\n",
    "poems_data = []\n",
    "with ZipFile(file_name) as z:\n",
    "    for filename in z.namelist():\n",
    "        if not os.path.isdir(filename):\n",
    "            # read the file\n",
    "            with z.open(filename) as f:\n",
    "                poem = {}\n",
    "                for line in f:\n",
    "                    new_line = line.decode('utf-8').replace(\"\\n\",\"\")\n",
    "                    split_line = new_line.split(\":\");\n",
    "                    poem[split_line[0]] = split_line[1]\n",
    "                poems_data.append(poem)\n",
    "poems_data = poems_data[1:]\n",
    "poems_dataframe = pd.DataFrame(poems_data)                "
   ]
  },
  {
   "cell_type": "markdown",
   "metadata": {},
   "source": [
    "# Exploratory Data Analysis (EDA)"
   ]
  },
  {
   "cell_type": "code",
   "execution_count": 49,
   "metadata": {},
   "outputs": [
    {
     "data": {
      "text/html": [
       "<div>\n",
       "<style scoped>\n",
       "    .dataframe tbody tr th:only-of-type {\n",
       "        vertical-align: middle;\n",
       "    }\n",
       "\n",
       "    .dataframe tbody tr th {\n",
       "        vertical-align: top;\n",
       "    }\n",
       "\n",
       "    .dataframe thead th {\n",
       "        text-align: right;\n",
       "    }\n",
       "</style>\n",
       "<table border=\"1\" class=\"dataframe\">\n",
       "  <thead>\n",
       "    <tr style=\"text-align: right;\">\n",
       "      <th></th>\n",
       "      <th>dynasty</th>\n",
       "      <th>author</th>\n",
       "      <th>tags</th>\n",
       "      <th>star</th>\n",
       "      <th>author_stars</th>\n",
       "      <th>title</th>\n",
       "      <th>content</th>\n",
       "    </tr>\n",
       "  </thead>\n",
       "  <tbody>\n",
       "    <tr>\n",
       "      <th>0</th>\n",
       "      <td>唐代</td>\n",
       "      <td>杜牧</td>\n",
       "      <td></td>\n",
       "      <td>1</td>\n",
       "      <td>1692</td>\n",
       "      <td>和野人殷潜之题筹笔驿十四韵</td>\n",
       "      <td>三吴裂婺女，九锡狱孤儿。霸主业未半，本朝心是谁。永安宫受诏，筹笔驿沉思。画地乾坤在，濡毫胜负...</td>\n",
       "    </tr>\n",
       "    <tr>\n",
       "      <th>1</th>\n",
       "      <td>清代</td>\n",
       "      <td>纳兰性德</td>\n",
       "      <td>写景;伤春</td>\n",
       "      <td>13</td>\n",
       "      <td>1951</td>\n",
       "      <td>四和香·麦浪翻晴风飐柳</td>\n",
       "      <td>麦浪翻晴风飐柳，已过伤春候。因甚为他成僝僽？毕竟是春迤逗。红药阑边携素手，暖语浓于酒。盼到园...</td>\n",
       "    </tr>\n",
       "    <tr>\n",
       "      <th>2</th>\n",
       "      <td>唐代</td>\n",
       "      <td>刘禹锡</td>\n",
       "      <td></td>\n",
       "      <td>1</td>\n",
       "      <td>2116</td>\n",
       "      <td>奉送浙西李仆射相公赴镇</td>\n",
       "      <td>建节东行是旧游，欢声喜气满吴州。郡人重得黄丞相，童子争迎郭细侯。诏下初辞温室树，梦中先到景阳...</td>\n",
       "    </tr>\n",
       "    <tr>\n",
       "      <th>3</th>\n",
       "      <td>唐代</td>\n",
       "      <td>王维</td>\n",
       "      <td></td>\n",
       "      <td>1</td>\n",
       "      <td>2192</td>\n",
       "      <td>大同殿柱产玉芝，龙池上有庆云神光照殿，百</td>\n",
       "      <td>欲笑周文歌宴镐，遥轻汉武乐横汾。岂知玉殿生三秀，讵有铜池出五云。陌上尧樽倾北斗，楼前舜乐动南...</td>\n",
       "    </tr>\n",
       "    <tr>\n",
       "      <th>4</th>\n",
       "      <td>唐代</td>\n",
       "      <td>王维</td>\n",
       "      <td></td>\n",
       "      <td>2</td>\n",
       "      <td>2192</td>\n",
       "      <td>冬日游览</td>\n",
       "      <td>步出城东门，试骋千里目。青山横苍林，赤日团平陆。渭北走邯郸，关东出函谷。秦地万方会，来朝九州...</td>\n",
       "    </tr>\n",
       "  </tbody>\n",
       "</table>\n",
       "</div>"
      ],
      "text/plain": [
       "  dynasty author   tags star author_stars                 title  \\\n",
       "0      唐代     杜牧           1         1692         和野人殷潜之题筹笔驿十四韵   \n",
       "1      清代   纳兰性德  写景;伤春   13         1951           四和香·麦浪翻晴风飐柳   \n",
       "2      唐代    刘禹锡           1         2116           奉送浙西李仆射相公赴镇   \n",
       "3      唐代     王维           1         2192  大同殿柱产玉芝，龙池上有庆云神光照殿，百   \n",
       "4      唐代     王维           2         2192                  冬日游览   \n",
       "\n",
       "                                             content  \n",
       "0  三吴裂婺女，九锡狱孤儿。霸主业未半，本朝心是谁。永安宫受诏，筹笔驿沉思。画地乾坤在，濡毫胜负...  \n",
       "1  麦浪翻晴风飐柳，已过伤春候。因甚为他成僝僽？毕竟是春迤逗。红药阑边携素手，暖语浓于酒。盼到园...  \n",
       "2  建节东行是旧游，欢声喜气满吴州。郡人重得黄丞相，童子争迎郭细侯。诏下初辞温室树，梦中先到景阳...  \n",
       "3  欲笑周文歌宴镐，遥轻汉武乐横汾。岂知玉殿生三秀，讵有铜池出五云。陌上尧樽倾北斗，楼前舜乐动南...  \n",
       "4  步出城东门，试骋千里目。青山横苍林，赤日团平陆。渭北走邯郸，关东出函谷。秦地万方会，来朝九州...  "
      ]
     },
     "execution_count": 49,
     "metadata": {},
     "output_type": "execute_result"
    }
   ],
   "source": [
    "poems_dataframe.head()"
   ]
  },
  {
   "cell_type": "code",
   "execution_count": 59,
   "metadata": {},
   "outputs": [
    {
     "data": {
      "text/html": [
       "<div>\n",
       "<style scoped>\n",
       "    .dataframe tbody tr th:only-of-type {\n",
       "        vertical-align: middle;\n",
       "    }\n",
       "\n",
       "    .dataframe tbody tr th {\n",
       "        vertical-align: top;\n",
       "    }\n",
       "\n",
       "    .dataframe thead th {\n",
       "        text-align: right;\n",
       "    }\n",
       "</style>\n",
       "<table border=\"1\" class=\"dataframe\">\n",
       "  <thead>\n",
       "    <tr style=\"text-align: right;\">\n",
       "      <th></th>\n",
       "      <th>dynasty</th>\n",
       "      <th>author</th>\n",
       "      <th>tags</th>\n",
       "      <th>star</th>\n",
       "      <th>author_stars</th>\n",
       "      <th>title</th>\n",
       "      <th>content</th>\n",
       "    </tr>\n",
       "  </thead>\n",
       "  <tbody>\n",
       "    <tr>\n",
       "      <th>count</th>\n",
       "      <td>92121</td>\n",
       "      <td>92121</td>\n",
       "      <td>92121</td>\n",
       "      <td>92121</td>\n",
       "      <td>92121</td>\n",
       "      <td>92121</td>\n",
       "      <td>92121</td>\n",
       "    </tr>\n",
       "    <tr>\n",
       "      <th>unique</th>\n",
       "      <td>15</td>\n",
       "      <td>1236</td>\n",
       "      <td>5129</td>\n",
       "      <td>919</td>\n",
       "      <td>245</td>\n",
       "      <td>83614</td>\n",
       "      <td>85713</td>\n",
       "    </tr>\n",
       "    <tr>\n",
       "      <th>top</th>\n",
       "      <td>宋代</td>\n",
       "      <td>陆游</td>\n",
       "      <td></td>\n",
       "      <td>1</td>\n",
       "      <td>0</td>\n",
       "      <td>句</td>\n",
       "      <td>何地早芳菲，宛在长门殿。夭桃色若绶，秾李光如练。啼鸟弄花疏，游蜂饮香遍。叹息春风起，飘零君不见。</td>\n",
       "    </tr>\n",
       "    <tr>\n",
       "      <th>freq</th>\n",
       "      <td>53453</td>\n",
       "      <td>3762</td>\n",
       "      <td>85980</td>\n",
       "      <td>73789</td>\n",
       "      <td>5678</td>\n",
       "      <td>225</td>\n",
       "      <td>4</td>\n",
       "    </tr>\n",
       "  </tbody>\n",
       "</table>\n",
       "</div>"
      ],
      "text/plain": [
       "       dynasty author   tags   star author_stars  title  \\\n",
       "count    92121  92121  92121  92121        92121  92121   \n",
       "unique      15   1236   5129    919          245  83614   \n",
       "top         宋代     陆游             1            0      句   \n",
       "freq     53453   3762  85980  73789         5678    225   \n",
       "\n",
       "                                                 content  \n",
       "count                                              92121  \n",
       "unique                                             85713  \n",
       "top     何地早芳菲，宛在长门殿。夭桃色若绶，秾李光如练。啼鸟弄花疏，游蜂饮香遍。叹息春风起，飘零君不见。  \n",
       "freq                                                   4  "
      ]
     },
     "execution_count": 59,
     "metadata": {},
     "output_type": "execute_result"
    }
   ],
   "source": [
    "poems_dataframe.describe()"
   ]
  },
  {
   "cell_type": "markdown",
   "metadata": {},
   "source": [
    "## Dynasties Summary"
   ]
  },
  {
   "cell_type": "code",
   "execution_count": 98,
   "metadata": {},
   "outputs": [],
   "source": [
    "group_by_dynasty = poems_dataframe.groupby('dynasty').describe()"
   ]
  },
  {
   "cell_type": "code",
   "execution_count": 107,
   "metadata": {},
   "outputs": [
    {
     "data": {
      "text/plain": [
       "[210, 109, 3093, 85, 1153, 26503, 49574, 2885, 16, 1253, 1, 109, 165, 98, 515]"
      ]
     },
     "execution_count": 107,
     "metadata": {},
     "output_type": "execute_result"
    }
   ],
   "source": [
    "# poems_by_dynasty = group_by_dynasty['content', 'unique']\n",
    "# poems_by_dynasty.to_frame().columns\n",
    "poems_by_dynasty = group_by_dynasty['content', 'unique']\n",
    "list(group_by_dynasty['content', 'unique'])"
   ]
  },
  {
   "cell_type": "code",
   "execution_count": 123,
   "metadata": {},
   "outputs": [
    {
     "ename": "AttributeError",
     "evalue": "'Index' object has no attribute 'decode'",
     "output_type": "error",
     "traceback": [
      "\u001b[0;31m---------------------------------------------------------------------------\u001b[0m",
      "\u001b[0;31mAttributeError\u001b[0m                            Traceback (most recent call last)",
      "\u001b[0;32m<ipython-input-123-3b9ae1f069f5>\u001b[0m in \u001b[0;36m<module>\u001b[0;34m\u001b[0m\n\u001b[1;32m      1\u001b[0m \u001b[0mpoems_by_dynasty\u001b[0m \u001b[0;34m=\u001b[0m \u001b[0mgroup_by_dynasty\u001b[0m\u001b[0;34m[\u001b[0m\u001b[0;34m'content'\u001b[0m\u001b[0;34m,\u001b[0m \u001b[0;34m'unique'\u001b[0m\u001b[0;34m]\u001b[0m\u001b[0;34m\u001b[0m\u001b[0;34m\u001b[0m\u001b[0m\n\u001b[1;32m      2\u001b[0m \u001b[0;31m# creating the dataset\u001b[0m\u001b[0;34m\u001b[0m\u001b[0;34m\u001b[0m\u001b[0;34m\u001b[0m\u001b[0m\n\u001b[0;32m----> 3\u001b[0;31m \u001b[0mdynasties\u001b[0m \u001b[0;34m=\u001b[0m \u001b[0mlist\u001b[0m\u001b[0;34m(\u001b[0m\u001b[0mpoems_by_dynasty\u001b[0m\u001b[0;34m.\u001b[0m\u001b[0mindex\u001b[0m\u001b[0;34m.\u001b[0m\u001b[0mdecode\u001b[0m\u001b[0;34m(\u001b[0m\u001b[0;34m'utf-8'\u001b[0m\u001b[0;34m)\u001b[0m\u001b[0;34m)\u001b[0m\u001b[0;34m\u001b[0m\u001b[0;34m\u001b[0m\u001b[0m\n\u001b[0m\u001b[1;32m      4\u001b[0m \u001b[0mpoems_count\u001b[0m \u001b[0;34m=\u001b[0m \u001b[0mlist\u001b[0m\u001b[0;34m(\u001b[0m\u001b[0mpoems_by_dynasty\u001b[0m\u001b[0;34m)\u001b[0m\u001b[0;34m\u001b[0m\u001b[0;34m\u001b[0m\u001b[0m\n\u001b[1;32m      5\u001b[0m \u001b[0;34m\u001b[0m\u001b[0m\n",
      "\u001b[0;31mAttributeError\u001b[0m: 'Index' object has no attribute 'decode'"
     ]
    }
   ],
   "source": [
    "poems_by_dynasty = group_by_dynasty['content', 'unique']\n",
    "# creating the dataset \n",
    "dynasties = list(poems_by_dynasty.index.decode('utf-8')) \n",
    "poems_count = list(poems_by_dynasty) \n",
    "   \n",
    "fig = plt.figure(figsize = (10, 5)) \n",
    "  \n",
    "# creating the bar plot \n",
    "plt.bar(dynasties, poems_count,  \n",
    "        width = 0.4) \n",
    "  \n",
    "plt.xlabel(\"Dynasties\") \n",
    "plt.ylabel(\"No. of poems\") \n",
    "plt.title(\"Poems Written in Different Dynasties\") \n",
    "plt.show() "
   ]
  },
  {
   "cell_type": "markdown",
   "metadata": {},
   "source": [
    "## Poets Summary"
   ]
  },
  {
   "cell_type": "markdown",
   "metadata": {},
   "source": [
    "## Tags Summary"
   ]
  },
  {
   "cell_type": "markdown",
   "metadata": {},
   "source": [
    "## Objects Summary (Most frequent word/two words)"
   ]
  },
  {
   "cell_type": "code",
   "execution_count": null,
   "metadata": {},
   "outputs": [],
   "source": []
  }
 ],
 "metadata": {
  "kernelspec": {
   "display_name": "Python 3",
   "language": "python",
   "name": "python3"
  },
  "language_info": {
   "codemirror_mode": {
    "name": "ipython",
    "version": 3
   },
   "file_extension": ".py",
   "mimetype": "text/x-python",
   "name": "python",
   "nbconvert_exporter": "python",
   "pygments_lexer": "ipython3",
   "version": "3.8.3"
  }
 },
 "nbformat": 4,
 "nbformat_minor": 4
}
