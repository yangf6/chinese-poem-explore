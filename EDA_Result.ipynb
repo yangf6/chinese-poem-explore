{
 "cells": [
  {
   "cell_type": "code",
   "execution_count": 1,
   "metadata": {},
   "outputs": [],
   "source": [
    "import os\n",
    "import csv\n",
    "import pandas as pd\n",
    "import numpy as np\n",
    "import matplotlib.pyplot as plt\n",
    "import seaborn as sns\n",
    "import re"
   ]
  },
  {
   "cell_type": "code",
   "execution_count": 2,
   "metadata": {},
   "outputs": [],
   "source": [
    "from IPython.display import Markdown, display\n",
    "def printmd(string):\n",
    "    display(Markdown(string))\n",
    "#printmd('**bold**')"
   ]
  },
  {
   "cell_type": "code",
   "execution_count": 3,
   "metadata": {},
   "outputs": [],
   "source": [
    "file_name = \"poems_with_tags_all.zip\"\n",
    "poem_df = pd.read_csv('poems_with_tags_all.zip', compression='zip', header=0, quotechar='\"')\n"
   ]
  },
  {
   "cell_type": "code",
   "execution_count": 8,
   "metadata": {},
   "outputs": [],
   "source": [
    "#'写物', '劝勉', '家庭', '快乐', '悲苦', '政治', '朋友', '游玩'\n",
    "poem_df.rename(columns={'写物': 'object_', '劝勉': 'encourage_', '家庭':'family_', '快乐':'happiness_',\\\n",
    "          '悲苦': 'sadness_', '政治': 'policy_', '朋友': 'friend_', '游玩': 'travel_'}, inplace=True)\n",
    "\n",
    "\n",
    "poem_df = poem_df[poem_df.dynasty!='未知']\n"
   ]
  },
  {
   "cell_type": "code",
   "execution_count": 10,
   "metadata": {},
   "outputs": [
    {
     "data": {
      "text/plain": [
       "array(['宋代', '明代', '元代', '唐代', '清代', '五代', '两汉', '魏晋', '金朝', '近代', '先秦',\n",
       "       '南北朝', '隋代'], dtype=object)"
      ]
     },
     "execution_count": 10,
     "metadata": {},
     "output_type": "execute_result"
    }
   ],
   "source": [
    "poem_df.dynasty.unique()"
   ]
  },
  {
   "cell_type": "code",
   "execution_count": 13,
   "metadata": {},
   "outputs": [],
   "source": [
    "# 夏、商、周[西周、东周(春秋、战国)]、秦、西汉、新朝、玄汉、东汉、\n",
    "# 三国时期(魏、蜀、吴)、晋(西晋、东晋)、南北朝[南朝(宋、齐、梁、陈)、\n",
    "# 北朝(北魏、东魏、西魏、北齐、北周)、\n",
    "# 隋、唐、五代(后梁、后唐、后晋、后汉、后周)、十国[前蜀、后蜀、吴、南唐、吴越、闽、楚、南汉、南平(荆南)、北汉]、\n",
    "# 宋(北宋、南宋)、辽、西夏、金、元、明、清、中华民国、中华人民共和国。\n",
    "                         \n",
    "#                          '宋代', '明代', '元代', '唐代', '清代', '五代', '两汉', '魏晋', '金朝', '近代', '先秦',\n",
    "#        '南北朝', '隋代'"
   ]
  },
  {
   "cell_type": "code",
   "execution_count": 15,
   "metadata": {},
   "outputs": [
    {
     "data": {
      "text/html": [
       "<div>\n",
       "<style scoped>\n",
       "    .dataframe tbody tr th:only-of-type {\n",
       "        vertical-align: middle;\n",
       "    }\n",
       "\n",
       "    .dataframe tbody tr th {\n",
       "        vertical-align: top;\n",
       "    }\n",
       "\n",
       "    .dataframe thead th {\n",
       "        text-align: right;\n",
       "    }\n",
       "</style>\n",
       "<table border=\"1\" class=\"dataframe\">\n",
       "  <thead>\n",
       "    <tr style=\"text-align: right;\">\n",
       "      <th></th>\n",
       "      <th>content</th>\n",
       "      <th>dynasty</th>\n",
       "      <th>author</th>\n",
       "      <th>tags</th>\n",
       "      <th>star</th>\n",
       "      <th>author_stars</th>\n",
       "      <th>title</th>\n",
       "      <th>tags_list</th>\n",
       "      <th>object_</th>\n",
       "      <th>encourage_</th>\n",
       "      <th>family_</th>\n",
       "      <th>happiness_</th>\n",
       "      <th>sadness_</th>\n",
       "      <th>policy_</th>\n",
       "      <th>friend_</th>\n",
       "      <th>travel_</th>\n",
       "    </tr>\n",
       "  </thead>\n",
       "  <tbody>\n",
       "    <tr>\n",
       "      <th>0</th>\n",
       "      <td>《吴都赋》云：“户藏烟浦，家具画船。”唯吴兴为然。春游之盛，西湖未能过也。己酉岁，予与萧时父...</td>\n",
       "      <td>宋代</td>\n",
       "      <td>姜夔</td>\n",
       "      <td>春游;怀人;</td>\n",
       "      <td>64</td>\n",
       "      <td>279</td>\n",
       "      <td>琵琶仙·《吴都赋》云：「户藏烟浦</td>\n",
       "      <td>['春游', '怀人']</td>\n",
       "      <td>0</td>\n",
       "      <td>0</td>\n",
       "      <td>0</td>\n",
       "      <td>0</td>\n",
       "      <td>0</td>\n",
       "      <td>1</td>\n",
       "      <td>0</td>\n",
       "      <td>1</td>\n",
       "    </tr>\n",
       "    <tr>\n",
       "      <th>1</th>\n",
       "      <td>《廿一史弹词》第三段说秦汉开场词滚滚长江东逝水，浪花淘尽英雄。是非成败转头空。青山依旧在，几...</td>\n",
       "      <td>明代</td>\n",
       "      <td>杨慎</td>\n",
       "      <td>咏史;抒怀;人生;哲理</td>\n",
       "      <td>3244</td>\n",
       "      <td>131</td>\n",
       "      <td>临江仙·滚滚长江东逝水</td>\n",
       "      <td>['咏史', '抒怀', '人生', '哲理']</td>\n",
       "      <td>1</td>\n",
       "      <td>1</td>\n",
       "      <td>0</td>\n",
       "      <td>0</td>\n",
       "      <td>1</td>\n",
       "      <td>1</td>\n",
       "      <td>0</td>\n",
       "      <td>0</td>\n",
       "    </tr>\n",
       "  </tbody>\n",
       "</table>\n",
       "</div>"
      ],
      "text/plain": [
       "                                             content dynasty author  \\\n",
       "0  《吴都赋》云：“户藏烟浦，家具画船。”唯吴兴为然。春游之盛，西湖未能过也。己酉岁，予与萧时父...      宋代     姜夔   \n",
       "1  《廿一史弹词》第三段说秦汉开场词滚滚长江东逝水，浪花淘尽英雄。是非成败转头空。青山依旧在，几...      明代     杨慎   \n",
       "\n",
       "          tags  star  author_stars             title  \\\n",
       "0       春游;怀人;    64           279  琵琶仙·《吴都赋》云：「户藏烟浦   \n",
       "1  咏史;抒怀;人生;哲理  3244           131       临江仙·滚滚长江东逝水   \n",
       "\n",
       "                  tags_list  object_  encourage_  family_  happiness_  \\\n",
       "0              ['春游', '怀人']        0           0        0           0   \n",
       "1  ['咏史', '抒怀', '人生', '哲理']        1           1        0           0   \n",
       "\n",
       "   sadness_  policy_  friend_  travel_  \n",
       "0         0        1        0        1  \n",
       "1         1        1        0        0  "
      ]
     },
     "execution_count": 15,
     "metadata": {},
     "output_type": "execute_result"
    }
   ],
   "source": [
    "poem_df.head(2)"
   ]
  },
  {
   "cell_type": "code",
   "execution_count": 24,
   "metadata": {},
   "outputs": [],
   "source": [
    "TAGS_NAME = ['object_','encourage_','family_','happiness_','sadness_','policy_','friend_','travel_']\n",
    "one_hot_encoding = poem_df.iloc[:,8:].to_numpy()"
   ]
  },
  {
   "cell_type": "code",
   "execution_count": 27,
   "metadata": {},
   "outputs": [
    {
     "data": {
      "text/plain": [
       "numpy.ndarray"
      ]
     },
     "execution_count": 27,
     "metadata": {},
     "output_type": "execute_result"
    }
   ],
   "source": [
    "type(one_hot_encoding)"
   ]
  },
  {
   "cell_type": "code",
   "execution_count": 33,
   "metadata": {},
   "outputs": [],
   "source": [
    "tags = []\n",
    "for row in one_hot_encoding.tolist():\n",
    "    row = np.array(row)\n",
    "    TAGS_NAME = np.array(TAGS_NAME)\n",
    "    tag_list = TAGS_NAME[row==1]\n",
    "    tags.append(tag_list.tolist())"
   ]
  },
  {
   "cell_type": "code",
   "execution_count": 44,
   "metadata": {},
   "outputs": [],
   "source": [
    "# Your OHE dataframe \n",
    "poem_df_processed = poem_df[['object_','encourage_','family_','happiness_','sadness_','policy_','friend_','travel_']]\n",
    "#先秦,两汉,魏晋,南北朝,隋代,唐代,五代,宋代,金朝,元代,明代,清代,近代\n",
    "先秦_poems_info = poem_df[poem_df.dynasty=='先秦']\n",
    "两汉_poems_info = poem_df[poem_df.dynasty=='两汉']\n",
    "魏晋_poems_info = poem_df[poem_df.dynasty=='魏晋']\n",
    "南北朝_poems_info = poem_df[poem_df.dynasty=='南北朝']\n",
    "隋代_poems_info = poem_df[poem_df.dynasty=='隋代']\n",
    "唐代_poems_info = poem_df[poem_df.dynasty=='唐代']\n",
    "五代_poems_info = poem_df[poem_df.dynasty=='五代']\n",
    "宋代_poems_info = poem_df[poem_df.dynasty=='宋代']\n",
    "金朝_poems_info = poem_df[poem_df.dynasty=='金朝']\n",
    "元代_poems_info = poem_df[poem_df.dynasty=='元代']\n",
    "明代_poems_info = poem_df[poem_df.dynasty=='明代']\n",
    "清代_poems_info = poem_df[poem_df.dynasty=='清代']\n",
    "近代_poems_info = poem_df[poem_df.dynasty=='近代']\n",
    "先秦labels = list(先秦_poems_info.columns.values)[8:]\n",
    "两汉labels = list(两汉_poems_info.columns.values)[8:]\n",
    "魏晋labels = list(魏晋_poems_info.columns.values)[8:]\n",
    "南北朝labels = list(南北朝_poems_info.columns.values)[8:]\n",
    "隋代labels = list(隋代_poems_info.columns.values)[8:]\n",
    "唐代labels = list(唐代_poems_info.columns.values)[8:]\n",
    "五代labels = list(五代_poems_info.columns.values)[8:]\n",
    "宋代labels = list(宋代_poems_info.columns.values)[8:]\n",
    "金朝labels = list(金朝_poems_info.columns.values)[8:]\n",
    "元代labels = list(元代_poems_info.columns.values)[8:]\n",
    "明代labels = list(明代_poems_info.columns.values)[8:]\n",
    "清代labels = list(清代_poems_info.columns.values)[8:]\n",
    "近代labels = list(近代_poems_info.columns.values)[8:]\n",
    "先秦_poems_info = poem_df[poem_df.dynasty=='先秦'].iloc[:,8:].sum().values\n",
    "两汉_poems_info = poem_df[poem_df.dynasty=='两汉'].iloc[:,8:].sum().values\n",
    "魏晋_poems_info = poem_df[poem_df.dynasty=='魏晋'].iloc[:,8:].sum().values\n",
    "南北朝_poems_info = poem_df[poem_df.dynasty=='南北朝'].iloc[:,8:].sum().values\n",
    "隋代_poems_info = poem_df[poem_df.dynasty=='隋代'].iloc[:,8:].sum().values\n",
    "唐代_poems_info = poem_df[poem_df.dynasty=='唐代'].iloc[:,8:].sum().values\n",
    "五代_poems_info = poem_df[poem_df.dynasty=='五代'].iloc[:,8:].sum().values\n",
    "宋代_poems_info = poem_df[poem_df.dynasty=='宋代'].iloc[:,8:].sum().values\n",
    "金朝_poems_info = poem_df[poem_df.dynasty=='金朝'].iloc[:,8:].sum().values\n",
    "元代_poems_info = poem_df[poem_df.dynasty=='元代'].iloc[:,8:].sum().values\n",
    "明代_poems_info = poem_df[poem_df.dynasty=='明代'].iloc[:,8:].sum().values\n",
    "清代_poems_info = poem_df[poem_df.dynasty=='清代'].iloc[:,8:].sum().values\n",
    "近代_poems_info = poem_df[poem_df.dynasty=='近代'].iloc[:,8:].sum().values"
   ]
  },
  {
   "cell_type": "code",
   "execution_count": 47,
   "metadata": {},
   "outputs": [
    {
     "name": "stdout",
     "output_type": "stream",
     "text": [
      "[3 3 0 1 5 5 2 2]\n"
     ]
    }
   ],
   "source": [
    "print(近代_poems_info)"
   ]
  },
  {
   "cell_type": "code",
   "execution_count": 14,
   "metadata": {},
   "outputs": [],
   "source": [
    "graph_df = pd.DataFrame()"
   ]
  },
  {
   "cell_type": "code",
   "execution_count": null,
   "metadata": {},
   "outputs": [],
   "source": [
    "tps = df5.pivot_table(values=['Total_Products_Sold'], \n",
    "                      index='dynasty',\n",
    "                      columns='Category',\n",
    "                      aggfunc='sum')\n",
    "\n",
    "tps = tps.div(tps.sum(1), axis=0)\n",
    "tps.plot(kind='bar', stacked=True)"
   ]
  }
 ],
 "metadata": {
  "kernelspec": {
   "display_name": "Python 3",
   "language": "python",
   "name": "python3"
  },
  "language_info": {
   "codemirror_mode": {
    "name": "ipython",
    "version": 3
   },
   "file_extension": ".py",
   "mimetype": "text/x-python",
   "name": "python",
   "nbconvert_exporter": "python",
   "pygments_lexer": "ipython3",
   "version": "3.8.3"
  }
 },
 "nbformat": 4,
 "nbformat_minor": 4
}
