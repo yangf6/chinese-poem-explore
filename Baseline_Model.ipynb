{
 "cells": [
  {
   "cell_type": "code",
   "execution_count": 87,
   "metadata": {},
   "outputs": [],
   "source": [
    "#import common librarie\n",
    "from zipfile import ZipFile \n",
    "import os.path\n",
    "from os import path\n",
    "import pandas as pd\n",
    "import numpy as np\n",
    "import base64\n",
    "from itertools import groupby\n",
    "from sklearn.model_selection import train_test_split\n",
    "from sklearn.feature_extraction.text import CountVectorizer\n",
    "from sklearn.naive_bayes import MultinomialNB\n",
    "from sklearn.metrics import accuracy_score, precision_score, recall_score\n",
    "from sklearn.metrics import confusion_matrix\n",
    "import matplotlib.pyplot as plt\n",
    "import seaborn as sns\n",
    "\n"
   ]
  },
  {
   "cell_type": "code",
   "execution_count": 9,
   "metadata": {},
   "outputs": [],
   "source": [
    "#import libraries to handle classic chinese word\n",
    "from jiayan import load_lm\n",
    "from jiayan import CharHMMTokenizer"
   ]
  },
  {
   "cell_type": "markdown",
   "metadata": {},
   "source": [
    "# Baseline Model"
   ]
  },
  {
   "cell_type": "markdown",
   "metadata": {},
   "source": [
    "## Load Data"
   ]
  },
  {
   "cell_type": "code",
   "execution_count": 22,
   "metadata": {},
   "outputs": [
    {
     "data": {
      "text/html": [
       "<div>\n",
       "<style scoped>\n",
       "    .dataframe tbody tr th:only-of-type {\n",
       "        vertical-align: middle;\n",
       "    }\n",
       "\n",
       "    .dataframe tbody tr th {\n",
       "        vertical-align: top;\n",
       "    }\n",
       "\n",
       "    .dataframe thead th {\n",
       "        text-align: right;\n",
       "    }\n",
       "</style>\n",
       "<table border=\"1\" class=\"dataframe\">\n",
       "  <thead>\n",
       "    <tr style=\"text-align: right;\">\n",
       "      <th></th>\n",
       "      <th>content</th>\n",
       "      <th>dynasty</th>\n",
       "      <th>author</th>\n",
       "      <th>tags</th>\n",
       "      <th>star</th>\n",
       "      <th>author_stars</th>\n",
       "      <th>title</th>\n",
       "      <th>tags_list</th>\n",
       "    </tr>\n",
       "  </thead>\n",
       "  <tbody>\n",
       "    <tr>\n",
       "      <th>0</th>\n",
       "      <td>《吴都赋》云：“户藏烟浦，家具画船。”唯吴兴为然。春游之盛，西湖未能过也。己酉岁，予与萧时父...</td>\n",
       "      <td>宋代</td>\n",
       "      <td>姜夔</td>\n",
       "      <td>春游;怀人;</td>\n",
       "      <td>64</td>\n",
       "      <td>279</td>\n",
       "      <td>琵琶仙·《吴都赋》云：「户藏烟浦</td>\n",
       "      <td>['春游', '怀人']</td>\n",
       "    </tr>\n",
       "    <tr>\n",
       "      <th>1</th>\n",
       "      <td>《廿一史弹词》第三段说秦汉开场词滚滚长江东逝水，浪花淘尽英雄。是非成败转头空。青山依旧在，几...</td>\n",
       "      <td>明代</td>\n",
       "      <td>杨慎</td>\n",
       "      <td>咏史;抒怀;人生;哲理</td>\n",
       "      <td>3244</td>\n",
       "      <td>131</td>\n",
       "      <td>临江仙·滚滚长江东逝水</td>\n",
       "      <td>['咏史', '抒怀', '人生', '哲理']</td>\n",
       "    </tr>\n",
       "    <tr>\n",
       "      <th>2</th>\n",
       "      <td>《水经》云：“彭蠡之口有石钟山焉。”郦元以为下临深潭，微风鼓浪，水石相搏，声如洪钟。是说也，...</td>\n",
       "      <td>宋代</td>\n",
       "      <td>苏轼</td>\n",
       "      <td>古文观止;纪游;写景;写山</td>\n",
       "      <td>306</td>\n",
       "      <td>4011</td>\n",
       "      <td>石钟山记</td>\n",
       "      <td>['古文观止', '纪游', '写景', '写山']</td>\n",
       "    </tr>\n",
       "    <tr>\n",
       "      <th>3</th>\n",
       "      <td>【序】辛亥之冬，予载雪诣石湖。止既月，授简索句，且征新声，作此两曲。石湖把玩不已，使工妓隶习...</td>\n",
       "      <td>宋代</td>\n",
       "      <td>姜夔</td>\n",
       "      <td>咏物;梅花</td>\n",
       "      <td>74</td>\n",
       "      <td>279</td>\n",
       "      <td>暗香疏影</td>\n",
       "      <td>['咏物', '梅花']</td>\n",
       "    </tr>\n",
       "    <tr>\n",
       "      <th>4</th>\n",
       "      <td>〔一枝花〕　　攀出墙朵朵花，折临路枝枝柳。花攀红蕊嫩，柳折翠条柔，浪子风流。凭着我折柳攀花手...</td>\n",
       "      <td>元代</td>\n",
       "      <td>关汉卿</td>\n",
       "      <td>;散曲;抒情;生活</td>\n",
       "      <td>140</td>\n",
       "      <td>124</td>\n",
       "      <td>【南吕】一枝花不伏老</td>\n",
       "      <td>['散曲', '抒情', '生活']</td>\n",
       "    </tr>\n",
       "  </tbody>\n",
       "</table>\n",
       "</div>"
      ],
      "text/plain": [
       "                                             content dynasty author  \\\n",
       "0  《吴都赋》云：“户藏烟浦，家具画船。”唯吴兴为然。春游之盛，西湖未能过也。己酉岁，予与萧时父...      宋代     姜夔   \n",
       "1  《廿一史弹词》第三段说秦汉开场词滚滚长江东逝水，浪花淘尽英雄。是非成败转头空。青山依旧在，几...      明代     杨慎   \n",
       "2  《水经》云：“彭蠡之口有石钟山焉。”郦元以为下临深潭，微风鼓浪，水石相搏，声如洪钟。是说也，...      宋代     苏轼   \n",
       "3  【序】辛亥之冬，予载雪诣石湖。止既月，授简索句，且征新声，作此两曲。石湖把玩不已，使工妓隶习...      宋代     姜夔   \n",
       "4  〔一枝花〕　　攀出墙朵朵花，折临路枝枝柳。花攀红蕊嫩，柳折翠条柔，浪子风流。凭着我折柳攀花手...      元代    关汉卿   \n",
       "\n",
       "            tags  star  author_stars             title  \\\n",
       "0         春游;怀人;    64           279  琵琶仙·《吴都赋》云：「户藏烟浦   \n",
       "1    咏史;抒怀;人生;哲理  3244           131       临江仙·滚滚长江东逝水   \n",
       "2  古文观止;纪游;写景;写山   306          4011              石钟山记   \n",
       "3          咏物;梅花    74           279              暗香疏影   \n",
       "4      ;散曲;抒情;生活   140           124        【南吕】一枝花不伏老   \n",
       "\n",
       "                    tags_list  \n",
       "0                ['春游', '怀人']  \n",
       "1    ['咏史', '抒怀', '人生', '哲理']  \n",
       "2  ['古文观止', '纪游', '写景', '写山']  \n",
       "3                ['咏物', '梅花']  \n",
       "4          ['散曲', '抒情', '生活']  "
      ]
     },
     "execution_count": 22,
     "metadata": {},
     "output_type": "execute_result"
    }
   ],
   "source": [
    "file_name = \"poems_with_tags.zip\"\n",
    "poem_df = pd.read_csv('poems_with_tags.zip', compression='zip', header=0, quotechar='\"')\n",
    "poem_df.head()"
   ]
  },
  {
   "cell_type": "code",
   "execution_count": 65,
   "metadata": {},
   "outputs": [],
   "source": [
    "poem_df['first_tag'] = poem_df \\\n",
    ".apply(lambda row : row.tags_list[1:-1]\n",
    "       .replace(\"'\",\"\")\n",
    "       .replace(\",\", \"\")\n",
    "       .split(\" \")[0], axis=1)"
   ]
  },
  {
   "cell_type": "markdown",
   "metadata": {},
   "source": [
    "## Split Train and Test Data"
   ]
  },
  {
   "cell_type": "code",
   "execution_count": 68,
   "metadata": {},
   "outputs": [],
   "source": [
    "poems_info = poem_df[['content','dynasty','author','title']]\n",
    "tags = poem_df[['first_tag']]\n",
    "X_train, X_test, y_train, y_test = train_test_split(poems_info, tags, test_size=0.33)"
   ]
  },
  {
   "cell_type": "code",
   "execution_count": 69,
   "metadata": {},
   "outputs": [
    {
     "data": {
      "text/html": [
       "<div>\n",
       "<style scoped>\n",
       "    .dataframe tbody tr th:only-of-type {\n",
       "        vertical-align: middle;\n",
       "    }\n",
       "\n",
       "    .dataframe tbody tr th {\n",
       "        vertical-align: top;\n",
       "    }\n",
       "\n",
       "    .dataframe thead th {\n",
       "        text-align: right;\n",
       "    }\n",
       "</style>\n",
       "<table border=\"1\" class=\"dataframe\">\n",
       "  <thead>\n",
       "    <tr style=\"text-align: right;\">\n",
       "      <th></th>\n",
       "      <th>content</th>\n",
       "      <th>dynasty</th>\n",
       "      <th>author</th>\n",
       "      <th>title</th>\n",
       "    </tr>\n",
       "  </thead>\n",
       "  <tbody>\n",
       "    <tr>\n",
       "      <th>4134</th>\n",
       "      <td>百战功成翻爱静，侯门渐欲似仙家。墙头雨细垂纤草，水面风回聚落花。井放辘轳闲浸酒，笼开鹦鹉报煎...</td>\n",
       "      <td>唐代</td>\n",
       "      <td>张蠙</td>\n",
       "      <td>夏日题老将林亭</td>\n",
       "    </tr>\n",
       "    <tr>\n",
       "      <th>3639</th>\n",
       "      <td>深居俯夹城，春去夏犹清。天意怜幽草，人间重晚晴。并添高阁迥，微注小窗明。越鸟巢干后，归飞体更轻。</td>\n",
       "      <td>唐代</td>\n",
       "      <td>李商隐</td>\n",
       "      <td>晚晴</td>\n",
       "    </tr>\n",
       "    <tr>\n",
       "      <th>3085</th>\n",
       "      <td>杳杳寒山道，落落冷涧滨。啾啾常有鸟，寂寂更无人。淅淅风吹面，纷纷雪积身。朝朝不见日，岁岁不知春。</td>\n",
       "      <td>唐代</td>\n",
       "      <td>寒山</td>\n",
       "      <td>杳杳寒山道</td>\n",
       "    </tr>\n",
       "    <tr>\n",
       "      <th>4458</th>\n",
       "      <td>繁如瑞雪压枝开，越岭吴溪免用栽。却是五侯家未识，春风不放过江来。</td>\n",
       "      <td>唐代</td>\n",
       "      <td>罗邺</td>\n",
       "      <td>梅花</td>\n",
       "    </tr>\n",
       "    <tr>\n",
       "      <th>2654</th>\n",
       "      <td>明月青山夜，高天白露秋。花庭开粉席，云岫敞针楼。石类支机影，池似泛槎流。暂惊河女鹊，终狎野人鸥。</td>\n",
       "      <td>唐代</td>\n",
       "      <td>李峤</td>\n",
       "      <td>同赋山居七夕</td>\n",
       "    </tr>\n",
       "  </tbody>\n",
       "</table>\n",
       "</div>"
      ],
      "text/plain": [
       "                                                content dynasty author  \\\n",
       "4134  百战功成翻爱静，侯门渐欲似仙家。墙头雨细垂纤草，水面风回聚落花。井放辘轳闲浸酒，笼开鹦鹉报煎...      唐代     张蠙   \n",
       "3639   深居俯夹城，春去夏犹清。天意怜幽草，人间重晚晴。并添高阁迥，微注小窗明。越鸟巢干后，归飞体更轻。      唐代    李商隐   \n",
       "3085   杳杳寒山道，落落冷涧滨。啾啾常有鸟，寂寂更无人。淅淅风吹面，纷纷雪积身。朝朝不见日，岁岁不知春。      唐代     寒山   \n",
       "4458                   繁如瑞雪压枝开，越岭吴溪免用栽。却是五侯家未识，春风不放过江来。      唐代     罗邺   \n",
       "2654   明月青山夜，高天白露秋。花庭开粉席，云岫敞针楼。石类支机影，池似泛槎流。暂惊河女鹊，终狎野人鸥。      唐代     李峤   \n",
       "\n",
       "        title  \n",
       "4134  夏日题老将林亭  \n",
       "3639       晚晴  \n",
       "3085    杳杳寒山道  \n",
       "4458       梅花  \n",
       "2654   同赋山居七夕  "
      ]
     },
     "execution_count": 69,
     "metadata": {},
     "output_type": "execute_result"
    }
   ],
   "source": [
    "X_train.head()"
   ]
  },
  {
   "cell_type": "code",
   "execution_count": 83,
   "metadata": {},
   "outputs": [
    {
     "data": {
      "text/plain": [
       "(4099,)"
      ]
     },
     "execution_count": 83,
     "metadata": {},
     "output_type": "execute_result"
    }
   ],
   "source": [
    "y_train['first_tag'].shape"
   ]
  },
  {
   "cell_type": "markdown",
   "metadata": {},
   "source": [
    "## Build Model"
   ]
  },
  {
   "cell_type": "code",
   "execution_count": 71,
   "metadata": {},
   "outputs": [],
   "source": [
    "lm = load_lm('jiayan.klm')"
   ]
  },
  {
   "cell_type": "code",
   "execution_count": 75,
   "metadata": {},
   "outputs": [],
   "source": [
    "#Naive Bayes\n",
    "tokenizer = CharHMMTokenizer(lm)\n",
    "# print(list(tokenizer.tokenize(text)))\n",
    "\n",
    "\n",
    "def tokenize_poem(some_list, f):\n",
    "    return [f(x) for x in some_list]\n",
    "X_train_tokenized = tokenize_poem(X_train['content'], lambda x: \" \".join(list(tokenizer.tokenize(x))))\n",
    "X_test_tokenized = tokenize_poem(X_test['content'], lambda x: \" \".join(list(tokenizer.tokenize(x))))\n",
    "count_vect = CountVectorizer()\n"
   ]
  },
  {
   "cell_type": "code",
   "execution_count": null,
   "metadata": {},
   "outputs": [],
   "source": [
    "X_train_cv = count_vect.fit_transform(X_train_tokenized)\n",
    "X_test_cv = count_vect.transform(X_test_tokenized)"
   ]
  },
  {
   "cell_type": "code",
   "execution_count": null,
   "metadata": {},
   "outputs": [],
   "source": [
    "# word_freq_df = pd.DataFrame(X_train_cv.toarray(), columns=cv.get_feature_names())\n",
    "# top_words_df = pd.DataFrame(word_freq.sum()).sort_values(0, ascending=False)"
   ]
  },
  {
   "cell_type": "code",
   "execution_count": 76,
   "metadata": {},
   "outputs": [],
   "source": [
    "naive_bayes = MultinomialNB()\n"
   ]
  },
  {
   "cell_type": "markdown",
   "metadata": {},
   "source": [
    "## Train the Model"
   ]
  },
  {
   "cell_type": "code",
   "execution_count": 84,
   "metadata": {},
   "outputs": [],
   "source": [
    "naive_bayes.fit(X_train_cv, y_train['first_tag'])\n",
    "predictions = naive_bayes.predict(X_test_cv)"
   ]
  },
  {
   "cell_type": "markdown",
   "metadata": {},
   "source": [
    "## Evaluation"
   ]
  },
  {
   "cell_type": "code",
   "execution_count": 90,
   "metadata": {},
   "outputs": [
    {
     "name": "stdout",
     "output_type": "stream",
     "text": [
      "Accuracy score:  0.14554455445544554\n",
      "Precision score:  0.10791065904170173\n",
      "Recall score:  0.14554455445544554\n"
     ]
    },
    {
     "name": "stderr",
     "output_type": "stream",
     "text": [
      "/home/lindayang16/anaconda3/lib/python3.8/site-packages/sklearn/metrics/_classification.py:1221: UndefinedMetricWarning: Recall is ill-defined and being set to 0.0 in labels with no true samples. Use `zero_division` parameter to control this behavior.\n",
      "  _warn_prf(average, modifier, msg_start, len(result))\n"
     ]
    }
   ],
   "source": [
    "print('Accuracy score: ', accuracy_score(y_test['first_tag'], predictions))\n",
    "print('Precision score: ', precision_score(y_test['first_tag'], predictions, average='weighted'))\n",
    "print('Recall score: ', recall_score(y_test['first_tag'], predictions, average='weighted'))"
   ]
  }
 ],
 "metadata": {
  "kernelspec": {
   "display_name": "Python 3",
   "language": "python",
   "name": "python3"
  },
  "language_info": {
   "codemirror_mode": {
    "name": "ipython",
    "version": 3
   },
   "file_extension": ".py",
   "mimetype": "text/x-python",
   "name": "python",
   "nbconvert_exporter": "python",
   "pygments_lexer": "ipython3",
   "version": "3.8.3"
  }
 },
 "nbformat": 4,
 "nbformat_minor": 4
}
