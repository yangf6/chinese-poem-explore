{
 "cells": [
  {
   "cell_type": "code",
   "execution_count": 3,
   "metadata": {},
   "outputs": [],
   "source": [
    "#import common librarie\n",
    "from zipfile import ZipFile \n",
    "import os.path\n",
    "from os import path\n",
    "import pandas as pd\n",
    "import numpy as np\n",
    "import base64\n",
    "from itertools import groupby\n",
    "from sklearn.model_selection import train_test_split\n",
    "from sklearn.feature_extraction.text import CountVectorizer\n",
    "from sklearn.feature_extraction.text import TfidfVectorizer\n",
    "from sklearn.naive_bayes import MultinomialNB\n",
    "from sklearn import svm\n",
    "from sklearn.preprocessing import LabelEncoder\n",
    "from sklearn.metrics import accuracy_score, precision_score, recall_score\n",
    "from sklearn.metrics import confusion_matrix\n",
    "\n",
    "import matplotlib.pyplot as plt\n",
    "import seaborn as sns\n",
    "\n"
   ]
  },
  {
   "cell_type": "code",
   "execution_count": 4,
   "metadata": {},
   "outputs": [],
   "source": [
    "#import libraries to handle classic chinese word\n",
    "from jiayan import load_lm\n",
    "from jiayan import CharHMMTokenizer"
   ]
  },
  {
   "cell_type": "markdown",
   "metadata": {},
   "source": [
    "# Baseline Model"
   ]
  },
  {
   "cell_type": "markdown",
   "metadata": {},
   "source": [
    "## Load Data"
   ]
  },
  {
   "cell_type": "code",
   "execution_count": 5,
   "metadata": {},
   "outputs": [
    {
     "data": {
      "text/html": [
       "<div>\n",
       "<style scoped>\n",
       "    .dataframe tbody tr th:only-of-type {\n",
       "        vertical-align: middle;\n",
       "    }\n",
       "\n",
       "    .dataframe tbody tr th {\n",
       "        vertical-align: top;\n",
       "    }\n",
       "\n",
       "    .dataframe thead th {\n",
       "        text-align: right;\n",
       "    }\n",
       "</style>\n",
       "<table border=\"1\" class=\"dataframe\">\n",
       "  <thead>\n",
       "    <tr style=\"text-align: right;\">\n",
       "      <th></th>\n",
       "      <th>content</th>\n",
       "      <th>dynasty</th>\n",
       "      <th>author</th>\n",
       "      <th>tags</th>\n",
       "      <th>star</th>\n",
       "      <th>author_stars</th>\n",
       "      <th>title</th>\n",
       "      <th>tags_list</th>\n",
       "      <th>new_tags</th>\n",
       "      <th>new_first_tag</th>\n",
       "      <th>写物</th>\n",
       "      <th>劝勉</th>\n",
       "      <th>家庭</th>\n",
       "      <th>快乐</th>\n",
       "      <th>悲苦</th>\n",
       "      <th>政治</th>\n",
       "      <th>朋友</th>\n",
       "      <th>游玩</th>\n",
       "    </tr>\n",
       "  </thead>\n",
       "  <tbody>\n",
       "    <tr>\n",
       "      <th>0</th>\n",
       "      <td>《吴都赋》云：“户藏烟浦，家具画船。”唯吴兴为然。春游之盛，西湖未能过也。己酉岁，予与萧时父...</td>\n",
       "      <td>宋代</td>\n",
       "      <td>姜夔</td>\n",
       "      <td>春游;怀人;</td>\n",
       "      <td>64</td>\n",
       "      <td>279</td>\n",
       "      <td>琵琶仙·《吴都赋》云：「户藏烟浦</td>\n",
       "      <td>['春游', '怀人']</td>\n",
       "      <td>政治;游玩</td>\n",
       "      <td>政治</td>\n",
       "      <td>0</td>\n",
       "      <td>0</td>\n",
       "      <td>0</td>\n",
       "      <td>0</td>\n",
       "      <td>0</td>\n",
       "      <td>1</td>\n",
       "      <td>0</td>\n",
       "      <td>1</td>\n",
       "    </tr>\n",
       "    <tr>\n",
       "      <th>1</th>\n",
       "      <td>《廿一史弹词》第三段说秦汉开场词滚滚长江东逝水，浪花淘尽英雄。是非成败转头空。青山依旧在，几...</td>\n",
       "      <td>明代</td>\n",
       "      <td>杨慎</td>\n",
       "      <td>咏史;抒怀;人生;哲理</td>\n",
       "      <td>3244</td>\n",
       "      <td>131</td>\n",
       "      <td>临江仙·滚滚长江东逝水</td>\n",
       "      <td>['咏史', '抒怀', '人生', '哲理']</td>\n",
       "      <td>写物;劝勉;悲苦;政治</td>\n",
       "      <td>写物</td>\n",
       "      <td>1</td>\n",
       "      <td>1</td>\n",
       "      <td>0</td>\n",
       "      <td>0</td>\n",
       "      <td>1</td>\n",
       "      <td>1</td>\n",
       "      <td>0</td>\n",
       "      <td>0</td>\n",
       "    </tr>\n",
       "    <tr>\n",
       "      <th>2</th>\n",
       "      <td>《水经》云：“彭蠡之口有石钟山焉。”郦元以为下临深潭，微风鼓浪，水石相搏，声如洪钟。是说也，...</td>\n",
       "      <td>宋代</td>\n",
       "      <td>苏轼</td>\n",
       "      <td>古文观止;纪游;写景;写山</td>\n",
       "      <td>306</td>\n",
       "      <td>4011</td>\n",
       "      <td>石钟山记</td>\n",
       "      <td>['古文观止', '纪游', '写景', '写山']</td>\n",
       "      <td>写物;政治;游玩</td>\n",
       "      <td>写物</td>\n",
       "      <td>1</td>\n",
       "      <td>0</td>\n",
       "      <td>0</td>\n",
       "      <td>0</td>\n",
       "      <td>0</td>\n",
       "      <td>1</td>\n",
       "      <td>0</td>\n",
       "      <td>1</td>\n",
       "    </tr>\n",
       "    <tr>\n",
       "      <th>3</th>\n",
       "      <td>【序】辛亥之冬，予载雪诣石湖。止既月，授简索句，且征新声，作此两曲。石湖把玩不已，使工妓隶习...</td>\n",
       "      <td>宋代</td>\n",
       "      <td>姜夔</td>\n",
       "      <td>咏物;梅花</td>\n",
       "      <td>74</td>\n",
       "      <td>279</td>\n",
       "      <td>暗香疏影</td>\n",
       "      <td>['咏物', '梅花']</td>\n",
       "      <td>劝勉</td>\n",
       "      <td>劝勉</td>\n",
       "      <td>0</td>\n",
       "      <td>1</td>\n",
       "      <td>0</td>\n",
       "      <td>0</td>\n",
       "      <td>0</td>\n",
       "      <td>0</td>\n",
       "      <td>0</td>\n",
       "      <td>0</td>\n",
       "    </tr>\n",
       "    <tr>\n",
       "      <th>4</th>\n",
       "      <td>〔一枝花〕　　攀出墙朵朵花，折临路枝枝柳。花攀红蕊嫩，柳折翠条柔，浪子风流。凭着我折柳攀花手...</td>\n",
       "      <td>元代</td>\n",
       "      <td>关汉卿</td>\n",
       "      <td>;散曲;抒情;生活</td>\n",
       "      <td>140</td>\n",
       "      <td>124</td>\n",
       "      <td>【南吕】一枝花不伏老</td>\n",
       "      <td>['散曲', '抒情', '生活']</td>\n",
       "      <td>写物;快乐;悲苦</td>\n",
       "      <td>写物</td>\n",
       "      <td>1</td>\n",
       "      <td>0</td>\n",
       "      <td>0</td>\n",
       "      <td>1</td>\n",
       "      <td>1</td>\n",
       "      <td>0</td>\n",
       "      <td>0</td>\n",
       "      <td>0</td>\n",
       "    </tr>\n",
       "  </tbody>\n",
       "</table>\n",
       "</div>"
      ],
      "text/plain": [
       "                                             content dynasty author  \\\n",
       "0  《吴都赋》云：“户藏烟浦，家具画船。”唯吴兴为然。春游之盛，西湖未能过也。己酉岁，予与萧时父...      宋代     姜夔   \n",
       "1  《廿一史弹词》第三段说秦汉开场词滚滚长江东逝水，浪花淘尽英雄。是非成败转头空。青山依旧在，几...      明代     杨慎   \n",
       "2  《水经》云：“彭蠡之口有石钟山焉。”郦元以为下临深潭，微风鼓浪，水石相搏，声如洪钟。是说也，...      宋代     苏轼   \n",
       "3  【序】辛亥之冬，予载雪诣石湖。止既月，授简索句，且征新声，作此两曲。石湖把玩不已，使工妓隶习...      宋代     姜夔   \n",
       "4  〔一枝花〕　　攀出墙朵朵花，折临路枝枝柳。花攀红蕊嫩，柳折翠条柔，浪子风流。凭着我折柳攀花手...      元代    关汉卿   \n",
       "\n",
       "            tags  star  author_stars             title  \\\n",
       "0         春游;怀人;    64           279  琵琶仙·《吴都赋》云：「户藏烟浦   \n",
       "1    咏史;抒怀;人生;哲理  3244           131       临江仙·滚滚长江东逝水   \n",
       "2  古文观止;纪游;写景;写山   306          4011              石钟山记   \n",
       "3          咏物;梅花    74           279              暗香疏影   \n",
       "4      ;散曲;抒情;生活   140           124        【南吕】一枝花不伏老   \n",
       "\n",
       "                    tags_list     new_tags new_first_tag  写物  劝勉  家庭  快乐  悲苦  \\\n",
       "0                ['春游', '怀人']        政治;游玩            政治   0   0   0   0   0   \n",
       "1    ['咏史', '抒怀', '人生', '哲理']  写物;劝勉;悲苦;政治            写物   1   1   0   0   1   \n",
       "2  ['古文观止', '纪游', '写景', '写山']     写物;政治;游玩            写物   1   0   0   0   0   \n",
       "3                ['咏物', '梅花']           劝勉            劝勉   0   1   0   0   0   \n",
       "4          ['散曲', '抒情', '生活']     写物;快乐;悲苦            写物   1   0   0   1   1   \n",
       "\n",
       "   政治  朋友  游玩  \n",
       "0   1   0   1  \n",
       "1   1   0   0  \n",
       "2   1   0   1  \n",
       "3   0   0   0  \n",
       "4   0   0   0  "
      ]
     },
     "execution_count": 5,
     "metadata": {},
     "output_type": "execute_result"
    }
   ],
   "source": [
    "file_name = \"poems_with_new_tags.zip\"\n",
    "poem_df = pd.read_csv('poems_with_new_tags.zip', compression='zip', header=0, quotechar='\"')\n",
    "poem_df.head()"
   ]
  },
  {
   "cell_type": "markdown",
   "metadata": {},
   "source": [
    "## Aggregate Tags Type\n",
    "\n",
    "too many tags cause the prediction too wide to predict the type of the poem "
   ]
  },
  {
   "cell_type": "code",
   "execution_count": 5,
   "metadata": {},
   "outputs": [],
   "source": [
    "tags_list = poem_df['tags'].tolist()"
   ]
  },
  {
   "cell_type": "code",
   "execution_count": 35,
   "metadata": {},
   "outputs": [],
   "source": [
    "tags_set = set()\n",
    "for tags in tags_list:\n",
    "    tag_split_list = tags.strip(';').split(';')\n",
    "    for tag in tag_split_list:\n",
    "        if len(tag) > 1:\n",
    "            tags_set.add(tag)"
   ]
  },
  {
   "cell_type": "code",
   "execution_count": null,
   "metadata": {},
   "outputs": [],
   "source": []
  },
  {
   "cell_type": "code",
   "execution_count": 6,
   "metadata": {},
   "outputs": [
    {
     "name": "stdout",
     "output_type": "stream",
     "text": [
      "smart_open library not found; falling back to local-filesystem-only\n",
      "[jieba] default dict file path ../data/vocab.txt\n",
      "[jieba] default dict file path ../data/vocab.txt\n",
      "[jieba] load default dict ../data/vocab.txt ...\n",
      "[jieba] load default dict ../data/vocab.txt ...\n",
      ">> Synonyms load wordseg dict [/home/lindayang16/anaconda3/lib/python3.8/site-packages/synonyms/data/vocab.txt] ... \n",
      ">> Synonyms on loading stopwords [/home/lindayang16/anaconda3/lib/python3.8/site-packages/synonyms/data/stopwords.txt] ...\n",
      "[Synonyms] on loading vectors [/home/lindayang16/anaconda3/lib/python3.8/site-packages/synonyms/data/words.vector.gz] ...\n"
     ]
    }
   ],
   "source": [
    "import synonyms\n"
   ]
  },
  {
   "cell_type": "code",
   "execution_count": 68,
   "metadata": {},
   "outputs": [
    {
     "data": {
      "text/plain": [
       "0.189"
      ]
     },
     "execution_count": 68,
     "metadata": {},
     "output_type": "execute_result"
    }
   ],
   "source": [
    "# print(\"咏物: {}\".format(synonyms.nearby(\"咏物\"))) # 获取近义词\n",
    "# synonyms.nearby(\"伤情\")\n",
    "synonyms.compare(\"往事\", \"忆昔\")\n",
    "# print(\"NOT_EXIST: {}\".format((synonyms.nearby(\"NOT_EXIST\"))))\n",
    "\n"
   ]
  },
  {
   "cell_type": "code",
   "execution_count": null,
   "metadata": {},
   "outputs": [],
   "source": [
    "smaller_tags_set = set()\n",
    "smaller_tags_set.add('伤情')\n",
    "error_tags = set()\n",
    "for tag in tags_set:\n",
    "    if tag not in smaller_tags_set:\n",
    "        found_similar_tag = False\n",
    "        for unique_tag in smaller_tags_set:\n",
    "            if len(synonyms.nearby(tag)[0]) > 0:\n",
    "                score = synonyms.compare(unique_tag, tag) \n",
    "                if score > 0.6:\n",
    "                    found_similar_tag = True\n",
    "                    break\n",
    "            else:\n",
    "                error_tags.add(tag)\n",
    "                found_similar_tag = True\n",
    "                print(\"error added {}\".format(tag))\n",
    "                break\n",
    "        if not found_similar_tag:\n",
    "            smaller_tags_set.add(tag)"
   ]
  },
  {
   "cell_type": "code",
   "execution_count": 8,
   "metadata": {},
   "outputs": [],
   "source": [
    "poem_df['first_tag'] = poem_df \\\n",
    ".apply(lambda row : row.tags_list[1:-1]\n",
    "       .replace(\"'\",\"\")\n",
    "       .replace(\",\", \"\")\n",
    "       .split(\" \")[0], axis=1)"
   ]
  },
  {
   "cell_type": "markdown",
   "metadata": {},
   "source": [
    "## Split Train and Test Data"
   ]
  },
  {
   "cell_type": "code",
   "execution_count": 6,
   "metadata": {},
   "outputs": [],
   "source": [
    "poems_info = poem_df[['content','dynasty','author','title']]\n",
    "tags = poem_df.drop(['content','dynasty','author','title','star','author_stars'], axis=1)\n",
    "X_train, X_test, y_train, y_test = train_test_split(poems_info, tags, test_size=0.33)"
   ]
  },
  {
   "cell_type": "code",
   "execution_count": 7,
   "metadata": {},
   "outputs": [
    {
     "name": "stdout",
     "output_type": "stream",
     "text": [
      "True\n"
     ]
    }
   ],
   "source": [
    "print(len(X_train)==len(y_train))"
   ]
  },
  {
   "cell_type": "code",
   "execution_count": 8,
   "metadata": {},
   "outputs": [
    {
     "data": {
      "text/html": [
       "<div>\n",
       "<style scoped>\n",
       "    .dataframe tbody tr th:only-of-type {\n",
       "        vertical-align: middle;\n",
       "    }\n",
       "\n",
       "    .dataframe tbody tr th {\n",
       "        vertical-align: top;\n",
       "    }\n",
       "\n",
       "    .dataframe thead th {\n",
       "        text-align: right;\n",
       "    }\n",
       "</style>\n",
       "<table border=\"1\" class=\"dataframe\">\n",
       "  <thead>\n",
       "    <tr style=\"text-align: right;\">\n",
       "      <th></th>\n",
       "      <th>content</th>\n",
       "      <th>dynasty</th>\n",
       "      <th>author</th>\n",
       "      <th>title</th>\n",
       "    </tr>\n",
       "  </thead>\n",
       "  <tbody>\n",
       "    <tr>\n",
       "      <th>4919</th>\n",
       "      <td>萧萧山路穷秋雨，淅淅溪风一岸蒲。为问寒沙新到雁，来时还下杜陵无。</td>\n",
       "      <td>唐代</td>\n",
       "      <td>杜牧</td>\n",
       "      <td>秋浦途中</td>\n",
       "    </tr>\n",
       "    <tr>\n",
       "      <th>4546</th>\n",
       "      <td>绿叶阴浓，遍池亭水阁，偏趁凉多。海榴初绽，朵朵簇红罗。老燕携雏弄语，有高柳鸣蝉相和。骤雨过，...</td>\n",
       "      <td>金朝</td>\n",
       "      <td>元好问</td>\n",
       "      <td>骤雨打新荷</td>\n",
       "    </tr>\n",
       "    <tr>\n",
       "      <th>5335</th>\n",
       "      <td>送人犹未苦，苦送春、随人去天涯。片红都飞尽，正阴阴润绿，暗里啼鸦。赋情顿雪双鬓，飞梦逐尘沙。...</td>\n",
       "      <td>宋代</td>\n",
       "      <td>吴文英</td>\n",
       "      <td>忆旧游·别黄澹翁</td>\n",
       "    </tr>\n",
       "    <tr>\n",
       "      <th>2310</th>\n",
       "      <td>惟汉廿二世，所任诚不良。沐猴而冠带，知小而谋强。犹豫不敢断，因狩执君王。白虹为贯日，己亦先受...</td>\n",
       "      <td>魏晋</td>\n",
       "      <td>曹操</td>\n",
       "      <td>薤露</td>\n",
       "    </tr>\n",
       "    <tr>\n",
       "      <th>2459</th>\n",
       "      <td>携手江村。梅雪飘裙。情何限、处处消魂。故人不见，旧曲重闻。向望湖楼，孤山寺，涌金门。寻常行处...</td>\n",
       "      <td>宋代</td>\n",
       "      <td>苏轼</td>\n",
       "      <td>行香子·丹阳寄述古</td>\n",
       "    </tr>\n",
       "  </tbody>\n",
       "</table>\n",
       "</div>"
      ],
      "text/plain": [
       "                                                content dynasty author  \\\n",
       "4919                   萧萧山路穷秋雨，淅淅溪风一岸蒲。为问寒沙新到雁，来时还下杜陵无。      唐代     杜牧   \n",
       "4546  绿叶阴浓，遍池亭水阁，偏趁凉多。海榴初绽，朵朵簇红罗。老燕携雏弄语，有高柳鸣蝉相和。骤雨过，...      金朝    元好问   \n",
       "5335  送人犹未苦，苦送春、随人去天涯。片红都飞尽，正阴阴润绿，暗里啼鸦。赋情顿雪双鬓，飞梦逐尘沙。...      宋代    吴文英   \n",
       "2310  惟汉廿二世，所任诚不良。沐猴而冠带，知小而谋强。犹豫不敢断，因狩执君王。白虹为贯日，己亦先受...      魏晋     曹操   \n",
       "2459  携手江村。梅雪飘裙。情何限、处处消魂。故人不见，旧曲重闻。向望湖楼，孤山寺，涌金门。寻常行处...      宋代     苏轼   \n",
       "\n",
       "          title  \n",
       "4919       秋浦途中  \n",
       "4546      骤雨打新荷  \n",
       "5335   忆旧游·别黄澹翁  \n",
       "2310         薤露  \n",
       "2459  行香子·丹阳寄述古  "
      ]
     },
     "execution_count": 8,
     "metadata": {},
     "output_type": "execute_result"
    }
   ],
   "source": [
    "X_train.head()"
   ]
  },
  {
   "cell_type": "code",
   "execution_count": 9,
   "metadata": {},
   "outputs": [
    {
     "data": {
      "text/html": [
       "<div>\n",
       "<style scoped>\n",
       "    .dataframe tbody tr th:only-of-type {\n",
       "        vertical-align: middle;\n",
       "    }\n",
       "\n",
       "    .dataframe tbody tr th {\n",
       "        vertical-align: top;\n",
       "    }\n",
       "\n",
       "    .dataframe thead th {\n",
       "        text-align: right;\n",
       "    }\n",
       "</style>\n",
       "<table border=\"1\" class=\"dataframe\">\n",
       "  <thead>\n",
       "    <tr style=\"text-align: right;\">\n",
       "      <th></th>\n",
       "      <th>tags</th>\n",
       "      <th>tags_list</th>\n",
       "      <th>new_tags</th>\n",
       "      <th>new_first_tag</th>\n",
       "      <th>写物</th>\n",
       "      <th>劝勉</th>\n",
       "      <th>家庭</th>\n",
       "      <th>快乐</th>\n",
       "      <th>悲苦</th>\n",
       "      <th>政治</th>\n",
       "      <th>朋友</th>\n",
       "      <th>游玩</th>\n",
       "    </tr>\n",
       "  </thead>\n",
       "  <tbody>\n",
       "    <tr>\n",
       "      <th>4919</th>\n",
       "      <td>思乡</td>\n",
       "      <td>['思乡']</td>\n",
       "      <td>悲苦</td>\n",
       "      <td>悲苦</td>\n",
       "      <td>0</td>\n",
       "      <td>0</td>\n",
       "      <td>0</td>\n",
       "      <td>0</td>\n",
       "      <td>1</td>\n",
       "      <td>0</td>\n",
       "      <td>0</td>\n",
       "      <td>0</td>\n",
       "    </tr>\n",
       "    <tr>\n",
       "      <th>4546</th>\n",
       "      <td>写景;抒怀</td>\n",
       "      <td>['写景', '抒怀']</td>\n",
       "      <td>劝勉;政治</td>\n",
       "      <td>劝勉</td>\n",
       "      <td>0</td>\n",
       "      <td>1</td>\n",
       "      <td>0</td>\n",
       "      <td>0</td>\n",
       "      <td>0</td>\n",
       "      <td>1</td>\n",
       "      <td>0</td>\n",
       "      <td>0</td>\n",
       "    </tr>\n",
       "    <tr>\n",
       "      <th>5335</th>\n",
       "      <td>写景;离别;愁绪</td>\n",
       "      <td>['写景', '离别', '愁绪']</td>\n",
       "      <td>悲苦;政治;朋友</td>\n",
       "      <td>悲苦</td>\n",
       "      <td>0</td>\n",
       "      <td>0</td>\n",
       "      <td>0</td>\n",
       "      <td>0</td>\n",
       "      <td>1</td>\n",
       "      <td>1</td>\n",
       "      <td>1</td>\n",
       "      <td>0</td>\n",
       "    </tr>\n",
       "    <tr>\n",
       "      <th>2310</th>\n",
       "      <td>乐府;感叹;悼念</td>\n",
       "      <td>['乐府', '感叹', '悼念']</td>\n",
       "      <td>悲苦;政治</td>\n",
       "      <td>悲苦</td>\n",
       "      <td>0</td>\n",
       "      <td>0</td>\n",
       "      <td>0</td>\n",
       "      <td>0</td>\n",
       "      <td>1</td>\n",
       "      <td>1</td>\n",
       "      <td>0</td>\n",
       "      <td>0</td>\n",
       "    </tr>\n",
       "    <tr>\n",
       "      <th>2459</th>\n",
       "      <td>;写景;追忆;思念;友人</td>\n",
       "      <td>['写景', '追忆', '思念', '友人']</td>\n",
       "      <td>劝勉;悲苦;政治</td>\n",
       "      <td>劝勉</td>\n",
       "      <td>0</td>\n",
       "      <td>1</td>\n",
       "      <td>0</td>\n",
       "      <td>0</td>\n",
       "      <td>1</td>\n",
       "      <td>1</td>\n",
       "      <td>0</td>\n",
       "      <td>0</td>\n",
       "    </tr>\n",
       "  </tbody>\n",
       "</table>\n",
       "</div>"
      ],
      "text/plain": [
       "              tags                 tags_list  new_tags new_first_tag  写物  劝勉  \\\n",
       "4919            思乡                    ['思乡']        悲苦            悲苦   0   0   \n",
       "4546         写景;抒怀              ['写景', '抒怀']     劝勉;政治            劝勉   0   1   \n",
       "5335      写景;离别;愁绪        ['写景', '离别', '愁绪']  悲苦;政治;朋友            悲苦   0   0   \n",
       "2310      乐府;感叹;悼念        ['乐府', '感叹', '悼念']     悲苦;政治            悲苦   0   0   \n",
       "2459  ;写景;追忆;思念;友人  ['写景', '追忆', '思念', '友人']  劝勉;悲苦;政治            劝勉   0   1   \n",
       "\n",
       "      家庭  快乐  悲苦  政治  朋友  游玩  \n",
       "4919   0   0   1   0   0   0  \n",
       "4546   0   0   0   1   0   0  \n",
       "5335   0   0   1   1   1   0  \n",
       "2310   0   0   1   1   0   0  \n",
       "2459   0   0   1   1   0   0  "
      ]
     },
     "execution_count": 9,
     "metadata": {},
     "output_type": "execute_result"
    }
   ],
   "source": [
    "y_train.head()"
   ]
  },
  {
   "cell_type": "markdown",
   "metadata": {},
   "source": [
    "## Tokenizing"
   ]
  },
  {
   "cell_type": "code",
   "execution_count": 10,
   "metadata": {},
   "outputs": [],
   "source": [
    "lm = load_lm('jiayan.klm')"
   ]
  },
  {
   "cell_type": "code",
   "execution_count": 11,
   "metadata": {},
   "outputs": [],
   "source": [
    "from jiayan import WordNgramTokenizer"
   ]
  },
  {
   "cell_type": "code",
   "execution_count": 12,
   "metadata": {},
   "outputs": [
    {
     "name": "stdout",
     "output_type": "stream",
     "text": [
      "0\n",
      "萧萧山路穷秋雨，淅淅溪风一岸蒲。为问寒沙新到雁，来时还下杜陵无。\n",
      "100\n",
      "北斗七星高，哥舒夜带刀。至今窥牧马，不敢过临洮。\n",
      "200\n",
      "憔悴年来甚，萧条益自伤。风威侵病骨，雨气咽愁肠。夜鼎唯煎药，朝髭半染霜。前缘竟何似，谁与问空王。\n",
      "300\n",
      "不是爱风尘，似被前缘误。花落花开自有时，总赖东君主。去也终须去，住也如何住！若得山花插满头，莫问奴归处。\n",
      "400\n",
      "人间无阿童，犹唱水中龙。白草侵烟死，秋藜绕地红。古书平黑石，神剑断青铜。耕势鱼鳞起，坟科马鬣封。菊花垂湿露，棘径卧干蓬。松柏愁香涩，南原几夜风！\n",
      "500\n",
      "羞日遮罗袖，愁春懒起妆。易求无价宝，难得有心郎。枕上潜垂泪，花间暗断肠。自能窥宋玉，何必恨王昌？\n",
      "600\n",
      "英雄立马起沙陀，奈此朱梁跋扈何。只手难扶唐社稷，连城犹拥晋山河。风云帐下奇儿在，鼓角灯前老泪多。萧瑟三垂冈下路，至今人唱《百年歌》。\n",
      "700\n",
      "大夫击东胡，胡尘不敢起。胡人山下哭，胡马海边死。部曲尽公侯，舆台亦朱紫。当时有勋业，末路遭谗毁。转旆燕赵间，剖符括苍里。弟兄莫相见，亲族远枌梓。不改青云心，仍招布衣士。平生怀感激，本欲候知己。去矣难重陈，飘然自兹始。游梁且未遇，适越今何以。乡山西北愁，竹箭东南美。峥嵘缙云外，苍莽几千里。旅雁悲啾啾，朝昏孰云已。登临多瘴疠，动息在风水。虽有贤主人，终为客行子。我携一尊酒，满酌聊劝尔。劝尔惟一言，家声勿沦滓。\n",
      "800\n",
      "候晓逾闽嶂，乘春望越台。宿云鹏际落，残月蚌中开。薜荔摇青气，桄榔翳碧苔。桂香多露裛，石响细泉回。抱叶玄猿啸，衔花翡翠来。南中虽可悦，北思日悠哉。鬒发俄成素，丹心已作灰。何当首归路，行剪故园莱。\n",
      "900\n",
      "一叶扁舟轻帆卷。暂泊楚江南岸。孤城暮角，引胡笳怨。水茫茫，平沙雁、旋惊散。烟敛寒林簇，画屏展。天际遥山小，黛眉浅。旧赏轻抛，到此成游宦。觉客程劳，年光晚。异乡风物，忍萧索、当愁眼。帝城赊，秦楼阻，旅魂乱。芳草连空阔，残照满。佳人无消息，断云远。\n",
      "1000\n",
      "闻道双衔凤带，不妨单著鲛绡。夜香知与阿谁烧。怅望水沈烟袅。云鬓风前绿卷，玉颜醉里红潮。莫教空度可怜宵。月与佳人共僚。\n",
      "1100\n",
      "长乐宫连上苑春，玉楼金殿艳歌新。君门一入无由出，唯有宫莺得见人。\n",
      "1200\n",
      "远岸收残雨。雨残稍觉江天暮。拾翠汀洲人寂静，立双双鸥鹭。望几点、渔灯隐映蒹葭浦。停画桡、两两舟人语。道去程今夜，遥指前村烟树。游宦成羁旅。短樯吟倚闲凝伫。万水千山迷远近，想乡关何处。自别后、风亭月榭孤欢聚。刚断肠、惹得离情苦。听杜宇声声，劝人不如归去。\n",
      "1300\n",
      "洞庭明月一千里，凉风雁啼天在水。九节菖蒲石上死，湘神弹琴迎帝子。山头老桂吹古香，雌龙怨吟寒水光。沙浦走鱼白石郎，闲取真珠掷龙堂。\n",
      "1400\n",
      "祇树夕阳亭，共倾三昧酒。雾暗水连阶，月明花覆牖。莫厌尊前醉，相看未白首。\n",
      "1500\n",
      "侧闻阴山胡儿语，西头热海水如煮。海上众鸟不敢飞，中有鲤鱼长且肥。岸旁青草长不歇，空中白雪遥旋灭。蒸沙烁石燃虏云，沸浪炎波煎汉月。阴火潜烧天地炉，何事偏烘西一隅？势吞月窟侵太白，气连赤坂通单于。送君一醉天山郭，正见夕阳海边落。柏台霜威寒逼人，热海炎气为之薄。\n",
      "1600\n",
      "碧艾香蒲处处忙。谁家儿共女，庆端阳。细缠五色臂丝长。空惆怅，谁复吊沅湘。往事莫论量。千年忠义气，日星光。离骚读罢总堪伤。无人解，树转午阴凉。\n",
      "1700\n",
      "白闻天下谈士相聚而言曰：“生不用封万户侯，但愿一识韩荆州。”何令人之景慕，一至于此耶！岂不以有周公之风，躬吐握之事，使海内豪俊，奔走而归之，一登龙门，则声价十倍！所以龙蟠凤逸之士，皆欲收名定价于君侯。愿君侯不以富贵而骄之、寒贱而忽之，则三千之中有毛遂，使白得颖脱而出，即其人焉。　　白，陇西布衣，流落楚、汉。十五好剑术，遍干诸侯。三十成文章，历抵卿相。虽长不满七尺，而心雄万夫。皆王公大人许与气义。此畴曩心迹，安敢不尽于君侯哉！　　君侯制作侔神明，德行动天地，笔参造化，学究天人。幸愿开张心颜，不以长揖见拒。必若接之以高宴，纵之以清谈，请日试万言，倚马可待。今天下以君侯为文章之司命，人物之权衡，一经品题，便作佳士。而君侯何惜阶前盈尺之地，不使白扬眉吐气，激昂青云耶？　　昔王子师为豫州，未下车，即辟荀慈明，既下车，又辟孔文举；山涛作冀州，甄拔三十余人，或为侍中、尚书，先代所美。而君侯亦荐一严协律，入为秘书郎，中间崔宗之、房习祖、黎昕、许莹之徒，或以才名见知，或以清白见赏。白每观其衔恩抚躬，忠义奋发，以此感激，知君侯推赤心于诸贤腹中，所以不归他人，而愿委身国士。傥急难有用，敢效微躯。　　且人非尧舜，谁能尽善？白谟猷筹画，安能自矜？至于制作，积成卷轴，则欲尘秽视听。恐雕虫小技，不合大人。若赐观刍荛，请给纸墨，兼之书人，然后退扫闲轩，缮写呈上。庶青萍、结绿，长价于薛、卞之门。幸惟下流，大开奖饰，惟君侯图之。\n",
      "1800\n",
      "大风起兮云飞扬，威加海内兮归故乡，安得猛士兮守四方！\n",
      "1900\n",
      "小筑暂高枕，忧时旧有盟。呼樽来揖客，挥麈坐谈兵。云护牙签满，星含宝剑横。封侯非我意，但愿海波平。\n",
      "2000\n",
      "深宫高楼入紫清，金作蛟龙盘绣楹。佳人当窗弄白日，弦将手语弹鸣筝。春风吹落君王耳，此曲乃是升天行。因出天池泛蓬瀛，楼船蹙沓波浪惊。三千双蛾献歌笑，挝钟考鼓宫殿倾，万姓聚舞歌太平。我无为，人自宁。三十六帝欲相迎，仙人飘翩下云輧。帝不去，留镐京。安能为轩辕，独往入窅冥。小臣拜献南山寿，陛下万古垂鸿名。\n",
      "2100\n",
      "新买茱萸半亩堂，苔侵床足月侵墙。天涯芳草迷归路，病叶还禁一夜霜。\n",
      "2200\n",
      "急雨收春，斜风约水。浮红涨绿鱼文起。年年游子惜余春，春归不解招游子。留恨城隅，关情纸尾。阑干长对西曛倚。鸳鸯俱是白头时，江南渭北三千里。\n",
      "2300\n",
      "雕鞍好为莺花住。占取东城南陌路。尽教春思乱如云，莫管世情轻似絮。古来多被虚名误。宁负虚名身莫负。劝君频入醉乡来，此是无愁无恨处。\n",
      "2400\n",
      "山窗游玉女，涧户对琼峰。岩顶翔双凤，潭心倒九龙。酒中浮竹叶，杯上写芙蓉。故验家山赏，惟有风入松。\n",
      "2500\n",
      "阆州城东灵山白，阆州城北玉台碧。松浮欲尽不尽云，江动将崩未崩石。那知根无鬼神会？已觉气与嵩华敌。中原格斗且未归，应结茅斋著青壁。\n",
      "2600\n",
      "壮岁从戎，曾是气吞残虏。阵云高、狼烽夜举。朱颜青鬓，拥雕戈西戍。笑儒冠、自来多误。功名梦断，却泛扁舟吴楚。漫悲歌、伤怀吊古。烟波无际，望秦关何处。叹流年、又成虚度。\n",
      "2700\n",
      "戎州登临胜景，未尝不歌渔父家风，以谢江山。门生请问：先生家风如何？为拟金华道人作此章。一波才动万波随，蓑笠一钩丝。金鳞正深处，千尺也须垂。吞又吐，信还疑，上钩迟。水寒江静，满目青山，载月明归。\n",
      "2800\n",
      "卧闻岳阳城里钟，系舟岳阳城下树。正见空江明月来，云水苍茫失江路。夜深江月弄清辉，水上人歌月下归；一阕声长听不尽，轻舟短楫去如飞。\n",
      "2900\n",
      "士君子立身事主，既名知己，则当竭尽智谋，忠告善道，销患于未形，保治于未然，俾身全而主安。生为名臣，死为上鬼，垂光百世，照耀简策，斯为美也。苟遇知己，不能扶危为未乱之先，而乃捐躯殒命于既败之后；钓名沽誉，眩世骇俗，由君子观之，皆所不取也。　　盖尝因而论之：豫让臣事智伯，及赵襄子杀智伯，让为之报仇。声名烈烈，虽愚夫愚妇莫不知其为忠臣义士也。呜呼！让之死固忠矣，惜乎处死之道有未忠者存焉——何也？观其漆身吞炭，谓其友曰：“凡吾所为者极难，将以愧天下后世之为人臣而怀二心者也。”谓非忠可乎？及观其斩衣三跃，襄子责以不死于中行氏，而独死于智伯。让应曰：“中行氏以众人待我，我故以众人报之；智伯以国士待我，我故以国士报之。”即此而论，让馀徐憾矣。　　段规之事韩康，任章之事魏献，未闻以国士待之也；而规也章也，力劝其主从智伯之请，与之地以骄其志，而速其亡也。郄疵之事智伯，亦未尝以国士待之也；而疵能察韩、魏之情以谏智伯。虽不用其言以至灭亡，而疵之智谋忠告，已无愧于心也。让既自谓智伯待以国士矣，国士——济国之上也。当伯请地无厌之日，纵欲荒暴之时，为让者正宜陈力就列，谆谆然而告之日：“诸侯大夫各安分地，无相侵夺，古之制也。今无故而取地于人，人不与，而吾之忿心必生；与之，则吾之骄心以起。忿必争，争必败；骄必傲，傲必亡”。谆切恳至，谏不从，再谏之，再谏不从，三谏之。三谏不从，移其伏剑之死，死于是日。伯虽顽冥不灵，感其至诚，庶几复悟。和韩、魏，释赵围，保全智宗，守其祭祀。若然，则让虽死犹生也，岂不胜于斩衣而死乎？　　让于此时，曾无一语开悟主心，视伯之危亡，犹越人视秦人之肥瘠也。袖手旁观，坐待成败，国士之报，曾若是乎？智伯既死，而乃不胜血气之悻悻，甘自附于刺客之流。何足道哉，何足道哉！虽然，以国士而论，豫让固不足以当矣；彼朝为仇敌，暮为君臣，腆然而自得者，又让之罪人也。噫！\n",
      "3000\n",
      "昔年有狂客，号尔谪仙人。笔落惊风雨，诗成泣鬼神。声名从此大，汩没一朝伸。文采承殊渥，流传必绝伦。龙舟移棹晚，兽锦夺袍新。白日来深殿，青云满后尘。乞归优诏许，遇我宿心亲。未负幽栖志，兼全宠辱身。剧谈怜野逸，嗜酒见天真。醉舞梁园夜，行歌泗水春。才高心不展，道屈善无邻。处士祢衡俊，诸生原宪贫。稻粱求未足，薏苡谤何频。五岭炎蒸地，三危放逐臣。几年遭鵩鸟，独泣向麒麟。苏武先还汉，黄公岂事秦。楚筵辞醴日，梁狱上书辰。已用当时法，谁将此义陈。老吟秋月下，病起暮江滨。莫怪恩波隔，乘槎与问津。\n",
      "3100\n",
      "我梦扁舟浮震泽。雪浪摇空千顷白。觉来满眼是庐山，倚天无数开青壁。此生长接淅。与君同是江南客。梦中游，觉来清赏，同作飞梭掷。明日西风还挂席。唱我新词泪沾臆。灵均去后楚山空，澧阳兰芷无颜色。君才如梦得。武陵更在西南极。《竹枝词》，莫傜新唱，谁谓古今隔。\n",
      "3200\n",
      "群峭碧摩天，逍遥不记年。拨云寻古道，倚石听流泉。花暖青牛卧，松高白鹤眠。语来江色暮，独自下寒烟。\n",
      "3300\n",
      "明月到今宵，长是不如人约。想见广寒宫殿，正云梳风掠。夜深休更唤笙歌，檐头雨声恶。不是小山词就，这一场寥索。\n",
      "3400\n",
      "薄宦各东西，往事随风雨。先自离歌不忍闻，又何况，春将暮。愁共落花多，人逐征鸿去。君向潇湘我向秦，后会知何处。\n",
      "3500\n",
      "参差烟树灞陵桥，风物尽前朝。衰杨古柳，几经攀折，憔悴楚宫腰。夕阳闲淡秋光老，离思满蘅皋。一曲阳关，断肠声尽，独自凭兰桡。\n",
      "3600\n",
      "金带连环束战袍，马头冲雪度临洮。卷旗夜劫单于帐，乱斫胡兵缺宝刀。\n",
      "3700\n",
      "雨色秋来寒，风严清江爽。孤高绣衣人，潇洒青霞赏。平生多感激，忠义非外奖。祸连积怨生，事及徂川往。楚邦有壮士，鄢郢翻扫荡。申包哭秦庭，泣血将安仰。鞭尸辱已及，堂上罗宿莽。颇似今之人，蟊贼陷忠谠。渺然一水隔，何由税归鞅。日夕听猿怨，怀贤盈梦想。\n",
      "3800\n",
      "少年易学老难成，一寸光阴不可轻。(争议：少年易老学难成)未觉池塘春草梦，阶前梧叶已秋声。\n",
      "3900\n",
      "石溪久住思端午，馆驿楼前看发机。鼙鼓动时雷隐隐，兽头凌处雪微微。冲波突出人齐譀，跃浪争先鸟退飞。向道是龙刚不信，果然夺得锦标归。\n",
      "4000\n",
      "忆昔作少年，结交赵与燕。金羁络骏马，锦带横龙泉。寸心无疑事，所向非徒然。晚节觉此疏，猎精草太玄。空名束壮士，薄俗弃高贤。中回圣明顾，挥翰凌云烟。骑虎不敢下，攀龙忽堕天。还家守清真，孤洁励秋蝉。炼丹费火石，采药穷山川。卧海不关人，租税辽东田。乘兴忽复起，棹歌溪中船。临醉谢葛强，山公欲倒鞭。狂歌自此别，垂钓沧浪前。\n",
      "get there\n",
      "0\n",
      "席谦不见近弹棋，毕曜仍传旧小诗。玉局他年无限笑，白杨今日几人悲。郑公粉绘随长夜，曹霸丹青已白头。天下何曾有山水，人间不解重骅骝。\n",
      "100\n",
      "登百丈山三里许，右俯绝壑，左控垂崖，垒石为磴，十余级乃得度。山之胜，盖自此始。　　循磴而东，即得小涧。石梁跨于其上。皆苍藤古木，虽盛夏亭午无暑气。水皆清澈，自高淙下，其声溅溅然。度石梁，循两崖曲折而上，得山门。小屋三间，不能容十许人，然前瞰涧水，后临石池，风来两峡间，终日不绝。门内跨池又为石梁。度而北，蹑石梯，数级入庵。庵才老屋数间，卑庳迫隘，无足观。独其西阁为胜。水自西谷中循石罅奔射出阁下，南与东谷水并注池中。自池而出，乃为前所谓小涧者。阁据其上流，当水石峻激相搏处，最为可玩。乃壁其后，无所睹。独夜卧其上，则枕席之下，终夕潺潺。久而益悲，为可爱耳。　　出山门而东十许步，得石台。下临峭岸，深昧险绝。于林薄间东南望，见瀑布自前岩穴瀵涌而出，投空下数十尺。其沫乃如散珠喷雾，目光烛之，璀璨夺目，不可正视。台当山西南缺，前揖芦山，一峰独秀出，而数百里间峰峦高下亦皆历历在眼。日薄西山，余光横照，紫翠重迭，不可殚数。旦起下视，白云满川，如海波起伏。而远近诸山出其中者，皆若飞浮来往。或涌或没，顷刻万变。台东径断，乡人凿石容磴以度，而作神祠于其东，水旱祷焉。畏险者或不敢度。然山之可观者，至是则亦穷矣。　　余与刘充父、平父、吕叔敬、表弟徐周宾游之。既皆赋诗以纪其胜，余又叙次其详如此。而其最可观者，石磴、小涧、山门、石台、西阁、瀑布也。因各别为小诗以识其处，呈同游诸君。又以告夫欲往而未能者。\n",
      "200\n",
      "纣为昏乱，虐残忠正。周室何隆，一门三圣。牧野致功，天亦革命。汉祚之兴，阶秦之衰。虽有南面，王道陵夷。炎光再幽，殄灭无遗。\n",
      "300\n",
      "前年伐月支，城下没全师。蕃汉断消息，死生长别离。无人收废帐，归马识残旗。欲祭疑君在，天涯哭此时。\n",
      "400\n",
      "蓬莱正殿压金鳌，红日初生碧海涛。闲著五门遥北望，柘黄新帕御床高。殿前传点各依班，召对西来八诏蛮。上得青花龙尾道，侧身偷觑正南山。龙烟日暖紫瞳瞳，宣政门当玉殿风。五刻阁前卿相出，下帘声在半天中。白玉窗前起草臣，樱桃初赤赐尝新。殿头传语金阶远，只进词来谢圣人。内人对御叠花笺，绣坐移来玉案边。红蜡烛前呈草本，平明舁出阁门宣。千牛仗下放朝初，玉案傍边立起居。每日进来金凤纸，殿头无事不多书。延英引对碧衣郎，江砚宣毫各别床。天子下帘亲考试，宫人手里过茶汤。未明开著九重关，金画黄龙五色幡。直到银台排仗合，圣人三殿对西番。少年天子重边功，亲到凌烟画阁中。教觅勋臣写图本，长将殿里作屏风。丹凤楼门把火开，五云金辂下天来。阶前走马人宣尉，天子南郊一宿回。楼前立仗看宣赦，万岁声长拜舞齐。日照彩盘高百尺，飞仙争上取金鸡。集贤殿里图书满，点勘头边御印同。真迹进来依数字，别收锁在玉函中。秘殿清斋刻漏长，紫微宫女夜焚香。拜陵日近公卿发，卤簿分头入太常。新调白马怕鞭声，供奉骑来绕殿行。为报诸王侵早入，隔门催进打球名。对御难争第一筹，殿前不打背身球。内人唱好龟兹急，天子鞘回过玉楼。新衫一样殿头黄，银带排方獭尾长。总把玉鞭骑御马，绿鬃红额麝香香。罗衫叶叶绣重重，金凤银鹅各一丛。每遍舞时分两向，太平万岁字当中。鱼藻宫中锁翠娥，先皇行处不曾过。如今池底休铺锦，菱角鸡头积渐多。殿前明日中和节，连夜琼林散舞衣。传报所司分蜡烛，监开金锁放入归。五更三点索金车，尽放宫人出看花。仗下一时催立马，殿头先报内园家。城东北面望云楼，半下珠帘半上钩。骑马行人长远过，恐防天子在楼头。射生宫女宿红妆，把得新弓各自张。临上马时齐赐酒，男儿跪拜谢君王。新秋白兔大于拳，红耳霜毛趁草眠。天子不教人射杀，玉鞭遮到马蹄前。内鹰笼脱解红绦，斗胜争飞出手高。直上青云还却下，一双金爪掬花毛。竞渡船头掉采旗，两边溅水湿罗衣。池东争向池西岸，先到先书上字归。灯前飞入玉阶虫，未卧常闻半夜钟。看著中元斋日到，自盘金线绣真容。红灯睡里唤春云，云上三更直宿分。金砌雨来行步滑，两人抬起隐花裙。一时起立吹箫管，得宠人来满殿迎。整顿衣裳皆著却，舞头当拍第三声。琵琶先抹六么头，小管丁宁侧调愁。半夜美人双唱起，一声声出凤凰楼。春池日暖少风波，花里牵船水上歌。遥索剑南新样锦，东宫先钓得鱼多。十三初学擘箜篌，弟子名中被点留。昨日教坊新进入，并房宫女与梳头。红蛮杆拨贴胸前，移坐当头近御筵。用力独弹金殿响，凤凰飞下四条弦。春风吹雨洒旗竿，得出深宫不怕寒。夸道自家能走马，团中横过觅人看。粟金腰带象牙锥，散插红翎玉突枝。旋猎一边还引马，归来鸡兔绕鞍垂。云驳花骢各试行，一般毛色一般缨。殿前来往重骑过，欲得君王别赐名。每夜停灯熨御衣，银熏笼底火霏霏。遥听帐里君王觉，上直钟声始得归。因吃樱桃病放归，三年著破旧罗衣。内中人识从来去，结得金花上贵妃。欲迎天子看花去，下得金阶却悔行。恐见失恩人旧院，回来忆著五弦声。往来旧院不堪修，近敕宣徽别起楼。闻有美人新进入，六宫未见一时愁。自夸歌舞胜诸人，恨未承恩出内频。连夜宫中修别院，地衣帘额一时新。闷来无处可思量，旋下金阶旋忆床。收得山丹红蕊粉，镜前洗却麝香黄。蜂须蝉翅薄松松，浮动搔头似有风。一度出时抛一遍，金条零落满函中。合暗报来门锁了，夜深应别唤笙歌。房房下著珠帘睡，月过金阶白露多。御厨不食索时新，每见花开即苦春。白日卧多娇似病，隔帘教唤女医人。丛丛洗手绕金盆，旋拭红巾入殿门。众里遥抛新摘子，在前收得便承恩。御池水色春来好，处处分流白玉渠。密奏君王知入月，唤人相伴洗裙裾。移来女乐部头边，新赐花檀木五弦。缏得红罗手帕子，中心细画一双蝉。新晴草色绿温暾，山雪初消渐出浑。今日踏青归校晚，传声留著望春门。两楼相换珠帘额，中尉明朝设内家。一样金盘五千面，红酥点出牡丹花。尽送春来出内家，记巡传把一枝花。散时各自烧红烛，相逐行归不上车。家常爱著旧衣裳，空插红梳不作妆。忽地下阶裙带解，非时应得见君王。别敕教歌不出房，一声一遍奏君王。再三博士留残拍，索向宣徽作彻章。行中第一争先舞，博士傍边亦被欺。忽觉管弦偷破拍，急翻罗袖不教知。私缝黄帔舍钗梳，欲得金仙观里居。近被君王知识字，收来案上检文书。月冷江清近猎时，玉阶金瓦雪澌澌。浴堂门外抄名入，公主家人谢面脂。未承恩泽一家愁，乍到宫中忆外头。求守管弦声款逐，侧商调里唱伊州。东风泼火雨新休，舁尽春泥扫雪沟。走马犊车当御路，汉阳宫主进鸡球。风帘水阁压芙蓉，四面钩栏在水中。避热不归金殿宿，秋河织女夜妆红。圣人生日明朝是，私地教人属内监。自写金花红榜子，前头先进凤凰衫。避暑昭阳不掷卢，井边含水喷鸦雏。内中数日无呼唤，拓得滕王蛱蝶图。内宴初秋入二更，殿前灯火一天明。中宫传旨音声散，诸院门开触处行。玉蝉金雀三层插，翠髻高丛绿鬓虚。舞处春风吹落地，归来别赐一头梳。树叶初成鸟护窠，石榴花里笑声多。众中遗却金钗子，拾得从他要赎么。小殿初成粉未乾，贵妃姊妹自来看。为逢好日先移入，续向街西索牡丹。内人相续报花开，准拟君王便看来。逢着五弦琴绣袋，宜春院里按歌回。巡吹慢遍不相和，暗数看谁曲校多。明日梨花园里见，先须逐得内家歌。黄金合里盛红雪，重结香罗四出花。一一傍边书敕字，中官送与大臣家。未明东上阁门开，排仗声从后殿来。阿监两边相对立，遥闻索马一时回。宫人早起笑相呼，不识阶前扫地夫。乞与金钱争借问，外头还似此间无。小随阿姊学吹笙，见好君王赐与名。夜拂玉床朝把镜，黄金殿外不教行。日高殿里有香烟，万岁声长动九天。妃子院中初降诞，内人争乞洗儿钱。宫花不共外花同，正月长生一半红。供御樱桃看守别，直无鸦鹊到园中。殿前铺设两边楼，寒食宫人步打球。一半走来争跪拜，上棚先谢得头筹。太仪前日暖房来，嘱向朝阳乞药栽。敕赐一窠红踯躅，谢恩未了奏花开。御前新赐紫罗襦，步步金阶上软舆。宫局总来为喜乐，院中新拜内尚书。鹦鹉谁教转舌关，内人手里养来奸。语多更觉承恩泽，数对君王忆陇山。分朋闲坐赌樱桃，收却投壶玉腕劳。各把沈香双陆子，局中斗累阿谁高。禁寺红楼内里通，笙歌引驾夹城东。裹头宫监堂前立，手把牙鞘竹弹弓。春风院院落花堆，金锁生衣掣不开。更筑歌台起妆殿，明朝先进画图来。舞来汗湿罗衣彻，楼上人扶下玉梯。归到院中重洗面，金花盆里泼银泥。宿妆残粉未明天，总立昭阳花树边。寒食内人长白打，库中先散与金钱。众中偏得君王笑，偷把金箱笔砚开。书破红蛮隔子上，旋推当直美人来。教遍宫娥唱遍词，暗中头白没人知。楼中日日歌声好，不问从初学阿谁。青楼小妇砑裙长，总被抄名入教坊。春设殿前多队舞，朋头各自请衣裳。水中芹叶土中花，拾得还将避众家。总待别人般数尽，袖中拈出郁金芽。玉箫改调筝移柱，催换红罗绣舞筵。未戴柘枝花帽子，两行宫监在帘前。窗窗户户院相当，总有珠帘玳瑁床。虽道君王不来宿，帐中长是炷牙香。雨入珠帘满殿凉，避风新出玉盆汤。内人恐要秋衣着，不住熏笼换好香。金吾除夜进傩名，画袴朱衣四队行。院院烧灯如白日，沈香火底坐吹笙。树头树底觅残红，一片西飞一片东。自是桃花贪结子，错教人恨五更风。金殿当头紫阁重，仙人掌上玉芙蓉。太平天子朝迎日，五色云车驾六龙。鸳鸯瓦上瞥然声，昼寝宫娥梦里惊。元是我王金弹子，海棠花下打流莺。忽地金舆向月陂，内人接著便相随。却回龙武军前过，当处教开卧鸭池。画作天河刻作牛，玉梭金镊采桥头。每年宫里穿针夜，敕赐诸亲乞巧楼。春来睡困不梳头，懒逐君王苑北游。暂向玉花阶上坐，簸钱赢得两三筹。步行送入长门里，不许来辞旧院花。只恐他时身到此，乞恩求赦放还家。缣罗不著索轻容，对面教人染退红。衫子成来一遍出，明朝半片在园中。弹棋玉指两参差，背局临虚斗著危。先打角头红子落，上三金字半边垂。后宫宫女无多少，尽向园中笑一团。舞蝶落花相觅著，春风共语亦应难。宛转黄金白柄长，青荷叶子画鸳鸯。把来不是呈新样，欲进微风到御床。供御香方加减频，水沈山麝每回新。内中不许相传出，已被医家写与人。药童食后送云浆，高殿无风扇少凉。每到日中重掠鬓，衩衣骑马绕宫廊。\n"
     ]
    },
    {
     "name": "stdout",
     "output_type": "stream",
     "text": [
      "500\n",
      "一春不识西湖面。翠羞红倦。雨窗和泪摇湘管。意长笺短。知心惟有雕梁燕。自来相伴。东风不管琵琶怨。落花吹遍。\n",
      "600\n",
      "五夜光寒，照来积雪平于栈。西风何限，自起披衣看。对此茫茫，不觉成长叹。何时旦，晓星欲散，飞起平沙雁。\n",
      "700\n",
      "金炉犹暖麝煤残。惜香更把宝钗翻。重闻处，余熏在，这一番、气味胜从前。背人偷盖小蓬山。更将沈水暗同然。且图得，氤氲久，为情深、嫌怕断头烟。\n",
      "800\n",
      "忆昔午桥桥上饮，坐中多是豪英。长沟流月去无声。杏花疏影里，吹笛到天明。二十余年如一梦，此身虽在堪惊。闲登小阁看新晴。古今多少事，渔唱起三更。\n",
      "900\n",
      "艳骨已成兰麝土，宫墙依旧压层崖。弩台雨坏逢金镞，香径泥销露玉钗。砚沼只留溪鸟浴，屟廊空信野花埋。姑苏麋鹿真闲事，须为当时一怆怀。\n",
      "1000\n",
      "太史公曰：“先人有言：‘自周公卒五百岁而有孔子。孔子卒后至于今五百岁，有能绍明世、正《易传》，继《春秋》、本《诗》、《书》、《礼》、《乐》之际？’”意在斯乎！意在斯乎！小子何敢让焉！　　上大夫壶遂曰：“昔孔子何为而作《春秋》哉”？太史公曰：“余闻董生曰：‘周道衰废，孔子为鲁司寇，诸侯害子，大夫雍之。孔子知言之不用，道之不行也，是非二百四十二年之中，以为天下仪表，贬天子，退诸侯，讨大夫，以达王事而已矣。’子曰：‘我欲载之空言，不如见之于行事之深切著明也。’夫《春秋》，上明三王之道，下辨人事之纪，别嫌疑，明是非，定犹豫，善善恶恶，贤贤贱不肖，存亡国，继绝世，补弊起废，王道之大者也。《易》著天地、阴阳、四时、五行，故长于变；《礼》经纪人伦，故长于行；《书》记先王之事，。故长于政；《诗》记山川、溪谷、禽兽、草木、牝牡、雌雄，故长于风；《乐》乐所以立，故长于和；《春秋》辨是非，故长于治人。是故《礼》以节人，《乐》以发和，《书》以道事，《诗》以达意，《易》以道化，《春秋》以道义。拨乱世反之正，莫近于《春秋》。《春秋》文成数万，其指数千。万物之散聚皆在《春秋》。《春秋》之中，弑君三十六，亡国五十二，诸侯奔走不得保其社稷者不可胜数。察其所以，皆失其本已。故《易》曰‘失之毫厘，差之千里。’故曰‘臣弑君，子弑父，非一旦一夕之故也，其渐久矣’。故有国者不可以不知《春秋》，前有谗而弗见，后有贼而不知。为人臣者不可以不知《春秋》，守经事而不知其宜，遭变事而不知其权。为人君父而不通于《春秋》之义者，必蒙首恶之名。为人臣子而不通于《春秋》之义者，必陷篡弑之诛，死罪之名。其实皆以为善，为之不知其义，被之空言而不敢辞。夫不通礼义之旨，至于君不君，臣不臣，父不父，子不子。夫君不君则犯，臣不臣则诛，父不父则无道，子不子则不孝。此四行者，天下之大过也。以天下之大过予之，则受而弗敢辞。故《春秋》者，礼义之大宗也。夫礼禁未然之前，法施已然之后；法之所为用者易见，而礼之所为禁者难知。”　　壶遂曰：“孔子之时，上无明君，下不得任用，故作《春秋》，垂空文以断礼义，当一王之法。今夫子上遇明天子，下得守职，万事既具，咸各序其宜，夫子所论，欲以何明？”　　太史公曰：“唯唯，否否，不然。余闻之先人曰：‘伏羲至纯厚，作《易》八卦。尧舜之盛，《尚书》载之，礼乐作焉。汤武之隆，诗人歌之。《春秋》采善贬恶，推三代之德，褒周室，非独刺讥而已也。’汉兴以来，至明天子，获符瑞，封禅，改正朔，易服色，受命于穆清，泽流罔极，海外殊俗，重译款塞，请来献见者不可胜道。臣下百官力诵圣德，犹不能宣尽其意。且士贤能而不用，有国者之耻；主上明圣而德不布闻，有司之过也。且余尝掌其官，废明圣盛德不载，灭功臣世家贤大夫之业不述，堕先人所言，罪莫大焉。余所谓述故事，整齐其世传，非所谓作也，而君比之于《春秋》，谬矣。”　　于是论次其文。七年而太史公遭李陵之祸，幽于缧绁。乃喟然而叹曰：“是余之罪也夫。是余之罪也夫！身毁不用矣！”退而深惟曰：“夫《诗》、《书》隐约者，欲遂其志之思也。昔西伯拘羑里，演《周易》；孔子厄陈、蔡，作《春秋》；屈原放逐，著《离骚》；左丘失明，厥有《国语》；孙子膑脚，而论兵法；不韦迁蜀，世传《吕览》；韩非囚秦，《说难》、《孤愤》；《诗》三百篇，大抵贤圣发愤之所为作也。此人皆意有所郁结，不得通其道也，故述往事，思来者。”于是卒述陶唐以来，至于麟止，自黄帝始。\n",
      "1100\n",
      "代马秋不归，缁纨无复绪。迎寒理衣缝，映月抽纤缕。的皪愁睇光，连娟思眉聚。清露下罗衣，秋风吹玉柱。流阴稍已多，馀光亦难取。\n",
      "1200\n",
      "寝迹衡门下，邈与世相绝。顾盼莫谁知，荆扉昼常闭。凄凄岁暮风，翳翳经日雪。倾耳无希声，在目皓已洁。劲气侵襟袖，箪瓢谢屡设。萧索空宇中，了无一可悦！历览千载书，时时见遗烈。高操非所攀，谬得固穷节。平津苟不由，栖迟讵为拙！寄意一言外，兹契谁能别？\n",
      "1300\n",
      "彭传师于吴江三高堂之前钓雪亭，盖擅渔人之窟宅以供诗境也，赵子野约余赋之。挽住风前柳，问鸱夷当日扁舟，近曾来否？月落潮生无限事，零落茶烟未久。谩留得莼鲈依旧。可是功名从来误，抚荒祠、谁继风流后？今古恨，一搔首。江涵雁影梅花瘦，四无尘、雪飞云起，夜窗如昼。万里乾坤清绝处，付与渔翁钓叟。又恰是、题诗时候。猛拍阑干呼鸥鹭，道他年、我亦垂纶手。飞过我，共樽酒。\n",
      "1400\n",
      "元载相公曾借箸，宪宗皇帝亦留神。旋见衣冠就东市，忽遗弓剑不西巡。牧羊驱马虽戎服，白发丹心尽汉臣。唯有凉州歌舞曲，流传天下乐闲人。\n",
      "1500\n",
      "昔献长杨赋，天开云雨欢。当时待诏承明里，皆道扬雄才可观。敕赐飞龙二天马，黄金络头白玉鞍。浮云蔽日去不返，总为秋风摧紫兰。角巾东出商山道，采秀行歌咏芝草。路逢园绮笑向人，两君解来一何好。闻道金陵龙虎盘，还同谢朓望长安。千峰夹水向秋浦，五松名山当夏寒。铜井炎炉歊九天，赫如铸鼎荆山前。陶公矍铄呵赤电，回禄睢盱扬紫烟。此中岂是久留处，便欲烧丹从列仙。爱听松风且高卧，飕飕吹尽炎氛过。登崖独立望九州，阳春欲奏谁相和？闻君往年游锦城，章仇尚书倒屣迎。飞笺络绎奏明主，天书降问回恩荣。肮脏不能就珪组，至今空扬高蹈名。夫子工文绝世奇，五松新作天下推。吾非谢尚邀彦伯，异代风流各一时。一时相逢乐在今，袖拂白云开素琴，弹为三峡流泉音。从兹一别武陵去，去后桃花春水深。\n",
      "1600\n",
      "乱后玄都失故基，看花诗在只堪悲。刘郎也是人间客，枉向春风怨兔葵。\n",
      "1700\n",
      "青山招不来，偃蹇谁怜汝？岁晚太寒生，唤我溪边住。山头明月来，本在天高处。夜夜入青溪，听读《离骚》去。\n",
      "1800\n",
      "为春憔悴留春住，那禁半霎催归雨。深巷卖樱桃，雨余红更娇。黄昏清泪阁，忍便花飘泊。消得一声莺，东风三月情。\n",
      "1900\n",
      "漠漠秋云澹，红藕香侵槛。枕倚小山屏，金铺向晚扃。睡起横波慢，独望情何限！衰柳数声蝉，魂销似去年。\n",
      "2000\n",
      "春已归来，看美人头上，袅袅春幡。无端风雨，未肯收尽余寒。年时燕子，料今宵梦到西园。浑未辨，黄柑荐酒，更传青韭堆盘？却笑东风，从此便薰梅染柳，更没些闲。闲时又来镜里，转变朱颜。清愁不断，问何人会解连环？生怕见花开花落，朝来塞雁先还。\n"
     ]
    }
   ],
   "source": [
    "#Naive Bayes\n",
    "tokenizer = CharHMMTokenizer(lm)\n",
    "# print(list(tokenizer.tokenize(text)))\n",
    "\n",
    "\n",
    "def tokenize_poem(some_list, f):\n",
    "    result = []\n",
    "    for i, x in enumerate(some_list):\n",
    "        if i % 100 == 0:\n",
    "            print(i)\n",
    "            print(x)\n",
    "        chinese_chars = re.findall(r'[\\u4e00-\\u9fff]+', sample):\n",
    "        chinese_string = \"\".join()\n",
    "        result.append(f(x))\n",
    "    return result\n",
    "X_train_tokenized = tokenize_poem(X_train['content'], lambda x: \" \".join(list(tokenizer.tokenize(x))))\n",
    "print(\"get there\")\n",
    "X_test_tokenized = tokenize_poem(X_test['content'], lambda x: \" \".join(list(tokenizer.tokenize(x))))\n",
    "count_vect = CountVectorizer()\n"
   ]
  },
  {
   "cell_type": "code",
   "execution_count": 13,
   "metadata": {},
   "outputs": [],
   "source": [
    "Encoder = LabelEncoder()\n",
    "y_train_encoded = Encoder.fit_transform(y_train['new_first_tag'])\n",
    "y_test_encoded = Encoder.fit_transform(y_test['new_first_tag'])"
   ]
  },
  {
   "cell_type": "code",
   "execution_count": 14,
   "metadata": {},
   "outputs": [
    {
     "data": {
      "text/plain": [
       "'萧萧 山路 穷 秋雨 ， 淅淅 溪 风 一 岸 蒲 。 为 问 寒沙 新 到 雁 ， 来时 还 下 杜陵 无 。'"
      ]
     },
     "execution_count": 14,
     "metadata": {},
     "output_type": "execute_result"
    }
   ],
   "source": [
    "X_train_tokenized[0]"
   ]
  },
  {
   "cell_type": "code",
   "execution_count": 15,
   "metadata": {},
   "outputs": [],
   "source": [
    "X_train_cv = count_vect.fit_transform(X_train_tokenized)\n",
    "X_test_cv = count_vect.transform(X_test_tokenized)"
   ]
  },
  {
   "cell_type": "code",
   "execution_count": 42,
   "metadata": {},
   "outputs": [],
   "source": [
    "# Tfidf_vect = TfidfVectorizer(max_features=5000)\n",
    "# Tfidf_vect.fit(Corpus['text_final'])\n",
    "# Train_X_Tfidf = Tfidf_vect.transform(Train_X)\n",
    "# Test_X_Tfidf = Tfidf_vect.transform(Test_X)"
   ]
  },
  {
   "cell_type": "markdown",
   "metadata": {},
   "source": [
    "## NB Model"
   ]
  },
  {
   "cell_type": "markdown",
   "metadata": {},
   "source": [
    "### Build Model"
   ]
  },
  {
   "cell_type": "code",
   "execution_count": 43,
   "metadata": {},
   "outputs": [],
   "source": [
    "# word_freq_df = pd.DataFrame(X_train_cv.toarray(), columns=cv.get_feature_names())\n",
    "# top_words_df = pd.DataFrame(word_freq.sum()).sort_values(0, ascending=False)"
   ]
  },
  {
   "cell_type": "code",
   "execution_count": 78,
   "metadata": {},
   "outputs": [],
   "source": [
    "naive_bayes = MultinomialNB()\n"
   ]
  },
  {
   "cell_type": "markdown",
   "metadata": {},
   "source": [
    "### Train the Model"
   ]
  },
  {
   "cell_type": "code",
   "execution_count": 79,
   "metadata": {},
   "outputs": [],
   "source": [
    "naive_bayes.fit(X_train_cv, y_train['new_first_tag'])\n",
    "predictions = naive_bayes.predict(X_test_cv)"
   ]
  },
  {
   "cell_type": "code",
   "execution_count": 80,
   "metadata": {},
   "outputs": [
    {
     "data": {
      "text/plain": [
       "array(['写物', '悲苦', '写物', ..., '写物', '家庭', '写物'], dtype='<U2')"
      ]
     },
     "execution_count": 80,
     "metadata": {},
     "output_type": "execute_result"
    }
   ],
   "source": [
    "predictions"
   ]
  },
  {
   "cell_type": "code",
   "execution_count": 81,
   "metadata": {},
   "outputs": [
    {
     "name": "stdout",
     "output_type": "stream",
     "text": [
      "Accuracy score:  0.40029761904761907\n",
      "Precision score:  0.32712915681378885\n",
      "Recall score:  0.40029761904761907\n"
     ]
    },
    {
     "name": "stderr",
     "output_type": "stream",
     "text": [
      "/home/lindayang16/anaconda3/lib/python3.8/site-packages/sklearn/metrics/_classification.py:1221: UndefinedMetricWarning: Precision is ill-defined and being set to 0.0 in labels with no predicted samples. Use `zero_division` parameter to control this behavior.\n",
      "  _warn_prf(average, modifier, msg_start, len(result))\n"
     ]
    }
   ],
   "source": [
    "print('Accuracy score: ', accuracy_score(y_test['new_first_tag'], predictions))\n",
    "print('Precision score: ', precision_score(y_test['new_first_tag'], predictions, average='weighted'))\n",
    "print('Recall score: ', recall_score(y_test['new_first_tag'], predictions, average='weighted'))"
   ]
  },
  {
   "cell_type": "markdown",
   "metadata": {},
   "source": [
    "## SVM Model"
   ]
  },
  {
   "cell_type": "markdown",
   "metadata": {},
   "source": [
    "### Build the Model"
   ]
  },
  {
   "cell_type": "code",
   "execution_count": 36,
   "metadata": {},
   "outputs": [],
   "source": [
    "SVM = svm.SVC(C=1.0, kernel='linear', degree=3, gamma='auto')"
   ]
  },
  {
   "cell_type": "markdown",
   "metadata": {},
   "source": [
    "### Train the Model"
   ]
  },
  {
   "cell_type": "code",
   "execution_count": 37,
   "metadata": {},
   "outputs": [],
   "source": [
    "SVM.fit(X_train_cv, y_train['new_first_tag'])\n",
    "predictions_SVM = SVM.predict(X_test_cv)"
   ]
  },
  {
   "cell_type": "markdown",
   "metadata": {},
   "source": [
    "### Evaluation"
   ]
  },
  {
   "cell_type": "code",
   "execution_count": 38,
   "metadata": {},
   "outputs": [
    {
     "name": "stdout",
     "output_type": "stream",
     "text": [
      "SVM Accuracy Score ->  34.25742574257426\n"
     ]
    }
   ],
   "source": [
    "print(\"SVM Accuracy Score -> \",accuracy_score(predictions_SVM, y_test['new_first_tag'])*100)"
   ]
  },
  {
   "cell_type": "markdown",
   "metadata": {},
   "source": [
    "## Other Models"
   ]
  },
  {
   "cell_type": "code",
   "execution_count": 14,
   "metadata": {},
   "outputs": [],
   "source": [
    "from skmultilearn.problem_transform import LabelPowerset\n",
    "from sklearn.linear_model import LogisticRegression\n"
   ]
  },
  {
   "cell_type": "code",
   "execution_count": 16,
   "metadata": {},
   "outputs": [],
   "source": [
    "y_train_powerset = y_train.drop(['tags','tags_list','new_tags','new_first_tag'], axis=1)\n",
    "y_test_powerset = y_test.drop(['tags','tags_list','new_tags','new_first_tag'], axis=1)"
   ]
  },
  {
   "cell_type": "code",
   "execution_count": 17,
   "metadata": {},
   "outputs": [
    {
     "data": {
      "text/plain": [
       "4091"
      ]
     },
     "execution_count": 17,
     "metadata": {},
     "output_type": "execute_result"
    }
   ],
   "source": [
    "len(y_train_powerset)"
   ]
  },
  {
   "cell_type": "code",
   "execution_count": 18,
   "metadata": {},
   "outputs": [
    {
     "data": {
      "text/plain": [
       "4091"
      ]
     },
     "execution_count": 18,
     "metadata": {},
     "output_type": "execute_result"
    }
   ],
   "source": [
    "len(X_train_tokenized)"
   ]
  },
  {
   "cell_type": "code",
   "execution_count": null,
   "metadata": {},
   "outputs": [],
   "source": [
    "# initialize label powerset multi-label classifier\n",
    "classifier = LabelPowerset(LogisticRegression())\n",
    "# train\n",
    "classifier.fit(X_train_cv, y_train_powerset)\n",
    "# predict\n",
    "predictions = classifier.predict(X_test_cv)\n",
    "# accuracy\n",
    "print(\"Accuracy = \",accuracy_score(y_train_powerset,predictions))\n",
    "print(\"\\n\")"
   ]
  },
  {
   "cell_type": "markdown",
   "metadata": {},
   "source": [
    "### One vs Rest"
   ]
  },
  {
   "cell_type": "code",
   "execution_count": 19,
   "metadata": {},
   "outputs": [],
   "source": [
    "from sklearn.linear_model import LogisticRegression\n",
    "from sklearn.pipeline import Pipeline\n",
    "from sklearn.metrics import accuracy_score\n",
    "from sklearn.multiclass import OneVsRestClassifier"
   ]
  },
  {
   "cell_type": "code",
   "execution_count": 20,
   "metadata": {},
   "outputs": [],
   "source": [
    "categories = ['写物','劝勉','家庭','快乐','悲苦','政治','朋友','游玩']"
   ]
  },
  {
   "cell_type": "code",
   "execution_count": 22,
   "metadata": {},
   "outputs": [
    {
     "name": "stdout",
     "output_type": "stream",
     "text": [
      "**Processing 写物 comments...**\n"
     ]
    },
    {
     "name": "stderr",
     "output_type": "stream",
     "text": [
      "/home/lindayang16/anaconda3/lib/python3.8/site-packages/sklearn/linear_model/_sag.py:329: ConvergenceWarning: The max_iter was reached which means the coef_ did not converge\n",
      "  warnings.warn(\"The max_iter was reached which means \"\n"
     ]
    },
    {
     "name": "stdout",
     "output_type": "stream",
     "text": [
      "Test accuracy is 0.5818452380952381\n",
      "\n",
      "\n",
      "**Processing 劝勉 comments...**\n"
     ]
    },
    {
     "name": "stderr",
     "output_type": "stream",
     "text": [
      "/home/lindayang16/anaconda3/lib/python3.8/site-packages/sklearn/linear_model/_sag.py:329: ConvergenceWarning: The max_iter was reached which means the coef_ did not converge\n",
      "  warnings.warn(\"The max_iter was reached which means \"\n"
     ]
    },
    {
     "name": "stdout",
     "output_type": "stream",
     "text": [
      "Test accuracy is 0.7723214285714286\n",
      "\n",
      "\n",
      "**Processing 家庭 comments...**\n"
     ]
    },
    {
     "name": "stderr",
     "output_type": "stream",
     "text": [
      "/home/lindayang16/anaconda3/lib/python3.8/site-packages/sklearn/linear_model/_sag.py:329: ConvergenceWarning: The max_iter was reached which means the coef_ did not converge\n",
      "  warnings.warn(\"The max_iter was reached which means \"\n"
     ]
    },
    {
     "name": "stdout",
     "output_type": "stream",
     "text": [
      "Test accuracy is 0.90625\n",
      "\n",
      "\n",
      "**Processing 快乐 comments...**\n"
     ]
    },
    {
     "name": "stderr",
     "output_type": "stream",
     "text": [
      "/home/lindayang16/anaconda3/lib/python3.8/site-packages/sklearn/linear_model/_sag.py:329: ConvergenceWarning: The max_iter was reached which means the coef_ did not converge\n",
      "  warnings.warn(\"The max_iter was reached which means \"\n"
     ]
    },
    {
     "name": "stdout",
     "output_type": "stream",
     "text": [
      "Test accuracy is 0.8690476190476191\n",
      "\n",
      "\n",
      "**Processing 悲苦 comments...**\n"
     ]
    },
    {
     "name": "stderr",
     "output_type": "stream",
     "text": [
      "/home/lindayang16/anaconda3/lib/python3.8/site-packages/sklearn/linear_model/_sag.py:329: ConvergenceWarning: The max_iter was reached which means the coef_ did not converge\n",
      "  warnings.warn(\"The max_iter was reached which means \"\n"
     ]
    },
    {
     "name": "stdout",
     "output_type": "stream",
     "text": [
      "Test accuracy is 0.6091269841269841\n",
      "\n",
      "\n",
      "**Processing 政治 comments...**\n"
     ]
    },
    {
     "name": "stderr",
     "output_type": "stream",
     "text": [
      "/home/lindayang16/anaconda3/lib/python3.8/site-packages/sklearn/linear_model/_sag.py:329: ConvergenceWarning: The max_iter was reached which means the coef_ did not converge\n",
      "  warnings.warn(\"The max_iter was reached which means \"\n"
     ]
    },
    {
     "name": "stdout",
     "output_type": "stream",
     "text": [
      "Test accuracy is 0.5892857142857143\n",
      "\n",
      "\n",
      "**Processing 朋友 comments...**\n"
     ]
    },
    {
     "name": "stderr",
     "output_type": "stream",
     "text": [
      "/home/lindayang16/anaconda3/lib/python3.8/site-packages/sklearn/linear_model/_sag.py:329: ConvergenceWarning: The max_iter was reached which means the coef_ did not converge\n",
      "  warnings.warn(\"The max_iter was reached which means \"\n"
     ]
    },
    {
     "name": "stdout",
     "output_type": "stream",
     "text": [
      "Test accuracy is 0.7847222222222222\n",
      "\n",
      "\n",
      "**Processing 游玩 comments...**\n",
      "Test accuracy is 0.8075396825396826\n",
      "\n",
      "\n",
      "CPU times: user 2.15 s, sys: 6.84 ms, total: 2.16 s\n",
      "Wall time: 2.3 s\n"
     ]
    },
    {
     "name": "stderr",
     "output_type": "stream",
     "text": [
      "/home/lindayang16/anaconda3/lib/python3.8/site-packages/sklearn/linear_model/_sag.py:329: ConvergenceWarning: The max_iter was reached which means the coef_ did not converge\n",
      "  warnings.warn(\"The max_iter was reached which means \"\n"
     ]
    }
   ],
   "source": [
    "%%time\n",
    "\n",
    "# Using pipeline for applying logistic regression and one vs rest classifier\n",
    "LogReg_pipeline = Pipeline([\n",
    "                ('clf', OneVsRestClassifier(LogisticRegression(solver='sag'), n_jobs=-1)),\n",
    "            ])\n",
    "\n",
    "for category in categories:\n",
    "    print('**Processing {} comments...**'.format(category))\n",
    "    \n",
    "    # Training logistic regression model on train data\n",
    "    LogReg_pipeline.fit(X_train_cv, y_train_powerset[category])\n",
    "    \n",
    "    # calculating test accuracy\n",
    "    prediction = LogReg_pipeline.predict(X_test_cv)\n",
    "    print('Test accuracy is {}'.format(accuracy_score(y_test_powerset[category], prediction)))\n",
    "    print(\"\\n\")"
   ]
  },
  {
   "cell_type": "code",
   "execution_count": null,
   "metadata": {},
   "outputs": [],
   "source": []
  }
 ],
 "metadata": {
  "kernelspec": {
   "display_name": "Python 3",
   "language": "python",
   "name": "python3"
  },
  "language_info": {
   "codemirror_mode": {
    "name": "ipython",
    "version": 3
   },
   "file_extension": ".py",
   "mimetype": "text/x-python",
   "name": "python",
   "nbconvert_exporter": "python",
   "pygments_lexer": "ipython3",
   "version": "3.8.3"
  }
 },
 "nbformat": 4,
 "nbformat_minor": 4
}
