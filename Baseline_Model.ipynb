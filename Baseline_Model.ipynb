{
 "cells": [
  {
   "cell_type": "code",
   "execution_count": 15,
   "metadata": {},
   "outputs": [],
   "source": [
    "#import common librarie\n",
    "from zipfile import ZipFile \n",
    "import os.path\n",
    "from os import path\n",
    "import pandas as pd\n",
    "import numpy as np\n",
    "import base64\n",
    "from itertools import groupby\n",
    "from sklearn.model_selection import train_test_split\n",
    "from sklearn.feature_extraction.text import CountVectorizer\n",
    "from sklearn.feature_extraction.text import TfidfVectorizer\n",
    "from sklearn.naive_bayes import MultinomialNB\n",
    "from sklearn import svm\n",
    "from sklearn.preprocessing import LabelEncoder\n",
    "from sklearn.metrics import accuracy_score, precision_score, recall_score\n",
    "from sklearn.metrics import confusion_matrix\n",
    "\n",
    "import matplotlib.pyplot as plt\n",
    "import seaborn as sns\n",
    "\n"
   ]
  },
  {
   "cell_type": "code",
   "execution_count": 2,
   "metadata": {},
   "outputs": [],
   "source": [
    "#import libraries to handle classic chinese word\n",
    "from jiayan import load_lm\n",
    "from jiayan import CharHMMTokenizer"
   ]
  },
  {
   "cell_type": "markdown",
   "metadata": {},
   "source": [
    "# Baseline Model"
   ]
  },
  {
   "cell_type": "markdown",
   "metadata": {},
   "source": [
    "## Load Data"
   ]
  },
  {
   "cell_type": "code",
   "execution_count": 3,
   "metadata": {},
   "outputs": [
    {
     "data": {
      "text/html": [
       "<div>\n",
       "<style scoped>\n",
       "    .dataframe tbody tr th:only-of-type {\n",
       "        vertical-align: middle;\n",
       "    }\n",
       "\n",
       "    .dataframe tbody tr th {\n",
       "        vertical-align: top;\n",
       "    }\n",
       "\n",
       "    .dataframe thead th {\n",
       "        text-align: right;\n",
       "    }\n",
       "</style>\n",
       "<table border=\"1\" class=\"dataframe\">\n",
       "  <thead>\n",
       "    <tr style=\"text-align: right;\">\n",
       "      <th></th>\n",
       "      <th>content</th>\n",
       "      <th>dynasty</th>\n",
       "      <th>author</th>\n",
       "      <th>tags</th>\n",
       "      <th>star</th>\n",
       "      <th>author_stars</th>\n",
       "      <th>title</th>\n",
       "      <th>tags_list</th>\n",
       "    </tr>\n",
       "  </thead>\n",
       "  <tbody>\n",
       "    <tr>\n",
       "      <th>0</th>\n",
       "      <td>《吴都赋》云：“户藏烟浦，家具画船。”唯吴兴为然。春游之盛，西湖未能过也。己酉岁，予与萧时父...</td>\n",
       "      <td>宋代</td>\n",
       "      <td>姜夔</td>\n",
       "      <td>春游;怀人;</td>\n",
       "      <td>64</td>\n",
       "      <td>279</td>\n",
       "      <td>琵琶仙·《吴都赋》云：「户藏烟浦</td>\n",
       "      <td>['春游', '怀人']</td>\n",
       "    </tr>\n",
       "    <tr>\n",
       "      <th>1</th>\n",
       "      <td>《廿一史弹词》第三段说秦汉开场词滚滚长江东逝水，浪花淘尽英雄。是非成败转头空。青山依旧在，几...</td>\n",
       "      <td>明代</td>\n",
       "      <td>杨慎</td>\n",
       "      <td>咏史;抒怀;人生;哲理</td>\n",
       "      <td>3244</td>\n",
       "      <td>131</td>\n",
       "      <td>临江仙·滚滚长江东逝水</td>\n",
       "      <td>['咏史', '抒怀', '人生', '哲理']</td>\n",
       "    </tr>\n",
       "    <tr>\n",
       "      <th>2</th>\n",
       "      <td>《水经》云：“彭蠡之口有石钟山焉。”郦元以为下临深潭，微风鼓浪，水石相搏，声如洪钟。是说也，...</td>\n",
       "      <td>宋代</td>\n",
       "      <td>苏轼</td>\n",
       "      <td>古文观止;纪游;写景;写山</td>\n",
       "      <td>306</td>\n",
       "      <td>4011</td>\n",
       "      <td>石钟山记</td>\n",
       "      <td>['古文观止', '纪游', '写景', '写山']</td>\n",
       "    </tr>\n",
       "    <tr>\n",
       "      <th>3</th>\n",
       "      <td>【序】辛亥之冬，予载雪诣石湖。止既月，授简索句，且征新声，作此两曲。石湖把玩不已，使工妓隶习...</td>\n",
       "      <td>宋代</td>\n",
       "      <td>姜夔</td>\n",
       "      <td>咏物;梅花</td>\n",
       "      <td>74</td>\n",
       "      <td>279</td>\n",
       "      <td>暗香疏影</td>\n",
       "      <td>['咏物', '梅花']</td>\n",
       "    </tr>\n",
       "    <tr>\n",
       "      <th>4</th>\n",
       "      <td>〔一枝花〕　　攀出墙朵朵花，折临路枝枝柳。花攀红蕊嫩，柳折翠条柔，浪子风流。凭着我折柳攀花手...</td>\n",
       "      <td>元代</td>\n",
       "      <td>关汉卿</td>\n",
       "      <td>;散曲;抒情;生活</td>\n",
       "      <td>140</td>\n",
       "      <td>124</td>\n",
       "      <td>【南吕】一枝花不伏老</td>\n",
       "      <td>['散曲', '抒情', '生活']</td>\n",
       "    </tr>\n",
       "  </tbody>\n",
       "</table>\n",
       "</div>"
      ],
      "text/plain": [
       "                                             content dynasty author  \\\n",
       "0  《吴都赋》云：“户藏烟浦，家具画船。”唯吴兴为然。春游之盛，西湖未能过也。己酉岁，予与萧时父...      宋代     姜夔   \n",
       "1  《廿一史弹词》第三段说秦汉开场词滚滚长江东逝水，浪花淘尽英雄。是非成败转头空。青山依旧在，几...      明代     杨慎   \n",
       "2  《水经》云：“彭蠡之口有石钟山焉。”郦元以为下临深潭，微风鼓浪，水石相搏，声如洪钟。是说也，...      宋代     苏轼   \n",
       "3  【序】辛亥之冬，予载雪诣石湖。止既月，授简索句，且征新声，作此两曲。石湖把玩不已，使工妓隶习...      宋代     姜夔   \n",
       "4  〔一枝花〕　　攀出墙朵朵花，折临路枝枝柳。花攀红蕊嫩，柳折翠条柔，浪子风流。凭着我折柳攀花手...      元代    关汉卿   \n",
       "\n",
       "            tags  star  author_stars             title  \\\n",
       "0         春游;怀人;    64           279  琵琶仙·《吴都赋》云：「户藏烟浦   \n",
       "1    咏史;抒怀;人生;哲理  3244           131       临江仙·滚滚长江东逝水   \n",
       "2  古文观止;纪游;写景;写山   306          4011              石钟山记   \n",
       "3          咏物;梅花    74           279              暗香疏影   \n",
       "4      ;散曲;抒情;生活   140           124        【南吕】一枝花不伏老   \n",
       "\n",
       "                    tags_list  \n",
       "0                ['春游', '怀人']  \n",
       "1    ['咏史', '抒怀', '人生', '哲理']  \n",
       "2  ['古文观止', '纪游', '写景', '写山']  \n",
       "3                ['咏物', '梅花']  \n",
       "4          ['散曲', '抒情', '生活']  "
      ]
     },
     "execution_count": 3,
     "metadata": {},
     "output_type": "execute_result"
    }
   ],
   "source": [
    "file_name = \"poems_with_tags.zip\"\n",
    "poem_df = pd.read_csv('poems_with_tags.zip', compression='zip', header=0, quotechar='\"')\n",
    "poem_df.head()"
   ]
  },
  {
   "cell_type": "code",
   "execution_count": 4,
   "metadata": {},
   "outputs": [],
   "source": [
    "poem_df['first_tag'] = poem_df \\\n",
    ".apply(lambda row : row.tags_list[1:-1]\n",
    "       .replace(\"'\",\"\")\n",
    "       .replace(\",\", \"\")\n",
    "       .split(\" \")[0], axis=1)"
   ]
  },
  {
   "cell_type": "markdown",
   "metadata": {},
   "source": [
    "## Split Train and Test Data"
   ]
  },
  {
   "cell_type": "code",
   "execution_count": 41,
   "metadata": {},
   "outputs": [],
   "source": [
    "poems_info = poem_df[['content','dynasty','author','title']]\n",
    "tags = poem_df[['first_tag', 'tags_list']]\n",
    "X_train, X_test, y_train, y_test = train_test_split(poems_info, tags, test_size=0.33)"
   ]
  },
  {
   "cell_type": "code",
   "execution_count": 42,
   "metadata": {},
   "outputs": [
    {
     "data": {
      "text/html": [
       "<div>\n",
       "<style scoped>\n",
       "    .dataframe tbody tr th:only-of-type {\n",
       "        vertical-align: middle;\n",
       "    }\n",
       "\n",
       "    .dataframe tbody tr th {\n",
       "        vertical-align: top;\n",
       "    }\n",
       "\n",
       "    .dataframe thead th {\n",
       "        text-align: right;\n",
       "    }\n",
       "</style>\n",
       "<table border=\"1\" class=\"dataframe\">\n",
       "  <thead>\n",
       "    <tr style=\"text-align: right;\">\n",
       "      <th></th>\n",
       "      <th>content</th>\n",
       "      <th>dynasty</th>\n",
       "      <th>author</th>\n",
       "      <th>title</th>\n",
       "    </tr>\n",
       "  </thead>\n",
       "  <tbody>\n",
       "    <tr>\n",
       "      <th>5411</th>\n",
       "      <td>都护新灭胡，士马气亦粗。萧条虏尘净，突兀天山孤。</td>\n",
       "      <td>唐代</td>\n",
       "      <td>岑参</td>\n",
       "      <td>灭胡曲</td>\n",
       "    </tr>\n",
       "    <tr>\n",
       "      <th>316</th>\n",
       "      <td>中和癸卯春三月，洛阳城外花如雪。东西南北路人绝，绿杨悄悄香尘灭。路旁忽见如花人，独向绿杨阴下...</td>\n",
       "      <td>唐代</td>\n",
       "      <td>韦庄</td>\n",
       "      <td>秦妇吟</td>\n",
       "    </tr>\n",
       "    <tr>\n",
       "      <th>306</th>\n",
       "      <td>两人对酌山花开，一杯一杯复一杯。我醉欲眠卿且去，明朝有意抱琴来。</td>\n",
       "      <td>唐代</td>\n",
       "      <td>李白</td>\n",
       "      <td>山中与幽人对酌</td>\n",
       "    </tr>\n",
       "    <tr>\n",
       "      <th>1028</th>\n",
       "      <td>午梦扁舟花底，香满西湖烟水。急雨打篷声，梦初惊。却是池荷跳雨，散了真珠还聚。聚作水银窝，泻清...</td>\n",
       "      <td>宋代</td>\n",
       "      <td>杨万里</td>\n",
       "      <td>昭君怨·咏荷上雨</td>\n",
       "    </tr>\n",
       "    <tr>\n",
       "      <th>1846</th>\n",
       "      <td>小径红稀，芳郊绿遍。高台树色阴阴见。春风不解禁杨花，蒙蒙乱扑行人面。(蒙通：濛)翠叶藏莺，朱...</td>\n",
       "      <td>宋代</td>\n",
       "      <td>晏殊</td>\n",
       "      <td>踏莎行·小径红稀</td>\n",
       "    </tr>\n",
       "  </tbody>\n",
       "</table>\n",
       "</div>"
      ],
      "text/plain": [
       "                                                content dynasty author  \\\n",
       "5411                           都护新灭胡，士马气亦粗。萧条虏尘净，突兀天山孤。      唐代     岑参   \n",
       "316   中和癸卯春三月，洛阳城外花如雪。东西南北路人绝，绿杨悄悄香尘灭。路旁忽见如花人，独向绿杨阴下...      唐代     韦庄   \n",
       "306                    两人对酌山花开，一杯一杯复一杯。我醉欲眠卿且去，明朝有意抱琴来。      唐代     李白   \n",
       "1028  午梦扁舟花底，香满西湖烟水。急雨打篷声，梦初惊。却是池荷跳雨，散了真珠还聚。聚作水银窝，泻清...      宋代    杨万里   \n",
       "1846  小径红稀，芳郊绿遍。高台树色阴阴见。春风不解禁杨花，蒙蒙乱扑行人面。(蒙通：濛)翠叶藏莺，朱...      宋代     晏殊   \n",
       "\n",
       "         title  \n",
       "5411       灭胡曲  \n",
       "316        秦妇吟  \n",
       "306    山中与幽人对酌  \n",
       "1028  昭君怨·咏荷上雨  \n",
       "1846  踏莎行·小径红稀  "
      ]
     },
     "execution_count": 42,
     "metadata": {},
     "output_type": "execute_result"
    }
   ],
   "source": [
    "X_train.head()"
   ]
  },
  {
   "cell_type": "code",
   "execution_count": 43,
   "metadata": {},
   "outputs": [
    {
     "data": {
      "text/html": [
       "<div>\n",
       "<style scoped>\n",
       "    .dataframe tbody tr th:only-of-type {\n",
       "        vertical-align: middle;\n",
       "    }\n",
       "\n",
       "    .dataframe tbody tr th {\n",
       "        vertical-align: top;\n",
       "    }\n",
       "\n",
       "    .dataframe thead th {\n",
       "        text-align: right;\n",
       "    }\n",
       "</style>\n",
       "<table border=\"1\" class=\"dataframe\">\n",
       "  <thead>\n",
       "    <tr style=\"text-align: right;\">\n",
       "      <th></th>\n",
       "      <th>first_tag</th>\n",
       "      <th>tags_list</th>\n",
       "    </tr>\n",
       "  </thead>\n",
       "  <tbody>\n",
       "    <tr>\n",
       "      <th>5411</th>\n",
       "      <td>边塞</td>\n",
       "      <td>['边塞', '生活', '豪迈']</td>\n",
       "    </tr>\n",
       "    <tr>\n",
       "      <th>316</th>\n",
       "      <td>叙事</td>\n",
       "      <td>['叙事', '长诗']</td>\n",
       "    </tr>\n",
       "    <tr>\n",
       "      <th>306</th>\n",
       "      <td>生活</td>\n",
       "      <td>['生活', '饮酒']</td>\n",
       "    </tr>\n",
       "    <tr>\n",
       "      <th>1028</th>\n",
       "      <td>咏物</td>\n",
       "      <td>['咏物', '写雨']</td>\n",
       "    </tr>\n",
       "    <tr>\n",
       "      <th>1846</th>\n",
       "      <td>婉约</td>\n",
       "      <td>['婉约', '春天', '写景', '抒情', '怅惘']</td>\n",
       "    </tr>\n",
       "  </tbody>\n",
       "</table>\n",
       "</div>"
      ],
      "text/plain": [
       "     first_tag                       tags_list\n",
       "5411        边塞              ['边塞', '生活', '豪迈']\n",
       "316         叙事                    ['叙事', '长诗']\n",
       "306         生活                    ['生活', '饮酒']\n",
       "1028        咏物                    ['咏物', '写雨']\n",
       "1846        婉约  ['婉约', '春天', '写景', '抒情', '怅惘']"
      ]
     },
     "execution_count": 43,
     "metadata": {},
     "output_type": "execute_result"
    }
   ],
   "source": [
    "y_train.head()"
   ]
  },
  {
   "cell_type": "markdown",
   "metadata": {},
   "source": [
    "## Tokenizing"
   ]
  },
  {
   "cell_type": "code",
   "execution_count": 8,
   "metadata": {},
   "outputs": [],
   "source": [
    "lm = load_lm('jiayan.klm')"
   ]
  },
  {
   "cell_type": "code",
   "execution_count": 9,
   "metadata": {},
   "outputs": [],
   "source": [
    "#Naive Bayes\n",
    "tokenizer = CharHMMTokenizer(lm)\n",
    "# print(list(tokenizer.tokenize(text)))\n",
    "\n",
    "\n",
    "def tokenize_poem(some_list, f):\n",
    "    return [f(x) for x in some_list]\n",
    "X_train_tokenized = tokenize_poem(X_train['content'], lambda x: \" \".join(list(tokenizer.tokenize(x))))\n",
    "X_test_tokenized = tokenize_poem(X_test['content'], lambda x: \" \".join(list(tokenizer.tokenize(x))))\n",
    "count_vect = CountVectorizer()\n"
   ]
  },
  {
   "cell_type": "code",
   "execution_count": 25,
   "metadata": {},
   "outputs": [],
   "source": [
    "Encoder = LabelEncoder()\n",
    "y_train_encoded = Encoder.fit_transform(y_train['first_tag'])\n",
    "y_test_encoded = Encoder.fit_transform(y_test['first_tag'])"
   ]
  },
  {
   "cell_type": "code",
   "execution_count": 10,
   "metadata": {},
   "outputs": [],
   "source": [
    "X_train_cv = count_vect.fit_transform(X_train_tokenized)\n",
    "X_test_cv = count_vect.transform(X_test_tokenized)"
   ]
  },
  {
   "cell_type": "code",
   "execution_count": null,
   "metadata": {},
   "outputs": [],
   "source": [
    "# Tfidf_vect = TfidfVectorizer(max_features=5000)\n",
    "# Tfidf_vect.fit(Corpus['text_final'])\n",
    "# Train_X_Tfidf = Tfidf_vect.transform(Train_X)\n",
    "# Test_X_Tfidf = Tfidf_vect.transform(Test_X)"
   ]
  },
  {
   "cell_type": "markdown",
   "metadata": {},
   "source": [
    "## NB Model"
   ]
  },
  {
   "cell_type": "markdown",
   "metadata": {},
   "source": [
    "### Build Model"
   ]
  },
  {
   "cell_type": "code",
   "execution_count": null,
   "metadata": {},
   "outputs": [],
   "source": [
    "# word_freq_df = pd.DataFrame(X_train_cv.toarray(), columns=cv.get_feature_names())\n",
    "# top_words_df = pd.DataFrame(word_freq.sum()).sort_values(0, ascending=False)"
   ]
  },
  {
   "cell_type": "code",
   "execution_count": 27,
   "metadata": {},
   "outputs": [],
   "source": [
    "naive_bayes = MultinomialNB()\n"
   ]
  },
  {
   "cell_type": "markdown",
   "metadata": {},
   "source": [
    "### Train the Model"
   ]
  },
  {
   "cell_type": "code",
   "execution_count": 29,
   "metadata": {},
   "outputs": [],
   "source": [
    "naive_bayes.fit(X_train_cv, y_train['first_tag'])\n",
    "predictions = naive_bayes.predict(X_test_cv)"
   ]
  },
  {
   "cell_type": "code",
   "execution_count": 30,
   "metadata": {},
   "outputs": [
    {
     "data": {
      "text/plain": [
       "array(['春天', '唐诗三百首', '写景', ..., '唐诗三百首', '古文观止', '古文观止'], dtype='<U11')"
      ]
     },
     "execution_count": 30,
     "metadata": {},
     "output_type": "execute_result"
    }
   ],
   "source": [
    "predictions"
   ]
  },
  {
   "cell_type": "code",
   "execution_count": 31,
   "metadata": {},
   "outputs": [
    {
     "name": "stdout",
     "output_type": "stream",
     "text": [
      "Accuracy score:  0.13663366336633664\n",
      "Precision score:  0.09343189343064562\n",
      "Recall score:  0.13663366336633664\n"
     ]
    },
    {
     "name": "stderr",
     "output_type": "stream",
     "text": [
      "/home/lindayang16/anaconda3/lib/python3.8/site-packages/sklearn/metrics/_classification.py:1221: UndefinedMetricWarning: Precision is ill-defined and being set to 0.0 in labels with no predicted samples. Use `zero_division` parameter to control this behavior.\n",
      "  _warn_prf(average, modifier, msg_start, len(result))\n",
      "/home/lindayang16/anaconda3/lib/python3.8/site-packages/sklearn/metrics/_classification.py:1221: UndefinedMetricWarning: Recall is ill-defined and being set to 0.0 in labels with no true samples. Use `zero_division` parameter to control this behavior.\n",
      "  _warn_prf(average, modifier, msg_start, len(result))\n"
     ]
    }
   ],
   "source": [
    "print('Accuracy score: ', accuracy_score(y_test['first_tag'], predictions))\n",
    "print('Precision score: ', precision_score(y_test['first_tag'], predictions, average='weighted'))\n",
    "print('Recall score: ', recall_score(y_test['first_tag'], predictions, average='weighted'))"
   ]
  },
  {
   "cell_type": "markdown",
   "metadata": {},
   "source": [
    "## SVM Model"
   ]
  },
  {
   "cell_type": "markdown",
   "metadata": {},
   "source": [
    "### Build the Model"
   ]
  },
  {
   "cell_type": "code",
   "execution_count": 36,
   "metadata": {},
   "outputs": [],
   "source": [
    "SVM = svm.SVC(C=1.0, kernel='linear', degree=3, gamma='auto')"
   ]
  },
  {
   "cell_type": "markdown",
   "metadata": {},
   "source": [
    "### Train the Model"
   ]
  },
  {
   "cell_type": "code",
   "execution_count": 37,
   "metadata": {},
   "outputs": [],
   "source": [
    "SVM.fit(X_train_cv, y_train['first_tag'])\n",
    "predictions_SVM = SVM.predict(X_test_cv)"
   ]
  },
  {
   "cell_type": "markdown",
   "metadata": {},
   "source": [
    "### Evaluation"
   ]
  },
  {
   "cell_type": "code",
   "execution_count": 39,
   "metadata": {},
   "outputs": [
    {
     "name": "stdout",
     "output_type": "stream",
     "text": [
      "SVM Accuracy Score ->  11.93069306930693\n"
     ]
    }
   ],
   "source": [
    "print(\"SVM Accuracy Score -> \",accuracy_score(predictions_SVM, y_test['first_tag'])*100)"
   ]
  }
 ],
 "metadata": {
  "kernelspec": {
   "display_name": "Python 3",
   "language": "python",
   "name": "python3"
  },
  "language_info": {
   "codemirror_mode": {
    "name": "ipython",
    "version": 3
   },
   "file_extension": ".py",
   "mimetype": "text/x-python",
   "name": "python",
   "nbconvert_exporter": "python",
   "pygments_lexer": "ipython3",
   "version": "3.8.3"
  }
 },
 "nbformat": 4,
 "nbformat_minor": 4
}
