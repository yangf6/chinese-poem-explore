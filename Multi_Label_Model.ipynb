{
 "cells": [
  {
   "cell_type": "code",
   "execution_count": 1,
   "metadata": {},
   "outputs": [],
   "source": [
    "#import common librarie\n",
    "from zipfile import ZipFile \n",
    "import os.path\n",
    "from os import path\n",
    "import pandas as pd\n",
    "import numpy as np\n",
    "import base64\n",
    "from itertools import groupby\n",
    "from sklearn.model_selection import train_test_split\n",
    "from sklearn.feature_extraction.text import CountVectorizer\n",
    "from sklearn.feature_extraction.text import TfidfVectorizer\n",
    "from sklearn.naive_bayes import MultinomialNB\n",
    "from sklearn import svm\n",
    "from sklearn.preprocessing import LabelEncoder\n",
    "from sklearn.metrics import accuracy_score, precision_score, recall_score\n",
    "from sklearn.metrics import confusion_matrix\n",
    "\n",
    "import matplotlib.pyplot as plt\n",
    "import seaborn as sns\n",
    "\n"
   ]
  },
  {
   "cell_type": "code",
   "execution_count": 2,
   "metadata": {},
   "outputs": [],
   "source": [
    "#import libraries to handle classic chinese word\n",
    "from jiayan import load_lm\n",
    "from jiayan import CharHMMTokenizer"
   ]
  },
  {
   "cell_type": "markdown",
   "metadata": {},
   "source": [
    "# Baseline Model"
   ]
  },
  {
   "cell_type": "markdown",
   "metadata": {},
   "source": [
    "## Load Data"
   ]
  },
  {
   "cell_type": "code",
   "execution_count": 3,
   "metadata": {},
   "outputs": [
    {
     "data": {
      "text/html": [
       "<div>\n",
       "<style scoped>\n",
       "    .dataframe tbody tr th:only-of-type {\n",
       "        vertical-align: middle;\n",
       "    }\n",
       "\n",
       "    .dataframe tbody tr th {\n",
       "        vertical-align: top;\n",
       "    }\n",
       "\n",
       "    .dataframe thead th {\n",
       "        text-align: right;\n",
       "    }\n",
       "</style>\n",
       "<table border=\"1\" class=\"dataframe\">\n",
       "  <thead>\n",
       "    <tr style=\"text-align: right;\">\n",
       "      <th></th>\n",
       "      <th>content</th>\n",
       "      <th>dynasty</th>\n",
       "      <th>author</th>\n",
       "      <th>tags</th>\n",
       "      <th>star</th>\n",
       "      <th>author_stars</th>\n",
       "      <th>title</th>\n",
       "      <th>tags_list</th>\n",
       "      <th>new_tags</th>\n",
       "      <th>new_first_tag</th>\n",
       "      <th>写物</th>\n",
       "      <th>劝勉</th>\n",
       "      <th>家庭</th>\n",
       "      <th>快乐</th>\n",
       "      <th>悲苦</th>\n",
       "      <th>政治</th>\n",
       "      <th>朋友</th>\n",
       "      <th>游玩</th>\n",
       "    </tr>\n",
       "  </thead>\n",
       "  <tbody>\n",
       "    <tr>\n",
       "      <th>0</th>\n",
       "      <td>《吴都赋》云：“户藏烟浦，家具画船。”唯吴兴为然。春游之盛，西湖未能过也。己酉岁，予与萧时父...</td>\n",
       "      <td>宋代</td>\n",
       "      <td>姜夔</td>\n",
       "      <td>春游;怀人;</td>\n",
       "      <td>64</td>\n",
       "      <td>279</td>\n",
       "      <td>琵琶仙·《吴都赋》云：「户藏烟浦</td>\n",
       "      <td>['春游', '怀人']</td>\n",
       "      <td>政治;游玩</td>\n",
       "      <td>政治</td>\n",
       "      <td>0</td>\n",
       "      <td>0</td>\n",
       "      <td>0</td>\n",
       "      <td>0</td>\n",
       "      <td>0</td>\n",
       "      <td>1</td>\n",
       "      <td>0</td>\n",
       "      <td>1</td>\n",
       "    </tr>\n",
       "    <tr>\n",
       "      <th>1</th>\n",
       "      <td>《廿一史弹词》第三段说秦汉开场词滚滚长江东逝水，浪花淘尽英雄。是非成败转头空。青山依旧在，几...</td>\n",
       "      <td>明代</td>\n",
       "      <td>杨慎</td>\n",
       "      <td>咏史;抒怀;人生;哲理</td>\n",
       "      <td>3244</td>\n",
       "      <td>131</td>\n",
       "      <td>临江仙·滚滚长江东逝水</td>\n",
       "      <td>['咏史', '抒怀', '人生', '哲理']</td>\n",
       "      <td>写物;劝勉;悲苦;政治</td>\n",
       "      <td>写物</td>\n",
       "      <td>1</td>\n",
       "      <td>1</td>\n",
       "      <td>0</td>\n",
       "      <td>0</td>\n",
       "      <td>1</td>\n",
       "      <td>1</td>\n",
       "      <td>0</td>\n",
       "      <td>0</td>\n",
       "    </tr>\n",
       "    <tr>\n",
       "      <th>2</th>\n",
       "      <td>《水经》云：“彭蠡之口有石钟山焉。”郦元以为下临深潭，微风鼓浪，水石相搏，声如洪钟。是说也，...</td>\n",
       "      <td>宋代</td>\n",
       "      <td>苏轼</td>\n",
       "      <td>古文观止;纪游;写景;写山</td>\n",
       "      <td>306</td>\n",
       "      <td>4011</td>\n",
       "      <td>石钟山记</td>\n",
       "      <td>['古文观止', '纪游', '写景', '写山']</td>\n",
       "      <td>写物;政治;游玩</td>\n",
       "      <td>写物</td>\n",
       "      <td>1</td>\n",
       "      <td>0</td>\n",
       "      <td>0</td>\n",
       "      <td>0</td>\n",
       "      <td>0</td>\n",
       "      <td>1</td>\n",
       "      <td>0</td>\n",
       "      <td>1</td>\n",
       "    </tr>\n",
       "    <tr>\n",
       "      <th>3</th>\n",
       "      <td>【序】辛亥之冬，予载雪诣石湖。止既月，授简索句，且征新声，作此两曲。石湖把玩不已，使工妓隶习...</td>\n",
       "      <td>宋代</td>\n",
       "      <td>姜夔</td>\n",
       "      <td>咏物;梅花</td>\n",
       "      <td>74</td>\n",
       "      <td>279</td>\n",
       "      <td>暗香疏影</td>\n",
       "      <td>['咏物', '梅花']</td>\n",
       "      <td>劝勉</td>\n",
       "      <td>劝勉</td>\n",
       "      <td>0</td>\n",
       "      <td>1</td>\n",
       "      <td>0</td>\n",
       "      <td>0</td>\n",
       "      <td>0</td>\n",
       "      <td>0</td>\n",
       "      <td>0</td>\n",
       "      <td>0</td>\n",
       "    </tr>\n",
       "    <tr>\n",
       "      <th>4</th>\n",
       "      <td>〔一枝花〕　　攀出墙朵朵花，折临路枝枝柳。花攀红蕊嫩，柳折翠条柔，浪子风流。凭着我折柳攀花手...</td>\n",
       "      <td>元代</td>\n",
       "      <td>关汉卿</td>\n",
       "      <td>;散曲;抒情;生活</td>\n",
       "      <td>140</td>\n",
       "      <td>124</td>\n",
       "      <td>【南吕】一枝花不伏老</td>\n",
       "      <td>['散曲', '抒情', '生活']</td>\n",
       "      <td>写物;快乐;悲苦</td>\n",
       "      <td>写物</td>\n",
       "      <td>1</td>\n",
       "      <td>0</td>\n",
       "      <td>0</td>\n",
       "      <td>1</td>\n",
       "      <td>1</td>\n",
       "      <td>0</td>\n",
       "      <td>0</td>\n",
       "      <td>0</td>\n",
       "    </tr>\n",
       "  </tbody>\n",
       "</table>\n",
       "</div>"
      ],
      "text/plain": [
       "                                             content dynasty author  \\\n",
       "0  《吴都赋》云：“户藏烟浦，家具画船。”唯吴兴为然。春游之盛，西湖未能过也。己酉岁，予与萧时父...      宋代     姜夔   \n",
       "1  《廿一史弹词》第三段说秦汉开场词滚滚长江东逝水，浪花淘尽英雄。是非成败转头空。青山依旧在，几...      明代     杨慎   \n",
       "2  《水经》云：“彭蠡之口有石钟山焉。”郦元以为下临深潭，微风鼓浪，水石相搏，声如洪钟。是说也，...      宋代     苏轼   \n",
       "3  【序】辛亥之冬，予载雪诣石湖。止既月，授简索句，且征新声，作此两曲。石湖把玩不已，使工妓隶习...      宋代     姜夔   \n",
       "4  〔一枝花〕　　攀出墙朵朵花，折临路枝枝柳。花攀红蕊嫩，柳折翠条柔，浪子风流。凭着我折柳攀花手...      元代    关汉卿   \n",
       "\n",
       "            tags  star  author_stars             title  \\\n",
       "0         春游;怀人;    64           279  琵琶仙·《吴都赋》云：「户藏烟浦   \n",
       "1    咏史;抒怀;人生;哲理  3244           131       临江仙·滚滚长江东逝水   \n",
       "2  古文观止;纪游;写景;写山   306          4011              石钟山记   \n",
       "3          咏物;梅花    74           279              暗香疏影   \n",
       "4      ;散曲;抒情;生活   140           124        【南吕】一枝花不伏老   \n",
       "\n",
       "                    tags_list     new_tags new_first_tag  写物  劝勉  家庭  快乐  悲苦  \\\n",
       "0                ['春游', '怀人']        政治;游玩            政治   0   0   0   0   0   \n",
       "1    ['咏史', '抒怀', '人生', '哲理']  写物;劝勉;悲苦;政治            写物   1   1   0   0   1   \n",
       "2  ['古文观止', '纪游', '写景', '写山']     写物;政治;游玩            写物   1   0   0   0   0   \n",
       "3                ['咏物', '梅花']           劝勉            劝勉   0   1   0   0   0   \n",
       "4          ['散曲', '抒情', '生活']     写物;快乐;悲苦            写物   1   0   0   1   1   \n",
       "\n",
       "   政治  朋友  游玩  \n",
       "0   1   0   1  \n",
       "1   1   0   0  \n",
       "2   1   0   1  \n",
       "3   0   0   0  \n",
       "4   0   0   0  "
      ]
     },
     "execution_count": 3,
     "metadata": {},
     "output_type": "execute_result"
    }
   ],
   "source": [
    "file_name = \"poems_with_new_tags.zip\"\n",
    "poem_df = pd.read_csv('poems_with_new_tags.zip', compression='zip', header=0, quotechar='\"')\n",
    "poem_df.head()"
   ]
  },
  {
   "cell_type": "markdown",
   "metadata": {},
   "source": [
    "## Split Train and Test Data"
   ]
  },
  {
   "cell_type": "code",
   "execution_count": 4,
   "metadata": {},
   "outputs": [],
   "source": [
    "poems_info = poem_df[['content','dynasty','author','title']]\n",
    "tags = poem_df.drop(['content','dynasty','author','title','star','author_stars'], axis=1)\n",
    "X_train, X_test, y_train, y_test = train_test_split(poems_info, tags, test_size=0.33)"
   ]
  },
  {
   "cell_type": "code",
   "execution_count": 5,
   "metadata": {},
   "outputs": [
    {
     "name": "stdout",
     "output_type": "stream",
     "text": [
      "True\n"
     ]
    }
   ],
   "source": [
    "print(len(X_train)==len(y_train))"
   ]
  },
  {
   "cell_type": "code",
   "execution_count": 6,
   "metadata": {},
   "outputs": [
    {
     "data": {
      "text/html": [
       "<div>\n",
       "<style scoped>\n",
       "    .dataframe tbody tr th:only-of-type {\n",
       "        vertical-align: middle;\n",
       "    }\n",
       "\n",
       "    .dataframe tbody tr th {\n",
       "        vertical-align: top;\n",
       "    }\n",
       "\n",
       "    .dataframe thead th {\n",
       "        text-align: right;\n",
       "    }\n",
       "</style>\n",
       "<table border=\"1\" class=\"dataframe\">\n",
       "  <thead>\n",
       "    <tr style=\"text-align: right;\">\n",
       "      <th></th>\n",
       "      <th>content</th>\n",
       "      <th>dynasty</th>\n",
       "      <th>author</th>\n",
       "      <th>title</th>\n",
       "    </tr>\n",
       "  </thead>\n",
       "  <tbody>\n",
       "    <tr>\n",
       "      <th>543</th>\n",
       "      <td>今夜鄜州月，闺中只独看。遥怜小儿女，未解忆长安。香雾云鬟湿，清辉玉臂寒。何时倚虚幌，双照泪痕干。</td>\n",
       "      <td>唐代</td>\n",
       "      <td>杜甫</td>\n",
       "      <td>月夜</td>\n",
       "    </tr>\n",
       "    <tr>\n",
       "      <th>5181</th>\n",
       "      <td>谷口春残黄鸟稀，辛夷花尽杏花飞。(谷口一作：溪上)始怜幽竹山窗下，不改清阴待我归。</td>\n",
       "      <td>唐代</td>\n",
       "      <td>钱起</td>\n",
       "      <td>晚春归山居题窗前竹暮春归故山草堂诗</td>\n",
       "    </tr>\n",
       "    <tr>\n",
       "      <th>2990</th>\n",
       "      <td>朝云乱人目，帝女湘川宿。折菡巫山下，采荇洞庭腹。故以轻薄好，千里命舻舳。何事非相思，江上葳蕤竹。</td>\n",
       "      <td>南北朝</td>\n",
       "      <td>吴均</td>\n",
       "      <td>登二妃庙</td>\n",
       "    </tr>\n",
       "    <tr>\n",
       "      <th>3585</th>\n",
       "      <td>浮云护月，未放满朱扉。鼠摇暗壁，萤度破窗，偷入书帏。秋意浓，闲伫立，庭柯影里。好风襟袖先知。...</td>\n",
       "      <td>宋代</td>\n",
       "      <td>周邦彦</td>\n",
       "      <td>四园竹·浮云护月</td>\n",
       "    </tr>\n",
       "    <tr>\n",
       "      <th>2312</th>\n",
       "      <td>惠远祠前晋溪水，翠叶银花清见底。水上西山如挂屏，郁郁苍苍三十里。中原北门形势雄，想见城阙云烟...</td>\n",
       "      <td>金朝</td>\n",
       "      <td>元好问</td>\n",
       "      <td>过晋阳故城书事</td>\n",
       "    </tr>\n",
       "  </tbody>\n",
       "</table>\n",
       "</div>"
      ],
      "text/plain": [
       "                                                content dynasty author  \\\n",
       "543    今夜鄜州月，闺中只独看。遥怜小儿女，未解忆长安。香雾云鬟湿，清辉玉臂寒。何时倚虚幌，双照泪痕干。      唐代     杜甫   \n",
       "5181          谷口春残黄鸟稀，辛夷花尽杏花飞。(谷口一作：溪上)始怜幽竹山窗下，不改清阴待我归。      唐代     钱起   \n",
       "2990   朝云乱人目，帝女湘川宿。折菡巫山下，采荇洞庭腹。故以轻薄好，千里命舻舳。何事非相思，江上葳蕤竹。     南北朝     吴均   \n",
       "3585  浮云护月，未放满朱扉。鼠摇暗壁，萤度破窗，偷入书帏。秋意浓，闲伫立，庭柯影里。好风襟袖先知。...      宋代    周邦彦   \n",
       "2312  惠远祠前晋溪水，翠叶银花清见底。水上西山如挂屏，郁郁苍苍三十里。中原北门形势雄，想见城阙云烟...      金朝    元好问   \n",
       "\n",
       "                  title  \n",
       "543                  月夜  \n",
       "5181  晚春归山居题窗前竹暮春归故山草堂诗  \n",
       "2990               登二妃庙  \n",
       "3585           四园竹·浮云护月  \n",
       "2312            过晋阳故城书事  "
      ]
     },
     "execution_count": 6,
     "metadata": {},
     "output_type": "execute_result"
    }
   ],
   "source": [
    "X_train.head()"
   ]
  },
  {
   "cell_type": "code",
   "execution_count": 7,
   "metadata": {},
   "outputs": [
    {
     "data": {
      "text/html": [
       "<div>\n",
       "<style scoped>\n",
       "    .dataframe tbody tr th:only-of-type {\n",
       "        vertical-align: middle;\n",
       "    }\n",
       "\n",
       "    .dataframe tbody tr th {\n",
       "        vertical-align: top;\n",
       "    }\n",
       "\n",
       "    .dataframe thead th {\n",
       "        text-align: right;\n",
       "    }\n",
       "</style>\n",
       "<table border=\"1\" class=\"dataframe\">\n",
       "  <thead>\n",
       "    <tr style=\"text-align: right;\">\n",
       "      <th></th>\n",
       "      <th>tags</th>\n",
       "      <th>tags_list</th>\n",
       "      <th>new_tags</th>\n",
       "      <th>new_first_tag</th>\n",
       "      <th>写物</th>\n",
       "      <th>劝勉</th>\n",
       "      <th>家庭</th>\n",
       "      <th>快乐</th>\n",
       "      <th>悲苦</th>\n",
       "      <th>政治</th>\n",
       "      <th>朋友</th>\n",
       "      <th>游玩</th>\n",
       "    </tr>\n",
       "  </thead>\n",
       "  <tbody>\n",
       "    <tr>\n",
       "      <th>543</th>\n",
       "      <td>唐诗三百首;高中古诗;月亮;思念;女子</td>\n",
       "      <td>['唐诗三百首', '高中古诗', '月亮', '思念', '女子']</td>\n",
       "      <td>写物;悲苦</td>\n",
       "      <td>写物</td>\n",
       "      <td>1</td>\n",
       "      <td>0</td>\n",
       "      <td>0</td>\n",
       "      <td>0</td>\n",
       "      <td>1</td>\n",
       "      <td>0</td>\n",
       "      <td>0</td>\n",
       "      <td>0</td>\n",
       "    </tr>\n",
       "    <tr>\n",
       "      <th>5181</th>\n",
       "      <td>写景;抒情</td>\n",
       "      <td>['写景', '抒情']</td>\n",
       "      <td>悲苦;政治</td>\n",
       "      <td>悲苦</td>\n",
       "      <td>0</td>\n",
       "      <td>0</td>\n",
       "      <td>0</td>\n",
       "      <td>0</td>\n",
       "      <td>1</td>\n",
       "      <td>1</td>\n",
       "      <td>0</td>\n",
       "      <td>0</td>\n",
       "    </tr>\n",
       "    <tr>\n",
       "      <th>2990</th>\n",
       "      <td>咏史怀古;赞颂;写人;爱情;忠贞</td>\n",
       "      <td>['咏史怀古', '赞颂', '写人', '爱情', '忠贞']</td>\n",
       "      <td>写物;家庭;悲苦;政治</td>\n",
       "      <td>写物</td>\n",
       "      <td>1</td>\n",
       "      <td>0</td>\n",
       "      <td>1</td>\n",
       "      <td>0</td>\n",
       "      <td>1</td>\n",
       "      <td>1</td>\n",
       "      <td>0</td>\n",
       "      <td>0</td>\n",
       "    </tr>\n",
       "    <tr>\n",
       "      <th>3585</th>\n",
       "      <td>秋天;夜晚;抒情;思念</td>\n",
       "      <td>['秋天', '夜晚', '抒情', '思念']</td>\n",
       "      <td>悲苦;政治;游玩</td>\n",
       "      <td>悲苦</td>\n",
       "      <td>0</td>\n",
       "      <td>0</td>\n",
       "      <td>0</td>\n",
       "      <td>0</td>\n",
       "      <td>1</td>\n",
       "      <td>1</td>\n",
       "      <td>0</td>\n",
       "      <td>1</td>\n",
       "    </tr>\n",
       "    <tr>\n",
       "      <th>2312</th>\n",
       "      <td>咏史怀古</td>\n",
       "      <td>['咏史怀古']</td>\n",
       "      <td>政治</td>\n",
       "      <td>政治</td>\n",
       "      <td>0</td>\n",
       "      <td>0</td>\n",
       "      <td>0</td>\n",
       "      <td>0</td>\n",
       "      <td>0</td>\n",
       "      <td>1</td>\n",
       "      <td>0</td>\n",
       "      <td>0</td>\n",
       "    </tr>\n",
       "  </tbody>\n",
       "</table>\n",
       "</div>"
      ],
      "text/plain": [
       "                     tags                            tags_list     new_tags  \\\n",
       "543   唐诗三百首;高中古诗;月亮;思念;女子  ['唐诗三百首', '高中古诗', '月亮', '思念', '女子']        写物;悲苦   \n",
       "5181                写景;抒情                         ['写景', '抒情']        悲苦;政治   \n",
       "2990     咏史怀古;赞颂;写人;爱情;忠贞     ['咏史怀古', '赞颂', '写人', '爱情', '忠贞']  写物;家庭;悲苦;政治   \n",
       "3585          秋天;夜晚;抒情;思念             ['秋天', '夜晚', '抒情', '思念']     悲苦;政治;游玩   \n",
       "2312                 咏史怀古                             ['咏史怀古']           政治   \n",
       "\n",
       "     new_first_tag  写物  劝勉  家庭  快乐  悲苦  政治  朋友  游玩  \n",
       "543             写物   1   0   0   0   1   0   0   0  \n",
       "5181            悲苦   0   0   0   0   1   1   0   0  \n",
       "2990            写物   1   0   1   0   1   1   0   0  \n",
       "3585            悲苦   0   0   0   0   1   1   0   1  \n",
       "2312            政治   0   0   0   0   0   1   0   0  "
      ]
     },
     "execution_count": 7,
     "metadata": {},
     "output_type": "execute_result"
    }
   ],
   "source": [
    "y_train.head()"
   ]
  },
  {
   "cell_type": "markdown",
   "metadata": {},
   "source": [
    "## Tokenizing"
   ]
  },
  {
   "cell_type": "code",
   "execution_count": 8,
   "metadata": {},
   "outputs": [],
   "source": [
    "lm = load_lm('jiayan.klm')"
   ]
  },
  {
   "cell_type": "code",
   "execution_count": 9,
   "metadata": {},
   "outputs": [],
   "source": [
    "from jiayan import WordNgramTokenizer"
   ]
  },
  {
   "cell_type": "code",
   "execution_count": 11,
   "metadata": {},
   "outputs": [
    {
     "name": "stdout",
     "output_type": "stream",
     "text": [
      "get there\n"
     ]
    }
   ],
   "source": [
    "#Naive Bayes\n",
    "tokenizer = CharHMMTokenizer(lm)\n",
    "# print(list(tokenizer.tokenize(text)))\n",
    "\n",
    "\n",
    "def tokenize_poem(some_list, f):\n",
    "    result = []\n",
    "    for i, x in enumerate(some_list):\n",
    "        result.append(f(x))\n",
    "    return result\n",
    "X_train_tokenized = tokenize_poem(X_train['content'], lambda x: \" \".join(list(tokenizer.tokenize(x))))\n",
    "print(\"get there\")\n",
    "X_test_tokenized = tokenize_poem(X_test['content'], lambda x: \" \".join(list(tokenizer.tokenize(x))))\n",
    "count_vect = CountVectorizer()\n"
   ]
  },
  {
   "cell_type": "code",
   "execution_count": 12,
   "metadata": {},
   "outputs": [],
   "source": [
    "Encoder = LabelEncoder()\n",
    "y_train_encoded = Encoder.fit_transform(y_train['new_first_tag'])\n",
    "y_test_encoded = Encoder.fit_transform(y_test['new_first_tag'])"
   ]
  },
  {
   "cell_type": "code",
   "execution_count": 13,
   "metadata": {},
   "outputs": [
    {
     "data": {
      "text/plain": [
       "'今夜 鄜州 月 ， 闺中 只 独 看 。 遥 怜 小儿 女 ， 未解 忆长安 。 香雾 云鬟 湿 ， 清辉 玉臂 寒 。 何 时 倚虚幌 ， 双 照 泪痕 干 。'"
      ]
     },
     "execution_count": 13,
     "metadata": {},
     "output_type": "execute_result"
    }
   ],
   "source": [
    "X_train_tokenized[0]"
   ]
  },
  {
   "cell_type": "code",
   "execution_count": 14,
   "metadata": {},
   "outputs": [],
   "source": [
    "X_train_cv = count_vect.fit_transform(X_train_tokenized)\n",
    "X_test_cv = count_vect.transform(X_test_tokenized)"
   ]
  },
  {
   "cell_type": "code",
   "execution_count": 15,
   "metadata": {},
   "outputs": [],
   "source": [
    "# Tfidf_vect = TfidfVectorizer(max_features=5000)\n",
    "# Tfidf_vect.fit(Corpus['text_final'])\n",
    "# Train_X_Tfidf = Tfidf_vect.transform(Train_X)\n",
    "# Test_X_Tfidf = Tfidf_vect.transform(Test_X)"
   ]
  },
  {
   "cell_type": "markdown",
   "metadata": {},
   "source": [
    "## Other Models"
   ]
  },
  {
   "cell_type": "code",
   "execution_count": 32,
   "metadata": {},
   "outputs": [],
   "source": [
    "from skmultilearn.problem_transform import LabelPowerset\n",
    "from sklearn.linear_model import LogisticRegression\n",
    "from sklearn.svm import LinearSVC\n"
   ]
  },
  {
   "cell_type": "code",
   "execution_count": 20,
   "metadata": {},
   "outputs": [],
   "source": [
    "y_train_powerset = y_train.drop(['tags','tags_list','new_tags','new_first_tag'], axis=1)\n",
    "y_test_powerset = y_test.drop(['tags','tags_list','new_tags','new_first_tag'], axis=1)"
   ]
  },
  {
   "cell_type": "code",
   "execution_count": 35,
   "metadata": {},
   "outputs": [
    {
     "data": {
      "text/html": [
       "<div>\n",
       "<style scoped>\n",
       "    .dataframe tbody tr th:only-of-type {\n",
       "        vertical-align: middle;\n",
       "    }\n",
       "\n",
       "    .dataframe tbody tr th {\n",
       "        vertical-align: top;\n",
       "    }\n",
       "\n",
       "    .dataframe thead th {\n",
       "        text-align: right;\n",
       "    }\n",
       "</style>\n",
       "<table border=\"1\" class=\"dataframe\">\n",
       "  <thead>\n",
       "    <tr style=\"text-align: right;\">\n",
       "      <th></th>\n",
       "      <th>写物</th>\n",
       "      <th>劝勉</th>\n",
       "      <th>家庭</th>\n",
       "      <th>快乐</th>\n",
       "      <th>悲苦</th>\n",
       "      <th>政治</th>\n",
       "      <th>朋友</th>\n",
       "      <th>游玩</th>\n",
       "    </tr>\n",
       "  </thead>\n",
       "  <tbody>\n",
       "    <tr>\n",
       "      <th>543</th>\n",
       "      <td>1</td>\n",
       "      <td>0</td>\n",
       "      <td>0</td>\n",
       "      <td>0</td>\n",
       "      <td>1</td>\n",
       "      <td>0</td>\n",
       "      <td>0</td>\n",
       "      <td>0</td>\n",
       "    </tr>\n",
       "    <tr>\n",
       "      <th>5181</th>\n",
       "      <td>0</td>\n",
       "      <td>0</td>\n",
       "      <td>0</td>\n",
       "      <td>0</td>\n",
       "      <td>1</td>\n",
       "      <td>1</td>\n",
       "      <td>0</td>\n",
       "      <td>0</td>\n",
       "    </tr>\n",
       "    <tr>\n",
       "      <th>2990</th>\n",
       "      <td>1</td>\n",
       "      <td>0</td>\n",
       "      <td>1</td>\n",
       "      <td>0</td>\n",
       "      <td>1</td>\n",
       "      <td>1</td>\n",
       "      <td>0</td>\n",
       "      <td>0</td>\n",
       "    </tr>\n",
       "    <tr>\n",
       "      <th>3585</th>\n",
       "      <td>0</td>\n",
       "      <td>0</td>\n",
       "      <td>0</td>\n",
       "      <td>0</td>\n",
       "      <td>1</td>\n",
       "      <td>1</td>\n",
       "      <td>0</td>\n",
       "      <td>1</td>\n",
       "    </tr>\n",
       "    <tr>\n",
       "      <th>2312</th>\n",
       "      <td>0</td>\n",
       "      <td>0</td>\n",
       "      <td>0</td>\n",
       "      <td>0</td>\n",
       "      <td>0</td>\n",
       "      <td>1</td>\n",
       "      <td>0</td>\n",
       "      <td>0</td>\n",
       "    </tr>\n",
       "  </tbody>\n",
       "</table>\n",
       "</div>"
      ],
      "text/plain": [
       "      写物  劝勉  家庭  快乐  悲苦  政治  朋友  游玩\n",
       "543    1   0   0   0   1   0   0   0\n",
       "5181   0   0   0   0   1   1   0   0\n",
       "2990   1   0   1   0   1   1   0   0\n",
       "3585   0   0   0   0   1   1   0   1\n",
       "2312   0   0   0   0   0   1   0   0"
      ]
     },
     "execution_count": 35,
     "metadata": {},
     "output_type": "execute_result"
    }
   ],
   "source": [
    "y_train_powerset.head()"
   ]
  },
  {
   "cell_type": "code",
   "execution_count": 23,
   "metadata": {},
   "outputs": [],
   "source": [
    "# # initialize label powerset multi-label classifier\n",
    "# classifier = LabelPowerset(LogisticRegression())\n",
    "# # train\n",
    "# classifier.fit(X_train_cv, y_train_powerset)\n",
    "# # predict\n",
    "# predictions = classifier.predict(X_test_cv)\n",
    "# # accuracy\n",
    "# print(\"Accuracy = \",accuracy_score(y_train_powerset,predictions))\n",
    "# print(\"\\n\")"
   ]
  },
  {
   "cell_type": "markdown",
   "metadata": {},
   "source": [
    "### One vs Rest"
   ]
  },
  {
   "cell_type": "code",
   "execution_count": 41,
   "metadata": {},
   "outputs": [],
   "source": [
    "from sklearn.linear_model import LogisticRegression\n",
    "from sklearn.pipeline import Pipeline\n",
    "from sklearn.metrics import accuracy_score\n",
    "from sklearn.multiclass import OneVsRestClassifier\n",
    "from sklearn.tree import DecisionTreeClassifier\n",
    "from sklearn import tree"
   ]
  },
  {
   "cell_type": "code",
   "execution_count": 25,
   "metadata": {},
   "outputs": [],
   "source": [
    "categories = ['写物','劝勉','家庭','快乐','悲苦','政治','朋友','游玩']"
   ]
  },
  {
   "cell_type": "code",
   "execution_count": 26,
   "metadata": {},
   "outputs": [
    {
     "name": "stdout",
     "output_type": "stream",
     "text": [
      "**Processing 写物 comments...**\n"
     ]
    },
    {
     "name": "stderr",
     "output_type": "stream",
     "text": [
      "/home/lindayang16/anaconda3/lib/python3.8/site-packages/sklearn/linear_model/_sag.py:329: ConvergenceWarning: The max_iter was reached which means the coef_ did not converge\n",
      "  warnings.warn(\"The max_iter was reached which means \"\n"
     ]
    },
    {
     "name": "stdout",
     "output_type": "stream",
     "text": [
      "Test accuracy is 0.6011904761904762\n",
      "\n",
      "\n",
      "**Processing 劝勉 comments...**\n"
     ]
    },
    {
     "name": "stderr",
     "output_type": "stream",
     "text": [
      "/home/lindayang16/anaconda3/lib/python3.8/site-packages/sklearn/linear_model/_sag.py:329: ConvergenceWarning: The max_iter was reached which means the coef_ did not converge\n",
      "  warnings.warn(\"The max_iter was reached which means \"\n"
     ]
    },
    {
     "name": "stdout",
     "output_type": "stream",
     "text": [
      "Test accuracy is 0.7713293650793651\n",
      "\n",
      "\n",
      "**Processing 家庭 comments...**\n"
     ]
    },
    {
     "name": "stderr",
     "output_type": "stream",
     "text": [
      "/home/lindayang16/anaconda3/lib/python3.8/site-packages/sklearn/linear_model/_sag.py:329: ConvergenceWarning: The max_iter was reached which means the coef_ did not converge\n",
      "  warnings.warn(\"The max_iter was reached which means \"\n"
     ]
    },
    {
     "name": "stdout",
     "output_type": "stream",
     "text": [
      "Test accuracy is 0.9002976190476191\n",
      "\n",
      "\n",
      "**Processing 快乐 comments...**\n"
     ]
    },
    {
     "name": "stderr",
     "output_type": "stream",
     "text": [
      "/home/lindayang16/anaconda3/lib/python3.8/site-packages/sklearn/linear_model/_sag.py:329: ConvergenceWarning: The max_iter was reached which means the coef_ did not converge\n",
      "  warnings.warn(\"The max_iter was reached which means \"\n"
     ]
    },
    {
     "name": "stdout",
     "output_type": "stream",
     "text": [
      "Test accuracy is 0.8586309523809523\n",
      "\n",
      "\n",
      "**Processing 悲苦 comments...**\n"
     ]
    },
    {
     "name": "stderr",
     "output_type": "stream",
     "text": [
      "/home/lindayang16/anaconda3/lib/python3.8/site-packages/sklearn/linear_model/_sag.py:329: ConvergenceWarning: The max_iter was reached which means the coef_ did not converge\n",
      "  warnings.warn(\"The max_iter was reached which means \"\n"
     ]
    },
    {
     "name": "stdout",
     "output_type": "stream",
     "text": [
      "Test accuracy is 0.6190476190476191\n",
      "\n",
      "\n",
      "**Processing 政治 comments...**\n"
     ]
    },
    {
     "name": "stderr",
     "output_type": "stream",
     "text": [
      "/home/lindayang16/anaconda3/lib/python3.8/site-packages/sklearn/linear_model/_sag.py:329: ConvergenceWarning: The max_iter was reached which means the coef_ did not converge\n",
      "  warnings.warn(\"The max_iter was reached which means \"\n"
     ]
    },
    {
     "name": "stdout",
     "output_type": "stream",
     "text": [
      "Test accuracy is 0.5868055555555556\n",
      "\n",
      "\n",
      "**Processing 朋友 comments...**\n"
     ]
    },
    {
     "name": "stderr",
     "output_type": "stream",
     "text": [
      "/home/lindayang16/anaconda3/lib/python3.8/site-packages/sklearn/linear_model/_sag.py:329: ConvergenceWarning: The max_iter was reached which means the coef_ did not converge\n",
      "  warnings.warn(\"The max_iter was reached which means \"\n"
     ]
    },
    {
     "name": "stdout",
     "output_type": "stream",
     "text": [
      "Test accuracy is 0.7901785714285714\n",
      "\n",
      "\n",
      "**Processing 游玩 comments...**\n",
      "Test accuracy is 0.810515873015873\n",
      "\n",
      "\n",
      "CPU times: user 2.29 s, sys: 15.1 ms, total: 2.31 s\n",
      "Wall time: 2.46 s\n"
     ]
    },
    {
     "name": "stderr",
     "output_type": "stream",
     "text": [
      "/home/lindayang16/anaconda3/lib/python3.8/site-packages/sklearn/linear_model/_sag.py:329: ConvergenceWarning: The max_iter was reached which means the coef_ did not converge\n",
      "  warnings.warn(\"The max_iter was reached which means \"\n"
     ]
    }
   ],
   "source": [
    "%%time\n",
    "\n",
    "# Using pipeline for applying logistic regression and one vs rest classifier\n",
    "LogReg_pipeline = Pipeline([\n",
    "                ('clf', OneVsRestClassifier(LogisticRegression(solver='sag'), n_jobs=-1)),\n",
    "            ])\n",
    "\n",
    "for category in categories:\n",
    "    print('**Processing {} comments...**'.format(category))\n",
    "    \n",
    "    # Training logistic regression model on train data\n",
    "    LogReg_pipeline.fit(X_train_cv, y_train_powerset[category])\n",
    "    \n",
    "    # calculating test accuracy\n",
    "    prediction = LogReg_pipeline.predict(X_test_cv)\n",
    "    print('Test accuracy is {}'.format(accuracy_score(y_test_powerset[category], prediction)))\n",
    "    print(\"\\n\")"
   ]
  },
  {
   "cell_type": "code",
   "execution_count": 30,
   "metadata": {},
   "outputs": [
    {
     "name": "stdout",
     "output_type": "stream",
     "text": [
      "**Processing 写物 comments...**\n",
      "Test accuracy is 0.6026785714285714\n",
      "\n",
      "\n",
      "**Processing 劝勉 comments...**\n",
      "Test accuracy is 0.7544642857142857\n",
      "\n",
      "\n",
      "**Processing 家庭 comments...**\n",
      "Test accuracy is 0.8963293650793651\n",
      "\n",
      "\n",
      "**Processing 快乐 comments...**\n",
      "Test accuracy is 0.8521825396825397\n",
      "\n",
      "\n",
      "**Processing 悲苦 comments...**\n",
      "Test accuracy is 0.6041666666666666\n",
      "\n",
      "\n",
      "**Processing 政治 comments...**\n",
      "Test accuracy is 0.6021825396825397\n",
      "\n",
      "\n",
      "**Processing 朋友 comments...**\n",
      "Test accuracy is 0.7703373015873016\n",
      "\n",
      "\n",
      "**Processing 游玩 comments...**\n",
      "Test accuracy is 0.7971230158730159\n",
      "\n",
      "\n",
      "CPU times: user 86.7 ms, sys: 4.1 ms, total: 90.8 ms\n",
      "Wall time: 96.1 ms\n"
     ]
    }
   ],
   "source": [
    "%%time\n",
    "\n",
    "# Using pipeline for applying logistic regression and one vs rest classifier\n",
    "NB_pipeline = Pipeline([('clf', OneVsRestClassifier(MultinomialNB(), n_jobs=-1))])\n",
    "\n",
    "for category in categories:\n",
    "    print('**Processing {} comments...**'.format(category))\n",
    "    \n",
    "    # Training logistic regression model on train data\n",
    "    NB_pipeline.fit(X_train_cv, y_train_powerset[category])\n",
    "    \n",
    "    # calculating test accuracy\n",
    "    prediction = NB_pipeline.predict(X_test_cv)\n",
    "    print('Test accuracy is {}'.format(accuracy_score(y_test_powerset[category], prediction)))\n",
    "    print(\"\\n\")"
   ]
  },
  {
   "cell_type": "code",
   "execution_count": 33,
   "metadata": {},
   "outputs": [
    {
     "name": "stdout",
     "output_type": "stream",
     "text": [
      "**Processing 写物 comments...**\n"
     ]
    },
    {
     "name": "stderr",
     "output_type": "stream",
     "text": [
      "/home/lindayang16/anaconda3/lib/python3.8/site-packages/sklearn/svm/_base.py:976: ConvergenceWarning: Liblinear failed to converge, increase the number of iterations.\n",
      "  warnings.warn(\"Liblinear failed to converge, increase \"\n"
     ]
    },
    {
     "name": "stdout",
     "output_type": "stream",
     "text": [
      "Test accuracy is 0.560515873015873\n",
      "\n",
      "\n",
      "**Processing 劝勉 comments...**\n"
     ]
    },
    {
     "name": "stderr",
     "output_type": "stream",
     "text": [
      "/home/lindayang16/anaconda3/lib/python3.8/site-packages/sklearn/svm/_base.py:976: ConvergenceWarning: Liblinear failed to converge, increase the number of iterations.\n",
      "  warnings.warn(\"Liblinear failed to converge, increase \"\n"
     ]
    },
    {
     "name": "stdout",
     "output_type": "stream",
     "text": [
      "Test accuracy is 0.7202380952380952\n",
      "\n",
      "\n",
      "**Processing 家庭 comments...**\n",
      "Test accuracy is 0.8893849206349206\n",
      "\n",
      "\n",
      "**Processing 快乐 comments...**\n",
      "Test accuracy is 0.8368055555555556\n",
      "\n",
      "\n",
      "**Processing 悲苦 comments...**\n",
      "Test accuracy is 0.5868055555555556\n",
      "\n",
      "\n",
      "**Processing 政治 comments...**\n"
     ]
    },
    {
     "name": "stderr",
     "output_type": "stream",
     "text": [
      "/home/lindayang16/anaconda3/lib/python3.8/site-packages/sklearn/svm/_base.py:976: ConvergenceWarning: Liblinear failed to converge, increase the number of iterations.\n",
      "  warnings.warn(\"Liblinear failed to converge, increase \"\n"
     ]
    },
    {
     "name": "stdout",
     "output_type": "stream",
     "text": [
      "Test accuracy is 0.5709325396825397\n",
      "\n",
      "\n",
      "**Processing 朋友 comments...**\n",
      "Test accuracy is 0.7633928571428571\n",
      "\n",
      "\n",
      "**Processing 游玩 comments...**\n",
      "Test accuracy is 0.7683531746031746\n",
      "\n",
      "\n",
      "CPU times: user 2.1 s, sys: 0 ns, total: 2.1 s\n",
      "Wall time: 2.14 s\n"
     ]
    }
   ],
   "source": [
    "%%time\n",
    "\n",
    "# Using pipeline for applying logistic regression and one vs rest classifier\n",
    "SVC_pipeline = Pipeline([('clf', OneVsRestClassifier(LinearSVC(), n_jobs=-1))])\n",
    "\n",
    "for category in categories:\n",
    "    print('**Processing {} comments...**'.format(category))\n",
    "    \n",
    "    # Training logistic regression model on train data\n",
    "    SVC_pipeline.fit(X_train_cv, y_train_powerset[category])\n",
    "    \n",
    "    # calculating test accuracy\n",
    "    prediction = SVC_pipeline.predict(X_test_cv)\n",
    "    print('Test accuracy is {}'.format(accuracy_score(y_test_powerset[category], prediction)))\n",
    "    print(\"\\n\")"
   ]
  },
  {
   "cell_type": "code",
   "execution_count": 42,
   "metadata": {},
   "outputs": [
    {
     "name": "stdout",
     "output_type": "stream",
     "text": [
      "**Processing 写物 comments...**\n",
      "Test accuracy is 0.5466269841269841\n",
      "\n",
      "\n",
      "**Processing 劝勉 comments...**\n",
      "Test accuracy is 0.6969246031746031\n",
      "\n",
      "\n",
      "**Processing 家庭 comments...**\n",
      "Test accuracy is 0.8412698412698413\n",
      "\n",
      "\n",
      "**Processing 快乐 comments...**\n",
      "Test accuracy is 0.8065476190476191\n",
      "\n",
      "\n",
      "**Processing 悲苦 comments...**\n",
      "Test accuracy is 0.5749007936507936\n",
      "\n",
      "\n",
      "**Processing 政治 comments...**\n",
      "Test accuracy is 0.5550595238095238\n",
      "\n",
      "\n",
      "**Processing 朋友 comments...**\n",
      "Test accuracy is 0.7341269841269841\n",
      "\n",
      "\n",
      "**Processing 游玩 comments...**\n",
      "Test accuracy is 0.7371031746031746\n",
      "\n",
      "\n",
      "CPU times: user 23.3 s, sys: 32 µs, total: 23.3 s\n",
      "Wall time: 23.3 s\n"
     ]
    }
   ],
   "source": [
    "%%time\n",
    "\n",
    "# Using pipeline for applying logistic regression and one vs rest classifier\n",
    "DT_pipeline = Pipeline([\n",
    "                ('clf', OneVsRestClassifier(DecisionTreeClassifier(), n_jobs=-1)),\n",
    "            ])\n",
    "\n",
    "for category in categories:\n",
    "    print('**Processing {} comments...**'.format(category))\n",
    "    \n",
    "    # Training logistic regression model on train data\n",
    "    DT_pipeline.fit(X_train_cv, y_train_powerset[category])\n",
    "    \n",
    "    # calculating test accuracy\n",
    "    prediction = DT_pipeline.predict(X_test_cv)\n",
    "    print('Test accuracy is {}'.format(accuracy_score(y_test_powerset[category], prediction)))\n",
    "    print(\"\\n\")"
   ]
  },
  {
   "cell_type": "markdown",
   "metadata": {},
   "source": [
    "### Clasification Chain"
   ]
  },
  {
   "cell_type": "code",
   "execution_count": 34,
   "metadata": {},
   "outputs": [
    {
     "data": {
      "text/plain": [
       "0.054563492063492064"
      ]
     },
     "execution_count": 34,
     "metadata": {},
     "output_type": "execute_result"
    }
   ],
   "source": [
    "# using classifier chains\n",
    "from skmultilearn.problem_transform import ClassifierChain\n",
    "from sklearn.naive_bayes import GaussianNB\n",
    "\n",
    "# initialize classifier chains multi-label classifier\n",
    "# with a gaussian naive bayes base classifier\n",
    "classifier = ClassifierChain(GaussianNB())\n",
    "\n",
    "# train\n",
    "classifier.fit(X_train_cv, y_train_powerset)\n",
    "\n",
    "# predict\n",
    "predictions = classifier.predict(X_test_cv)\n",
    "\n",
    "accuracy_score(y_test_powerset,predictions)"
   ]
  },
  {
   "cell_type": "code",
   "execution_count": 37,
   "metadata": {},
   "outputs": [
    {
     "ename": "ValueError",
     "evalue": "Found input variables with inconsistent numbers of samples: [4091, 2016]",
     "output_type": "error",
     "traceback": [
      "\u001b[0;31m---------------------------------------------------------------------------\u001b[0m",
      "\u001b[0;31mValueError\u001b[0m                                Traceback (most recent call last)",
      "\u001b[0;32m<ipython-input-37-09cf335bc8de>\u001b[0m in \u001b[0;36m<module>\u001b[0;34m\u001b[0m\n\u001b[1;32m      6\u001b[0m \u001b[0mpredictions\u001b[0m \u001b[0;34m=\u001b[0m \u001b[0mclassifier\u001b[0m\u001b[0;34m.\u001b[0m\u001b[0mpredict\u001b[0m\u001b[0;34m(\u001b[0m\u001b[0mX_test_cv\u001b[0m\u001b[0;34m)\u001b[0m\u001b[0;34m\u001b[0m\u001b[0;34m\u001b[0m\u001b[0m\n\u001b[1;32m      7\u001b[0m \u001b[0;31m# accuracy\u001b[0m\u001b[0;34m\u001b[0m\u001b[0;34m\u001b[0m\u001b[0;34m\u001b[0m\u001b[0m\n\u001b[0;32m----> 8\u001b[0;31m \u001b[0mprint\u001b[0m\u001b[0;34m(\u001b[0m\u001b[0;34m\"Accuracy = \"\u001b[0m\u001b[0;34m,\u001b[0m\u001b[0maccuracy_score\u001b[0m\u001b[0;34m(\u001b[0m\u001b[0my_train_powerset\u001b[0m\u001b[0;34m,\u001b[0m\u001b[0mpredictions\u001b[0m\u001b[0;34m)\u001b[0m\u001b[0;34m)\u001b[0m\u001b[0;34m\u001b[0m\u001b[0;34m\u001b[0m\u001b[0m\n\u001b[0m\u001b[1;32m      9\u001b[0m \u001b[0mprint\u001b[0m\u001b[0;34m(\u001b[0m\u001b[0;34m\"\\n\"\u001b[0m\u001b[0;34m)\u001b[0m\u001b[0;34m\u001b[0m\u001b[0;34m\u001b[0m\u001b[0m\n",
      "\u001b[0;32m~/anaconda3/lib/python3.8/site-packages/sklearn/utils/validation.py\u001b[0m in \u001b[0;36minner_f\u001b[0;34m(*args, **kwargs)\u001b[0m\n\u001b[1;32m     71\u001b[0m                           FutureWarning)\n\u001b[1;32m     72\u001b[0m         \u001b[0mkwargs\u001b[0m\u001b[0;34m.\u001b[0m\u001b[0mupdate\u001b[0m\u001b[0;34m(\u001b[0m\u001b[0;34m{\u001b[0m\u001b[0mk\u001b[0m\u001b[0;34m:\u001b[0m \u001b[0marg\u001b[0m \u001b[0;32mfor\u001b[0m \u001b[0mk\u001b[0m\u001b[0;34m,\u001b[0m \u001b[0marg\u001b[0m \u001b[0;32min\u001b[0m \u001b[0mzip\u001b[0m\u001b[0;34m(\u001b[0m\u001b[0msig\u001b[0m\u001b[0;34m.\u001b[0m\u001b[0mparameters\u001b[0m\u001b[0;34m,\u001b[0m \u001b[0margs\u001b[0m\u001b[0;34m)\u001b[0m\u001b[0;34m}\u001b[0m\u001b[0;34m)\u001b[0m\u001b[0;34m\u001b[0m\u001b[0;34m\u001b[0m\u001b[0m\n\u001b[0;32m---> 73\u001b[0;31m         \u001b[0;32mreturn\u001b[0m \u001b[0mf\u001b[0m\u001b[0;34m(\u001b[0m\u001b[0;34m**\u001b[0m\u001b[0mkwargs\u001b[0m\u001b[0;34m)\u001b[0m\u001b[0;34m\u001b[0m\u001b[0;34m\u001b[0m\u001b[0m\n\u001b[0m\u001b[1;32m     74\u001b[0m     \u001b[0;32mreturn\u001b[0m \u001b[0minner_f\u001b[0m\u001b[0;34m\u001b[0m\u001b[0;34m\u001b[0m\u001b[0m\n\u001b[1;32m     75\u001b[0m \u001b[0;34m\u001b[0m\u001b[0m\n",
      "\u001b[0;32m~/anaconda3/lib/python3.8/site-packages/sklearn/metrics/_classification.py\u001b[0m in \u001b[0;36maccuracy_score\u001b[0;34m(y_true, y_pred, normalize, sample_weight)\u001b[0m\n\u001b[1;32m    185\u001b[0m \u001b[0;34m\u001b[0m\u001b[0m\n\u001b[1;32m    186\u001b[0m     \u001b[0;31m# Compute accuracy for each possible representation\u001b[0m\u001b[0;34m\u001b[0m\u001b[0;34m\u001b[0m\u001b[0;34m\u001b[0m\u001b[0m\n\u001b[0;32m--> 187\u001b[0;31m     \u001b[0my_type\u001b[0m\u001b[0;34m,\u001b[0m \u001b[0my_true\u001b[0m\u001b[0;34m,\u001b[0m \u001b[0my_pred\u001b[0m \u001b[0;34m=\u001b[0m \u001b[0m_check_targets\u001b[0m\u001b[0;34m(\u001b[0m\u001b[0my_true\u001b[0m\u001b[0;34m,\u001b[0m \u001b[0my_pred\u001b[0m\u001b[0;34m)\u001b[0m\u001b[0;34m\u001b[0m\u001b[0;34m\u001b[0m\u001b[0m\n\u001b[0m\u001b[1;32m    188\u001b[0m     \u001b[0mcheck_consistent_length\u001b[0m\u001b[0;34m(\u001b[0m\u001b[0my_true\u001b[0m\u001b[0;34m,\u001b[0m \u001b[0my_pred\u001b[0m\u001b[0;34m,\u001b[0m \u001b[0msample_weight\u001b[0m\u001b[0;34m)\u001b[0m\u001b[0;34m\u001b[0m\u001b[0;34m\u001b[0m\u001b[0m\n\u001b[1;32m    189\u001b[0m     \u001b[0;32mif\u001b[0m \u001b[0my_type\u001b[0m\u001b[0;34m.\u001b[0m\u001b[0mstartswith\u001b[0m\u001b[0;34m(\u001b[0m\u001b[0;34m'multilabel'\u001b[0m\u001b[0;34m)\u001b[0m\u001b[0;34m:\u001b[0m\u001b[0;34m\u001b[0m\u001b[0;34m\u001b[0m\u001b[0m\n",
      "\u001b[0;32m~/anaconda3/lib/python3.8/site-packages/sklearn/metrics/_classification.py\u001b[0m in \u001b[0;36m_check_targets\u001b[0;34m(y_true, y_pred)\u001b[0m\n\u001b[1;32m     79\u001b[0m     \u001b[0my_pred\u001b[0m \u001b[0;34m:\u001b[0m \u001b[0marray\u001b[0m \u001b[0;32mor\u001b[0m \u001b[0mindicator\u001b[0m \u001b[0mmatrix\u001b[0m\u001b[0;34m\u001b[0m\u001b[0;34m\u001b[0m\u001b[0m\n\u001b[1;32m     80\u001b[0m     \"\"\"\n\u001b[0;32m---> 81\u001b[0;31m     \u001b[0mcheck_consistent_length\u001b[0m\u001b[0;34m(\u001b[0m\u001b[0my_true\u001b[0m\u001b[0;34m,\u001b[0m \u001b[0my_pred\u001b[0m\u001b[0;34m)\u001b[0m\u001b[0;34m\u001b[0m\u001b[0;34m\u001b[0m\u001b[0m\n\u001b[0m\u001b[1;32m     82\u001b[0m     \u001b[0mtype_true\u001b[0m \u001b[0;34m=\u001b[0m \u001b[0mtype_of_target\u001b[0m\u001b[0;34m(\u001b[0m\u001b[0my_true\u001b[0m\u001b[0;34m)\u001b[0m\u001b[0;34m\u001b[0m\u001b[0;34m\u001b[0m\u001b[0m\n\u001b[1;32m     83\u001b[0m     \u001b[0mtype_pred\u001b[0m \u001b[0;34m=\u001b[0m \u001b[0mtype_of_target\u001b[0m\u001b[0;34m(\u001b[0m\u001b[0my_pred\u001b[0m\u001b[0;34m)\u001b[0m\u001b[0;34m\u001b[0m\u001b[0;34m\u001b[0m\u001b[0m\n",
      "\u001b[0;32m~/anaconda3/lib/python3.8/site-packages/sklearn/utils/validation.py\u001b[0m in \u001b[0;36mcheck_consistent_length\u001b[0;34m(*arrays)\u001b[0m\n\u001b[1;32m    254\u001b[0m     \u001b[0muniques\u001b[0m \u001b[0;34m=\u001b[0m \u001b[0mnp\u001b[0m\u001b[0;34m.\u001b[0m\u001b[0munique\u001b[0m\u001b[0;34m(\u001b[0m\u001b[0mlengths\u001b[0m\u001b[0;34m)\u001b[0m\u001b[0;34m\u001b[0m\u001b[0;34m\u001b[0m\u001b[0m\n\u001b[1;32m    255\u001b[0m     \u001b[0;32mif\u001b[0m \u001b[0mlen\u001b[0m\u001b[0;34m(\u001b[0m\u001b[0muniques\u001b[0m\u001b[0;34m)\u001b[0m \u001b[0;34m>\u001b[0m \u001b[0;36m1\u001b[0m\u001b[0;34m:\u001b[0m\u001b[0;34m\u001b[0m\u001b[0;34m\u001b[0m\u001b[0m\n\u001b[0;32m--> 256\u001b[0;31m         raise ValueError(\"Found input variables with inconsistent numbers of\"\n\u001b[0m\u001b[1;32m    257\u001b[0m                          \" samples: %r\" % [int(l) for l in lengths])\n\u001b[1;32m    258\u001b[0m \u001b[0;34m\u001b[0m\u001b[0m\n",
      "\u001b[0;31mValueError\u001b[0m: Found input variables with inconsistent numbers of samples: [4091, 2016]"
     ]
    }
   ],
   "source": [
    "# initialize label powerset multi-label classifier\n",
    "classifier = LabelPowerset(GaussianNB())\n",
    "# train\n",
    "classifier.fit(X_train_cv, y_train_powerset)\n",
    "# predict\n",
    "predictions = classifier.predict(X_test_cv)\n"
   ]
  },
  {
   "cell_type": "code",
   "execution_count": 38,
   "metadata": {},
   "outputs": [
    {
     "name": "stdout",
     "output_type": "stream",
     "text": [
      "Accuracy =  0.06944444444444445\n",
      "\n",
      "\n"
     ]
    }
   ],
   "source": [
    "# accuracy\n",
    "print(\"Accuracy = \",accuracy_score(y_test_powerset,predictions))\n",
    "print(\"\\n\")"
   ]
  },
  {
   "cell_type": "code",
   "execution_count": 40,
   "metadata": {},
   "outputs": [
    {
     "data": {
      "text/plain": [
       "<1x8 sparse matrix of type '<class 'numpy.int64'>'\n",
       "\twith 3 stored elements in List of Lists format>"
      ]
     },
     "execution_count": 40,
     "metadata": {},
     "output_type": "execute_result"
    }
   ],
   "source": [
    "predictions"
   ]
  },
  {
   "cell_type": "code",
   "execution_count": null,
   "metadata": {},
   "outputs": [],
   "source": []
  }
 ],
 "metadata": {
  "kernelspec": {
   "display_name": "Python 3",
   "language": "python",
   "name": "python3"
  },
  "language_info": {
   "codemirror_mode": {
    "name": "ipython",
    "version": 3
   },
   "file_extension": ".py",
   "mimetype": "text/x-python",
   "name": "python",
   "nbconvert_exporter": "python",
   "pygments_lexer": "ipython3",
   "version": "3.8.3"
  }
 },
 "nbformat": 4,
 "nbformat_minor": 4
}
